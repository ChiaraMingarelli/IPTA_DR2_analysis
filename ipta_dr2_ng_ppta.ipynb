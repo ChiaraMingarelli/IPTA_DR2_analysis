{
 "cells": [
  {
   "cell_type": "markdown",
   "metadata": {},
   "source": [
    "# Analyzing IPTA DR2 Data\n",
    "\n",
    "In this notebook we will use `enterprise` to analyze the IPTA DR2 for a stochastic GW background using the NANOGrav 9 year data and the PPTA data that went into DR2 from the PPTA."
   ]
  },
  {
   "cell_type": "code",
   "execution_count": 1,
   "metadata": {
    "collapsed": false
   },
   "outputs": [],
   "source": [
    "% matplotlib inline\n",
    "%config InlineBackend.figure_format = 'retina'\n",
    "#%load_ext line_profiler\n",
    "\n",
    "from __future__ import division\n",
    "\n",
    "import numpy as np\n",
    "import glob\n",
    "import matplotlib.pyplot as plt\n",
    "import scipy.linalg as sl\n",
    "\n",
    "import enterprise\n",
    "from enterprise.pulsar import Pulsar\n",
    "import enterprise.signals.parameter as parameter\n",
    "from enterprise.signals import utils\n",
    "from enterprise.signals import signal_base\n",
    "from enterprise.signals import selections\n",
    "from enterprise.signals.selections import Selection\n",
    "from enterprise.signals import white_signals\n",
    "from enterprise.signals import gp_signals\n",
    "from enterprise.signals import deterministic_signals\n",
    "\n",
    "import corner\n",
    "from PTMCMCSampler.PTMCMCSampler import PTSampler as ptmcmc\n",
    "\n",
    "import json"
   ]
  },
  {
   "cell_type": "markdown",
   "metadata": {},
   "source": [
    "### Function to convert PAL2 noise parameters to enterprise parameter dict"
   ]
  },
  {
   "cell_type": "code",
   "execution_count": 2,
   "metadata": {
    "collapsed": true
   },
   "outputs": [],
   "source": [
    "def get_noise_from_pal2(noisefile):\n",
    "    psrname = noisefile.split('/')[-1].split('_noise.txt')[0]\n",
    "    fin = open(noisefile, 'r')\n",
    "    lines = fin.readlines()\n",
    "    params = {}\n",
    "    for line in lines:\n",
    "        ln = line.split()\n",
    "        if 'efac' in line:\n",
    "            par = 'efac'\n",
    "            flag = ln[0].split('efac-')[-1]\n",
    "        elif 'equad' in line:\n",
    "            par = 'log10_equad'\n",
    "            flag = ln[0].split('equad-')[-1]\n",
    "        elif 'jitter_q' in line:\n",
    "            par = 'log10_ecorr'\n",
    "            flag = ln[0].split('jitter_q-')[-1]\n",
    "        elif 'RN-Amplitude' in line:\n",
    "            par = 'log10_A'\n",
    "            flag = ''\n",
    "        elif 'RN-spectral-index' in line:\n",
    "            par = 'gamma'\n",
    "            flag = ''\n",
    "        else:\n",
    "            break\n",
    "        if flag:\n",
    "            name = [psrname, flag, par]\n",
    "        else:\n",
    "            name = [psrname, par]\n",
    "        pname = '_'.join(name)\n",
    "        params.update({pname: float(ln[1])})\n",
    "    return params"
   ]
  },
  {
   "cell_type": "code",
   "execution_count": 3,
   "metadata": {
    "collapsed": true
   },
   "outputs": [],
   "source": [
    "class JumpProposal(object):\n",
    "    \n",
    "    def __init__(self, pta):\n",
    "        \"\"\"Set up some custom jump proposals\n",
    "        \n",
    "        :param params: A list of `enterprise` parameters\n",
    "        \n",
    "        \"\"\"\n",
    "        self.params = pta.params\n",
    "        self.npar = len(pta.params)\n",
    "        self.ndim = sum(p.size or 1 for p in pta.params)\n",
    "        \n",
    "        # parameter map\n",
    "        self.pmap = {}\n",
    "        ct = 0\n",
    "        for p in pta.params:\n",
    "            size = p.size or 1\n",
    "            self.pmap[p] = slice(ct, ct+size)\n",
    "            ct += size\n",
    "            \n",
    "        # parameter indices map\n",
    "        self.pimap = {}\n",
    "        for ct, p in enumerate(pta.param_names):\n",
    "            self.pimap[p] = ct\n",
    "            \n",
    "        self.snames = {}\n",
    "        for sc in pta._signalcollections:\n",
    "            for signal in sc._signals:\n",
    "                self.snames[signal.signal_name] = signal.params\n",
    "        \n",
    "    def draw_from_prior(self, x, iter, beta):\n",
    "        \"\"\"Prior draw.\n",
    "        \n",
    "        The function signature is specific to PTMCMCSampler.\n",
    "        \"\"\"\n",
    "        \n",
    "        q = x.copy()\n",
    "        lqxy = 0\n",
    "        \n",
    "        # randomly choose parameter\n",
    "        idx = np.random.randint(0, self.npar)\n",
    "        \n",
    "        # if vector parameter jump in random component\n",
    "        param = self.params[idx]\n",
    "        if param.size:\n",
    "            idx2 = np.random.randint(0, param.size)\n",
    "            q[self.pmap[param]][idx2] = param.sample()[idx2]\n",
    "\n",
    "        # scalar parameter\n",
    "        else:\n",
    "            q[idx] = param.sample()\n",
    "        \n",
    "        # forward-backward jump probability\n",
    "        lqxy = param.get_logpdf(x[self.pmap[param]]) - param.get_logpdf(q[self.pmap[param]])\n",
    "                \n",
    "        return q, float(lqxy)\n",
    "    \n",
    "# utility function for finding global parameters\n",
    "def get_global_parameters(pta):\n",
    "    pars = []\n",
    "    for sc in pta._signalcollections:\n",
    "        pars.extend(sc.param_names)\n",
    "    \n",
    "    gpars = np.unique(filter(lambda x: pars.count(x)>1, pars))\n",
    "    ipars = np.array([p for p in pars if p not in gpars])\n",
    "        \n",
    "    return gpars, ipars\n",
    "\n",
    "# utility function to get parameter groupings for sampling\n",
    "def get_parameter_groups(pta):\n",
    "    ndim = len(pta.param_names)\n",
    "    groups  = [range(0, ndim)]\n",
    "    params = pta.param_names\n",
    "    \n",
    "    # get global and individual parameters\n",
    "    gpars, ipars = get_global_parameters(pta)\n",
    "    if any(gpars):\n",
    "        groups.extend([[params.index(gp) for gp in gpars]])\n",
    "\n",
    "    for sc in pta._signalcollections:\n",
    "        for signal in sc._signals:\n",
    "            ind = [params.index(p) for p in signal.param_names if p not in gpars]\n",
    "            if ind:\n",
    "                groups.extend([ind])\n",
    "    \n",
    "    return groups"
   ]
  },
  {
   "cell_type": "code",
   "execution_count": 4,
   "metadata": {
    "collapsed": true
   },
   "outputs": [],
   "source": [
    "#The pulsars we'll be analyzing\n",
    "psrdict = {'J1713+0747': [{'pta': ['NANOGrav', 'PPTA']}], \n",
    "           'J1909-3744': [{'pta': ['NANOGrav', 'PPTA']}], \n",
    "           'J1640+2224': [{'pta': ['NANOGrav']}], \n",
    "           'J1600-3053': [{'pta': ['NANOGrav']}],\n",
    "           'J2317+1439': [{'pta': ['NANOGrav']}], \n",
    "           'J1918-0642': [{'pta': ['NANOGrav']}], \n",
    "           'J1614-2230': [{'pta': ['NANOGrav']}], \n",
    "           'J1744-1134': [{'pta': ['NANOGrav', 'PPTA']}],\n",
    "           'J0030+0451': [{'pta': ['NANOGrav']}], \n",
    "           'J2145-0750': [{'pta': ['NANOGrav']}], \n",
    "           'J1857+0943': [{'pta': ['NANOGrav']}], \n",
    "           'J1853+1303': [{'pta': ['NANOGrav']}], \n",
    "           'J0613-0200': [{'pta': ['NANOGrav']}],\n",
    "           'J1455-3330': [{'pta': ['NANOGrav']}], \n",
    "           'J1741+1351': [{'pta': ['NANOGrav']}], \n",
    "           'J2010-1323': [{'pta': ['NANOGrav']}], \n",
    "           'J1024-0719': [{'pta': ['NANOGrav']}], \n",
    "           'J1012+5307': [{'pta': ['NANOGrav']}],\n",
    "           'J0437-4715': [{'pta': ['PPTA']}]\n",
    "          }\n",
    "psrlist=psrdict.keys()"
   ]
  },
  {
   "cell_type": "code",
   "execution_count": 5,
   "metadata": {
    "collapsed": false
   },
   "outputs": [
    {
     "data": {
      "text/plain": [
       "['J1909-3744',\n",
       " 'J1857+0943',\n",
       " 'J1853+1303',\n",
       " 'J1713+0747',\n",
       " 'J1012+5307',\n",
       " 'J2010-1323',\n",
       " 'J1640+2224',\n",
       " 'J0437-4715',\n",
       " 'J1455-3330',\n",
       " 'J0030+0451',\n",
       " 'J0613-0200',\n",
       " 'J1741+1351',\n",
       " 'J1024-0719',\n",
       " 'J1744-1134',\n",
       " 'J2145-0750',\n",
       " 'J1918-0642',\n",
       " 'J2317+1439',\n",
       " 'J1614-2230',\n",
       " 'J1600-3053']"
      ]
     },
     "execution_count": 5,
     "metadata": {},
     "output_type": "execute_result"
    }
   ],
   "source": [
    "psrlist"
   ]
  },
  {
   "cell_type": "markdown",
   "metadata": {},
   "source": [
    "### Get par, tim, and noise files\n",
    "Here we collect the tim and par files as well as noise files made from the `PAL2` code. These are the same par, tim, and noise files used in the 9-year analysis papers. We use the convienience function above to convert from `PAL2` noise files to `enterprise` parameter dictionaries."
   ]
  },
  {
   "cell_type": "code",
   "execution_count": 6,
   "metadata": {
    "collapsed": true
   },
   "outputs": [],
   "source": [
    "datadir = '../ipta_dsets/partim_filtered_ppta_ng/'"
   ]
  },
  {
   "cell_type": "code",
   "execution_count": 7,
   "metadata": {
    "collapsed": false
   },
   "outputs": [],
   "source": [
    "parfiles = sorted(glob.glob(datadir + '/*.par'))\n",
    "timfiles = sorted(glob.glob(datadir + '/*.tim'))\n",
    "\n",
    "# filter\n",
    "parfiles = [x for x in parfiles if x.split('/')[-1].split('.')[0] in psrlist]\n",
    "timfiles = [x for x in timfiles if x.split('/')[-1].split('.')[0] in psrlist]"
   ]
  },
  {
   "cell_type": "code",
   "execution_count": 8,
   "metadata": {
    "collapsed": false
   },
   "outputs": [
    {
     "data": {
      "text/plain": [
       "19"
      ]
     },
     "execution_count": 8,
     "metadata": {},
     "output_type": "execute_result"
    }
   ],
   "source": [
    "len(parfiles)"
   ]
  },
  {
   "cell_type": "markdown",
   "metadata": {},
   "source": [
    "### Load into Pulsar class list"
   ]
  },
  {
   "cell_type": "code",
   "execution_count": 9,
   "metadata": {
    "collapsed": false
   },
   "outputs": [
    {
     "name": "stdout",
     "output_type": "stream",
     "text": [
      "WARNING: Could not find pulsar distance for PSR J1614-2230. Setting value to 1 with 20% uncertainty.\n",
      "WARNING: Could not find pulsar distance for PSR J1741+1351. Setting value to 1 with 20% uncertainty.\n",
      "WARNING: Could not find pulsar distance for PSR J1853+1303. Setting value to 1 with 20% uncertainty.\n",
      "WARNING: Could not find pulsar distance for PSR J2010-1323. Setting value to 1 with 20% uncertainty.\n"
     ]
    }
   ],
   "source": [
    "psrs = []\n",
    "for p, t in zip(parfiles, timfiles):\n",
    "    psr = Pulsar(p, t, ephem='DE436')\n",
    "    psrs.append(psr)"
   ]
  },
  {
   "cell_type": "markdown",
   "metadata": {},
   "source": [
    "### Get parameter dict from noisefiles"
   ]
  },
  {
   "cell_type": "code",
   "execution_count": 10,
   "metadata": {
    "collapsed": true
   },
   "outputs": [],
   "source": [
    "noisefiles = sorted(glob.glob('../ipta_dsets/partim_filtered_ppta_ng/noisefiles_ppta_ng_normal/*.json'))"
   ]
  },
  {
   "cell_type": "code",
   "execution_count": 11,
   "metadata": {
    "collapsed": false
   },
   "outputs": [],
   "source": [
    "params = {}\n",
    "for nf in noisefiles:\n",
    "    with open(nf, 'r') as fin:\n",
    "        params.update(json.load(fin))"
   ]
  },
  {
   "cell_type": "markdown",
   "metadata": {},
   "source": [
    "### Set up model\n",
    "\n",
    "When setting up the model for our upper limit run we fix all of the white noise (EFAC, EQUAD, and ECORR) parameters to the values obtained from the noise files. This is done by using `Constant` parameters. In this case we do not specify a default value for all instances of that parameter but instead will set them, based on their initialized pulsar and backend specific name, later via the `set_default_params` method of `PTA`. \n",
    "\n",
    "Speaking of white noise parameters here, we also use the `Selection` object.\n",
    "\n",
    "Another feature to notice is that we do not use a uniform prior on the log of the red noise or GWB amplitude. Instead we use a `LinearExp` prior (short for linear-exponent prior), that is a prior of the form $p(x)\\propto 10^x$. This is how we can still use the log of the parameter to sample but place a uniform prior on the parameter itself. We do this for both the red noise and GWB amplitude parameters.\n",
    "\n",
    "Next, in order to save on computing time we do not include spatial correlations here. Instead we model the GWB as a common red process across all pulsars. In `enterprise` we can do this with a simple trick. We pre-initialize the parameters before passing them to the `Signal` model. In this way the *same* parameter instance is used for all pulsars. Lastly, we fixt the spectral index of the GWB to be 13/3 (4.33) using the `Constant` parameter."
   ]
  },
  {
   "cell_type": "markdown",
   "metadata": {},
   "source": [
    "## Setup model\n",
    "\n",
    "We will add some addition model components that are not part of the base enterprise"
   ]
  },
  {
   "cell_type": "markdown",
   "metadata": {},
   "source": [
    "### 1. Exponential decay function to model \"void\" in J1713+0747"
   ]
  },
  {
   "cell_type": "code",
   "execution_count": 14,
   "metadata": {
    "collapsed": true
   },
   "outputs": [],
   "source": [
    "@signal_base.function\n",
    "def exp_decay(toas, freqs, log10_Amp=-7, t0=54000, log10_tau=1.7):\n",
    "    t0 *= const.day\n",
    "    tau = 10**log10_tau * const.day\n",
    "    wf = - 10**log10_Amp * np.heaviside(toas-t0, 1) * np.exp(-(toas-t0)/tau)\n",
    "    return wf * (1400/freqs)**2"
   ]
  },
  {
   "cell_type": "markdown",
   "metadata": {},
   "source": [
    "### 2. Yearly DM sinusoid"
   ]
  },
  {
   "cell_type": "code",
   "execution_count": 15,
   "metadata": {
    "collapsed": true
   },
   "outputs": [],
   "source": [
    "@signal_base.function\n",
    "def yearly_sinusoid(toas, freqs, log10_Amp=-7, phase=0):\n",
    "\n",
    "    wf = 10**log10_Amp * np.sin(2*np.pi*const.fyr*toas+phase)\n",
    "    return wf * (1400/freqs)**2"
   ]
  },
  {
   "cell_type": "markdown",
   "metadata": {},
   "source": [
    "### 3. DM EQUAD (EQUAD) term that scales like $\\nu^{-4}$ (variance remember...)"
   ]
  },
  {
   "cell_type": "code",
   "execution_count": 16,
   "metadata": {
    "collapsed": true
   },
   "outputs": [],
   "source": [
    "# define DM EQUAD variance function\n",
    "@signal_base.function\n",
    "def dmequad_ndiag(freqs, log10_dmequad=-8):\n",
    "    return np.ones_like(freqs) * (1400/freqs)**4 * 10**(2*log10_dmequad)"
   ]
  },
  {
   "cell_type": "markdown",
   "metadata": {},
   "source": [
    "### 4. SVD timing model basis\n",
    "This allows for more stability over standard scaling methods"
   ]
  },
  {
   "cell_type": "code",
   "execution_count": 17,
   "metadata": {
    "collapsed": true
   },
   "outputs": [],
   "source": [
    "# SVD timing model basis\n",
    "@signal_base.function\n",
    "def svd_tm_basis(Mmat):\n",
    "    u, s, v = np.linalg.svd(Mmat, full_matrices=False)\n",
    "    return u, np.ones_like(s)\n",
    "\n",
    "@signal_base.function\n",
    "def tm_prior(weights):\n",
    "    return weights * 10**40"
   ]
  },
  {
   "cell_type": "code",
   "execution_count": null,
   "metadata": {
    "collapsed": false
   },
   "outputs": [],
   "source": [
    "# find the maximum time span to set GW frequency sampling\n",
    "tmin = [p.toas.min() for p in psrs]\n",
    "tmax = [p.toas.max() for p in psrs]\n",
    "Tspan = np.max(tmax) - np.min(tmin)\n",
    "\n",
    "# define selection by observing backend\n",
    "selection = selections.Selection(selections.by_backend)\n",
    "\n",
    "# special selection for ECORR only use wideband NANOGrav data\n",
    "selection2 = selections.Selection(selections.nanograv_backends)\n",
    "\n",
    "# white noise parameters\n",
    "# since we are fixing these to values from the noise file we set\n",
    "# them as constant parameters\n",
    "efac = parameter.Constant()\n",
    "equad = parameter.Constant()\n",
    "ecorr = parameter.Constant()\n",
    "\n",
    "# red noise parameters\n",
    "log10_A = parameter.Uniform(-20, -11)\n",
    "gamma = parameter.Uniform(0, 7)\n",
    "\n",
    "# GW parameters (initialize with names here to use parameters in common across pulsars)\n",
    "log10_A_gw = parameter.LinearExp(-18,-12)('log10_A_gw')\n",
    "gamma_gw = parameter.Constant(4.33)('gamma_gw')\n",
    "\n",
    "# DM turnover parameters\n",
    "kappa = parameter.Uniform(0,7)\n",
    "lf0 = parameter.Uniform(-9, -6.5)\n",
    "\n",
    "# DM exponential parameters\n",
    "t0 = parameter.Uniform(psr.toas.min()/86400, psr.toas.max()/86400)\n",
    "log10_Amp = parameter.Uniform(-10, -2)\n",
    "log10_tau = parameter.Uniform(np.log10(5), np.log10(500))\n",
    "\n",
    "# DM sinusoid parameters\n",
    "log10_Amp_s = parameter.Uniform(-10, -2)\n",
    "phase = parameter.Uniform(0, 2*np.pi)\n",
    "\n",
    "# white noise signals\n",
    "\n",
    "# DM EQUAD\n",
    "#dmvariance = dmequad_ndiag(log10_dmequad=equad)\n",
    "#dmeq = white_signals.WhiteNoise(dmvariance)\n",
    "\n",
    "# white noise\n",
    "ef = white_signals.MeasurementNoise(efac=efac, selection=selection)\n",
    "eq = white_signals.EquadNoise(log10_equad=equad, selection=selection)\n",
    "ec = white_signals.EcorrKernelNoise(log10_ecorr=ecorr, selection=selection2)\n",
    "\n",
    "# red noise (powerlaw with 30 frequencies)\n",
    "pl = utils.powerlaw(log10_A=log10_A, gamma=gamma)\n",
    "rn = gp_signals.FourierBasisGP(spectrum=pl, components=30, Tspan=Tspan)\n",
    "\n",
    "\n",
    "# DM GP signals (use turnover model for more flexibility)\n",
    "dm_basis = utils.createfourierdesignmatrix_dm(nmodes=30)\n",
    "dm_prior = utils.turnover(log10_A=log10_A, gamma=gamma, lf0=lf0, kappa=kappa)\n",
    "dmgp = gp_signals.BasisGP(dm_prior, dm_basis, name='dm')\n",
    "\n",
    "\n",
    "# DM exponential model\n",
    "wf = exp_decay(log10_Amp=log10_Amp, t0=t0, log10_tau=log10_tau)\n",
    "dmexp = deterministic_signals.Deterministic(wf, name='exp')\n",
    "\n",
    "# DM sinusoid model\n",
    "wf = yearly_sinusoid(log10_Amp=log10_Amp_s, phase=phase)\n",
    "dmys = deterministic_signals.Deterministic(wf, name='s1yr')\n",
    "\n",
    "# gwb (no spatial correlations)\n",
    "cpl = utils.powerlaw(log10_A=log10_A_gw, gamma=gamma_gw)\n",
    "gw = gp_signals.FourierBasisGP(spectrum=cpl, components=30, Tspan=Tspan)\n",
    "\n",
    "# for spatial correltions you can do...\n",
    "#orf = utils.hd_orf()\n",
    "#crn = gp_signals.FourierBasisCommonGP(cpl, orf, components=30, name='gw', Tspan=Tspan)\n",
    "\n",
    "# to add solar system ephemeris modeling...\n",
    "eph = deterministic_signals.PhysicalEphemerisSignal(use_epoch_toas=True)\n",
    "\n",
    "# timing model\n",
    "basis = svd_tm_basis()\n",
    "prior = tm_prior()\n",
    "tm = gp_signals.BasisGP(prior, basis)\n",
    "#tm = gp_signals.TimingModel()\n",
    "\n",
    "# full model\n",
    "#s = ef + eq + rn + dmgp + tm  + dmeq + dmys\n",
    "s = ef + eq + rn + tm + dmgp + dmys + eph + gw #+ dmeq\n",
    "\n",
    "# intialize PTA, adding an exponential dip for the DM event in J1713+0747\n",
    "models = []\n",
    "\n",
    "for p in psrs:    \n",
    "    if 'NANOGrav' in p.flags['pta']:\n",
    "        s2 = s + ec \n",
    "        if p.name == 'J1713+0747':\n",
    "            s3 = s2 + dmexp\n",
    "            models.append(s3(p))\n",
    "        else:\n",
    "            models.append(s2(p))\n",
    "    else:\n",
    "        models.append(s(p))\n",
    "    \n",
    "pta = signal_base.PTA(models)"
   ]
  },
  {
   "cell_type": "markdown",
   "metadata": {},
   "source": [
    "### Set white noise parameters"
   ]
  },
  {
   "cell_type": "code",
   "execution_count": null,
   "metadata": {
    "collapsed": false
   },
   "outputs": [],
   "source": [
    "pta.set_default_params(params)"
   ]
  },
  {
   "cell_type": "markdown",
   "metadata": {},
   "source": [
    "### Set initial parameters drawn from prior and evaluate likelihood to fill caches\n",
    "\n",
    "Evaluating the likelihood is not necessary, the caches will be filled the first time it is called within the sampler if not called here."
   ]
  },
  {
   "cell_type": "code",
   "execution_count": null,
   "metadata": {
    "collapsed": false
   },
   "outputs": [],
   "source": [
    "xs = {par.name: par.sample() for par in pta.params}\n",
    "print pta.get_lnlikelihood(xs);\n",
    "print pta.get_lnprior(xs);"
   ]
  },
  {
   "cell_type": "code",
   "execution_count": 26,
   "metadata": {
    "collapsed": false
   },
   "outputs": [
    {
     "data": {
      "text/plain": [
       "{u'J0030+0451_430_ASP_efac': 1.1441831910573546,\n",
       " u'J0030+0451_430_ASP_log10_ecorr': -8.306510835111641,\n",
       " u'J0030+0451_430_ASP_log10_equad': -8.27390789694795,\n",
       " u'J0030+0451_430_PUPPI_efac': 0.9762900323039714,\n",
       " u'J0030+0451_430_PUPPI_log10_ecorr': -5.989300751588091,\n",
       " u'J0030+0451_430_PUPPI_log10_equad': -5.962496611939736,\n",
       " u'J0030+0451_L-wide_ASP_efac': 1.1238593431335526,\n",
       " u'J0030+0451_L-wide_ASP_log10_ecorr': -8.374193646777268,\n",
       " u'J0030+0451_L-wide_ASP_log10_equad': -8.145472412682228,\n",
       " u'J0030+0451_L-wide_PUPPI_efac': 1.1466872228655136,\n",
       " u'J0030+0451_L-wide_PUPPI_log10_ecorr': -8.505257741477394,\n",
       " u'J0030+0451_L-wide_PUPPI_log10_equad': -6.3391036599972335,\n",
       " u'J0030+0451_dm_gamma': 2.2074162520849048,\n",
       " u'J0030+0451_dm_kappa': 3.7753492904199724,\n",
       " u'J0030+0451_dm_lf0': -7.692297826333863,\n",
       " u'J0030+0451_dm_log10_A': -13.806118566137624,\n",
       " u'J0030+0451_gamma': 4.532217197705858,\n",
       " u'J0030+0451_log10_A': -14.131752830064068,\n",
       " u'J0437-4715_CPSR2_20CM_efac': 3.18902938583909,\n",
       " u'J0437-4715_CPSR2_20CM_log10_equad': -8.304102634365005,\n",
       " u'J0437-4715_CPSR2_40CM_efac': 4.436957408665659,\n",
       " u'J0437-4715_CPSR2_40CM_log10_equad': -7.687926415349452,\n",
       " u'J0437-4715_CPSR2_50CM_efac': 0.6740680127398548,\n",
       " u'J0437-4715_CPSR2_50CM_log10_equad': -8.676050915249082,\n",
       " u'J0437-4715_PDFB_10CM_efac': 0.6924509699553627,\n",
       " u'J0437-4715_PDFB_10CM_log10_equad': -7.34624601383063,\n",
       " u'J0437-4715_PDFB_20CM_efac': 0.861158847208294,\n",
       " u'J0437-4715_PDFB_20CM_log10_equad': -7.263875510377271,\n",
       " u'J0437-4715_PDFB_40CM_efac': 1.7680890178435003,\n",
       " u'J0437-4715_PDFB_40CM_log10_equad': -8.54387236286222,\n",
       " u'J0437-4715_PDFB_50CM_efac': 4.107903432868668,\n",
       " u'J0437-4715_PDFB_50CM_log10_equad': -7.562680671062067,\n",
       " u'J0437-4715_WBCORR_10CM_efac': 0.2989471716494896,\n",
       " u'J0437-4715_WBCORR_10CM_log10_equad': -6.432776702970614,\n",
       " u'J0437-4715_WBCORR_20CM_efac': 0.43151985651124775,\n",
       " u'J0437-4715_WBCORR_20CM_log10_equad': -8.266643621877718,\n",
       " u'J0437-4715_dm_gamma': 3.121774450557269,\n",
       " u'J0437-4715_dm_kappa': 2.0982236449714264,\n",
       " u'J0437-4715_dm_lf0': -8.34105584511134,\n",
       " u'J0437-4715_dm_log10_A': -13.5347174459512,\n",
       " u'J0437-4715_gamma': 2.778300367597219,\n",
       " u'J0437-4715_log10_A': -13.973118544784352,\n",
       " u'J0613-0200_Rcvr1_2_GASP_efac': 1.0699757016565057,\n",
       " u'J0613-0200_Rcvr1_2_GASP_log10_ecorr': -8.113244378529373,\n",
       " u'J0613-0200_Rcvr1_2_GASP_log10_equad': -8.254310797704862,\n",
       " u'J0613-0200_Rcvr1_2_GUPPI_efac': 1.084746651480585,\n",
       " u'J0613-0200_Rcvr1_2_GUPPI_log10_ecorr': -8.573017300289113,\n",
       " u'J0613-0200_Rcvr1_2_GUPPI_log10_equad': -8.457437706396366,\n",
       " u'J0613-0200_Rcvr_800_GASP_efac': 1.0894501732486552,\n",
       " u'J0613-0200_Rcvr_800_GASP_log10_ecorr': -7.965153513832568,\n",
       " u'J0613-0200_Rcvr_800_GASP_log10_equad': -8.309172305642907,\n",
       " u'J0613-0200_Rcvr_800_GUPPI_efac': 1.1946752677035561,\n",
       " u'J0613-0200_Rcvr_800_GUPPI_log10_ecorr': -8.153401748981592,\n",
       " u'J0613-0200_Rcvr_800_GUPPI_log10_equad': -6.418147805288694,\n",
       " u'J0613-0200_dm_gamma': 4.096404633950003,\n",
       " u'J0613-0200_dm_kappa': 4.182958743601417,\n",
       " u'J0613-0200_dm_lf0': -7.518015616130451,\n",
       " u'J0613-0200_dm_log10_A': -13.130705997273028,\n",
       " u'J0613-0200_gamma': 3.63999838561992,\n",
       " u'J0613-0200_log10_A': -13.861545337970142,\n",
       " u'J1012+5307_Rcvr1_2_GASP_efac': 1.043811703658883,\n",
       " u'J1012+5307_Rcvr1_2_GASP_log10_ecorr': -7.975340932278712,\n",
       " u'J1012+5307_Rcvr1_2_GASP_log10_equad': -8.017623399855065,\n",
       " u'J1012+5307_Rcvr1_2_GUPPI_efac': 1.0827718800645956,\n",
       " u'J1012+5307_Rcvr1_2_GUPPI_log10_ecorr': -6.380994617452605,\n",
       " u'J1012+5307_Rcvr1_2_GUPPI_log10_equad': -6.401357887853273,\n",
       " u'J1012+5307_Rcvr_800_GASP_efac': 1.0682911753830313,\n",
       " u'J1012+5307_Rcvr_800_GASP_log10_ecorr': -8.305531310514123,\n",
       " u'J1012+5307_Rcvr_800_GASP_log10_equad': -6.823614147107303,\n",
       " u'J1012+5307_Rcvr_800_GUPPI_efac': 1.1530256276968252,\n",
       " u'J1012+5307_Rcvr_800_GUPPI_log10_ecorr': -8.492973809392554,\n",
       " u'J1012+5307_Rcvr_800_GUPPI_log10_equad': -6.249449192450545,\n",
       " u'J1012+5307_dm_gamma': 2.1250408275668553,\n",
       " u'J1012+5307_dm_kappa': 3.151342379707091,\n",
       " u'J1012+5307_dm_lf0': -7.92596756251254,\n",
       " u'J1012+5307_dm_log10_A': -13.345642657216326,\n",
       " u'J1012+5307_gamma': 0.6094255041520651,\n",
       " u'J1012+5307_log10_A': -12.933085683198705,\n",
       " u'J1024-0719_Rcvr1_2_GASP_efac': 0.9186339691805753,\n",
       " u'J1024-0719_Rcvr1_2_GASP_log10_ecorr': -7.828711636605803,\n",
       " u'J1024-0719_Rcvr1_2_GASP_log10_equad': -7.442041801561674,\n",
       " u'J1024-0719_Rcvr1_2_GUPPI_efac': 1.1427131897737148,\n",
       " u'J1024-0719_Rcvr1_2_GUPPI_log10_ecorr': -7.299562243794471,\n",
       " u'J1024-0719_Rcvr1_2_GUPPI_log10_equad': -8.5103873933011,\n",
       " u'J1024-0719_Rcvr_800_GASP_efac': 1.082043111811915,\n",
       " u'J1024-0719_Rcvr_800_GASP_log10_ecorr': -7.891040124889551,\n",
       " u'J1024-0719_Rcvr_800_GASP_log10_equad': -7.90653461523102,\n",
       " u'J1024-0719_Rcvr_800_GUPPI_efac': 1.217244307317605,\n",
       " u'J1024-0719_Rcvr_800_GUPPI_log10_ecorr': -7.984819322378011,\n",
       " u'J1024-0719_Rcvr_800_GUPPI_log10_equad': -8.476591429464031,\n",
       " u'J1024-0719_dm_gamma': 2.3274002083908263,\n",
       " u'J1024-0719_dm_kappa': 3.3330821248313285,\n",
       " u'J1024-0719_dm_lf0': -7.695632007701034,\n",
       " u'J1024-0719_dm_log10_A': -13.411077127106285,\n",
       " u'J1024-0719_gamma': 1.803016866454371,\n",
       " u'J1024-0719_log10_A': -14.268314846086966,\n",
       " u'J1455-3330_Rcvr1_2_GASP_efac': 1.1739747021368623,\n",
       " u'J1455-3330_Rcvr1_2_GASP_log10_ecorr': -5.784976306649701,\n",
       " u'J1455-3330_Rcvr1_2_GASP_log10_equad': -7.992109003232714,\n",
       " u'J1455-3330_Rcvr1_2_GUPPI_efac': 1.3318919402717948,\n",
       " u'J1455-3330_Rcvr1_2_GUPPI_log10_ecorr': -8.253033671933826,\n",
       " u'J1455-3330_Rcvr1_2_GUPPI_log10_equad': -8.405640076583323,\n",
       " u'J1455-3330_Rcvr_800_GASP_efac': 1.5688112485143586,\n",
       " u'J1455-3330_Rcvr_800_GASP_log10_ecorr': -7.875589043079153,\n",
       " u'J1455-3330_Rcvr_800_GASP_log10_equad': -8.025822164421363,\n",
       " u'J1455-3330_Rcvr_800_GUPPI_efac': 1.3163308063686665,\n",
       " u'J1455-3330_Rcvr_800_GUPPI_log10_ecorr': -8.189881512442057,\n",
       " u'J1455-3330_Rcvr_800_GUPPI_log10_equad': -8.37827315962684,\n",
       " u'J1455-3330_dm_gamma': 3.282777771576079,\n",
       " u'J1455-3330_dm_kappa': 3.6149312785248515,\n",
       " u'J1455-3330_dm_lf0': -7.640538033754203,\n",
       " u'J1455-3330_dm_log10_A': -16.734698552033464,\n",
       " u'J1455-3330_gamma': 3.161499114661172,\n",
       " u'J1455-3330_log10_A': -16.456794907456064,\n",
       " u'J1600-3053_Rcvr1_2_GASP_efac': 1.1568744873563113,\n",
       " u'J1600-3053_Rcvr1_2_GASP_log10_ecorr': -7.8818486970419,\n",
       " u'J1600-3053_Rcvr1_2_GASP_log10_equad': -7.802061385789665,\n",
       " u'J1600-3053_Rcvr1_2_GUPPI_efac': 1.0541692633206456,\n",
       " u'J1600-3053_Rcvr1_2_GUPPI_log10_ecorr': -6.890327795108844,\n",
       " u'J1600-3053_Rcvr1_2_GUPPI_log10_equad': -8.355251857847179,\n",
       " u'J1600-3053_Rcvr_800_GASP_efac': 1.2268497591710021,\n",
       " u'J1600-3053_Rcvr_800_GASP_log10_ecorr': -7.272710815547126,\n",
       " u'J1600-3053_Rcvr_800_GASP_log10_equad': -7.996991753232724,\n",
       " u'J1600-3053_Rcvr_800_GUPPI_efac': 1.1456130285014916,\n",
       " u'J1600-3053_Rcvr_800_GUPPI_log10_ecorr': -6.022375752776723,\n",
       " u'J1600-3053_Rcvr_800_GUPPI_log10_equad': -7.885536061552414,\n",
       " u'J1600-3053_dm_gamma': 1.6395128125340745,\n",
       " u'J1600-3053_dm_kappa': 2.963069754185352,\n",
       " u'J1600-3053_dm_lf0': -8.133806194604034,\n",
       " u'J1600-3053_dm_log10_A': -13.339567521392254,\n",
       " u'J1600-3053_gamma': 1.5983194967450434,\n",
       " u'J1600-3053_log10_A': -15.743118481749352,\n",
       " u'J1614-2230_Rcvr1_2_GASP_efac': 1.1164503417911784,\n",
       " u'J1614-2230_Rcvr1_2_GASP_log10_ecorr': -8.07770481415696,\n",
       " u'J1614-2230_Rcvr1_2_GASP_log10_equad': -8.06802122923916,\n",
       " u'J1614-2230_Rcvr1_2_GUPPI_efac': 1.0611771355119042,\n",
       " u'J1614-2230_Rcvr1_2_GUPPI_log10_ecorr': -8.23323006691193,\n",
       " u'J1614-2230_Rcvr1_2_GUPPI_log10_equad': -8.538258019080013,\n",
       " u'J1614-2230_Rcvr_800_GASP_efac': 0.8960094692711476,\n",
       " u'J1614-2230_Rcvr_800_GASP_log10_ecorr': -5.613411151363379,\n",
       " u'J1614-2230_Rcvr_800_GASP_log10_equad': -7.959903073518253,\n",
       " u'J1614-2230_Rcvr_800_GUPPI_efac': 1.0144789190218204,\n",
       " u'J1614-2230_Rcvr_800_GUPPI_log10_ecorr': -6.953781202834989,\n",
       " u'J1614-2230_Rcvr_800_GUPPI_log10_equad': -8.308407138815728,\n",
       " u'J1614-2230_dm_gamma': 2.455154618060835,\n",
       " u'J1614-2230_dm_kappa': 5.0296843400084565,\n",
       " u'J1614-2230_dm_lf0': -7.555002507181545,\n",
       " u'J1614-2230_dm_log10_A': -12.813036650567158,\n",
       " u'J1614-2230_gamma': 3.24291539025637,\n",
       " u'J1614-2230_log10_A': -17.096195479525896,\n",
       " u'J1640+2224_430_ASP_efac': 1.1870510115335757,\n",
       " u'J1640+2224_430_ASP_log10_ecorr': -8.516251829924911,\n",
       " u'J1640+2224_430_ASP_log10_equad': -6.257531418072402,\n",
       " u'J1640+2224_430_PUPPI_efac': 1.1350638747068964,\n",
       " u'J1640+2224_430_PUPPI_log10_ecorr': -6.264955665781776,\n",
       " u'J1640+2224_430_PUPPI_log10_equad': -7.024310263960758,\n",
       " u'J1640+2224_L-wide_ASP_efac': 1.0736545672408209,\n",
       " u'J1640+2224_L-wide_ASP_log10_ecorr': -6.9928900521209805,\n",
       " u'J1640+2224_L-wide_ASP_log10_equad': -8.377523641068898,\n",
       " u'J1640+2224_L-wide_PUPPI_efac': 1.2597568150832479,\n",
       " u'J1640+2224_L-wide_PUPPI_log10_ecorr': -8.25804322762574,\n",
       " u'J1640+2224_L-wide_PUPPI_log10_equad': -8.627562597174967,\n",
       " u'J1640+2224_dm_gamma': 3.270151871386442,\n",
       " u'J1640+2224_dm_kappa': 2.1587986818251146,\n",
       " u'J1640+2224_dm_lf0': -8.210622110639237,\n",
       " u'J1640+2224_dm_log10_A': -13.896369855926089,\n",
       " u'J1640+2224_gamma': 0.2250461175084164,\n",
       " u'J1640+2224_log10_A': -12.987067906988743,\n",
       " u'J1713+0747_CPSR2_20CM_efac': 0.9821181718307416,\n",
       " u'J1713+0747_CPSR2_20CM_log10_ecorr': -8.066130296840143,\n",
       " u'J1713+0747_CPSR2_20CM_log10_equad': -8.356957435978936,\n",
       " u'J1713+0747_CPSR2_50CM_efac': 0.7662517489411907,\n",
       " u'J1713+0747_CPSR2_50CM_log10_ecorr': -6.893054421882706,\n",
       " u'J1713+0747_CPSR2_50CM_log10_equad': -5.890943261455664,\n",
       " u'J1713+0747_L-band_ABPP_efac': 2.002358819982302,\n",
       " u'J1713+0747_L-band_ABPP_log10_ecorr': -7.063616993489334,\n",
       " u'J1713+0747_L-band_ABPP_log10_equad': -7.0509358426212145,\n",
       " u'J1713+0747_L-band_Mark4_efac': 1.2085607219201455,\n",
       " u'J1713+0747_L-band_Mark4_log10_ecorr': -6.894664564503941,\n",
       " u'J1713+0747_L-band_Mark4_log10_equad': -6.8889508679565585,\n",
       " u'J1713+0747_L-wide_ASP_efac': 1.0426247303860536,\n",
       " u'J1713+0747_L-wide_ASP_log10_ecorr': -6.87484648740883,\n",
       " u'J1713+0747_L-wide_ASP_log10_equad': -7.622598495090994,\n",
       " u'J1713+0747_L-wide_PUPPI_efac': 1.163366941698495,\n",
       " u'J1713+0747_L-wide_PUPPI_log10_ecorr': -6.933065751348595,\n",
       " u'J1713+0747_L-wide_PUPPI_log10_equad': -9.12604896766451,\n",
       " u'J1713+0747_PDFB_10CM_efac': 1.001179441752604,\n",
       " u'J1713+0747_PDFB_10CM_log10_ecorr': -8.096211581057606,\n",
       " u'J1713+0747_PDFB_10CM_log10_equad': -6.628177545111407,\n",
       " u'J1713+0747_PDFB_20CM_efac': 0.662830299215187,\n",
       " u'J1713+0747_PDFB_20CM_log10_ecorr': -6.777578830565634,\n",
       " u'J1713+0747_PDFB_20CM_log10_equad': -6.570056535835632,\n",
       " u'J1713+0747_PDFB_40CM_efac': 0.7748616863158616,\n",
       " u'J1713+0747_PDFB_40CM_log10_ecorr': -7.167406698156598,\n",
       " u'J1713+0747_PDFB_40CM_log10_equad': -6.416879872999932,\n",
       " u'J1713+0747_Rcvr1_2_GASP_efac': 1.0485603641085297,\n",
       " u'J1713+0747_Rcvr1_2_GASP_log10_ecorr': -7.572091430705105,\n",
       " u'J1713+0747_Rcvr1_2_GASP_log10_equad': -7.2911326347541605,\n",
       " u'J1713+0747_Rcvr1_2_GUPPI_efac': 1.1990594649489634,\n",
       " u'J1713+0747_Rcvr1_2_GUPPI_log10_ecorr': -7.4341291903197195,\n",
       " u'J1713+0747_Rcvr1_2_GUPPI_log10_equad': -7.856671093117335,\n",
       " u'J1713+0747_Rcvr_800_GASP_efac': 1.1718576790610853,\n",
       " u'J1713+0747_Rcvr_800_GASP_log10_ecorr': -7.3563085347160415,\n",
       " u'J1713+0747_Rcvr_800_GASP_log10_equad': -8.360090599253645,\n",
       " u'J1713+0747_Rcvr_800_GUPPI_efac': 1.05776831697689,\n",
       " u'J1713+0747_Rcvr_800_GUPPI_log10_ecorr': -6.591552152518668,\n",
       " u'J1713+0747_Rcvr_800_GUPPI_log10_equad': -7.215375971933083,\n",
       " u'J1713+0747_S-band_ABPP_efac': 2.7755448861983014,\n",
       " u'J1713+0747_S-band_ABPP_log10_ecorr': -6.958186347961473,\n",
       " u'J1713+0747_S-band_ABPP_log10_equad': -8.283397350643343,\n",
       " u'J1713+0747_S-band_Mark4_efac': 2.600362037687172,\n",
       " u'J1713+0747_S-band_Mark4_log10_ecorr': -6.6230270377537614,\n",
       " u'J1713+0747_S-band_Mark4_log10_equad': -6.920667364861021,\n",
       " u'J1713+0747_S-wide_ASP_efac': 1.1089015005307554,\n",
       " u'J1713+0747_S-wide_ASP_log10_ecorr': -6.871589054514032,\n",
       " u'J1713+0747_S-wide_ASP_log10_equad': -8.85629429849231,\n",
       " u'J1713+0747_S-wide_PUPPI_efac': 1.0828871254106383,\n",
       " u'J1713+0747_S-wide_PUPPI_log10_ecorr': -6.925532842759807,\n",
       " u'J1713+0747_S-wide_PUPPI_log10_equad': -7.314844743645182,\n",
       " u'J1713+0747_WBCORR_10CM_efac': 1.9468192723501276,\n",
       " u'J1713+0747_WBCORR_10CM_log10_ecorr': -6.949676268424186,\n",
       " u'J1713+0747_WBCORR_10CM_log10_equad': -6.373736197442269,\n",
       " u'J1713+0747_WBCORR_20CM_efac': 4.977503371856395,\n",
       " u'J1713+0747_WBCORR_20CM_log10_ecorr': -7.281798803618122,\n",
       " u'J1713+0747_WBCORR_20CM_log10_equad': -6.850267914286741,\n",
       " u'J1713+0747_dm_gamma': 2.3622353784200674,\n",
       " u'J1713+0747_dm_kappa': 2.4485372492100623,\n",
       " u'J1713+0747_dm_lf0': -8.34786398807451,\n",
       " u'J1713+0747_dm_log10_A': -13.618337691412176,\n",
       " u'J1713+0747_exp_log10_Amp': -5.807605331485316,\n",
       " u'J1713+0747_exp_log10_tau': 1.6900610032939425,\n",
       " u'J1713+0747_exp_t0': 54759.811979103644,\n",
       " u'J1713+0747_gamma': 4.388039302969383,\n",
       " u'J1713+0747_log10_A': -14.556231358441437,\n",
       " u'J1741+1351_430_ASP_efac': 1.0955143574264123,\n",
       " u'J1741+1351_430_ASP_log10_ecorr': -7.486997981277708,\n",
       " u'J1741+1351_430_ASP_log10_equad': -7.3994210611373505,\n",
       " u'J1741+1351_430_PUPPI_efac': 1.0809847034741649,\n",
       " u'J1741+1351_430_PUPPI_log10_ecorr': -8.05050487992077,\n",
       " u'J1741+1351_430_PUPPI_log10_equad': -7.54880634117637,\n",
       " u'J1741+1351_L-wide_ASP_efac': 0.9575214139925875,\n",
       " u'J1741+1351_L-wide_ASP_log10_ecorr': -8.067225745968944,\n",
       " u'J1741+1351_L-wide_ASP_log10_equad': -7.919058786641818,\n",
       " u'J1741+1351_L-wide_PUPPI_efac': 1.050167593930703,\n",
       " u'J1741+1351_L-wide_PUPPI_log10_ecorr': -7.410832776819682,\n",
       " u'J1741+1351_L-wide_PUPPI_log10_equad': -7.76849237548282,\n",
       " u'J1741+1351_dm_gamma': 1.6079847457844916,\n",
       " u'J1741+1351_dm_kappa': 3.3764500604840806,\n",
       " u'J1741+1351_dm_lf0': -7.7198511735045825,\n",
       " u'J1741+1351_dm_log10_A': -13.535348013927488,\n",
       " u'J1741+1351_gamma': 3.4519729321000754,\n",
       " u'J1741+1351_log10_A': -16.68487119611989,\n",
       " u'J1744-1134_CPSR2_20CM_efac': 1.4387615052274094,\n",
       " u'J1744-1134_CPSR2_20CM_log10_ecorr': -6.030447501940041,\n",
       " u'J1744-1134_CPSR2_20CM_log10_equad': -6.635394426409407,\n",
       " u'J1744-1134_CPSR2_50CM_efac': 1.4130248334240898,\n",
       " u'J1744-1134_CPSR2_50CM_log10_ecorr': -6.9856045349674645,\n",
       " u'J1744-1134_CPSR2_50CM_log10_equad': -6.003082452574524,\n",
       " u'J1744-1134_PDFB_10CM_efac': 0.9451645100999395,\n",
       " u'J1744-1134_PDFB_10CM_log10_ecorr': -7.766844141800793,\n",
       " u'J1744-1134_PDFB_10CM_log10_equad': -6.493466771738481,\n",
       " u'J1744-1134_PDFB_20CM_efac': 0.9946011775565711,\n",
       " u'J1744-1134_PDFB_20CM_log10_ecorr': -7.006944610665274,\n",
       " u'J1744-1134_PDFB_20CM_log10_equad': -6.650412486282962,\n",
       " u'J1744-1134_PDFB_40CM_efac': 1.5264434982654493,\n",
       " u'J1744-1134_PDFB_40CM_log10_ecorr': -7.202630462136336,\n",
       " u'J1744-1134_PDFB_40CM_log10_equad': -8.219334988636689,\n",
       " u'J1744-1134_Rcvr1_2_GASP_efac': 1.0255453679514885,\n",
       " u'J1744-1134_Rcvr1_2_GASP_log10_ecorr': -6.415165584433016,\n",
       " u'J1744-1134_Rcvr1_2_GASP_log10_equad': -6.563654580957046,\n",
       " u'J1744-1134_Rcvr1_2_GUPPI_efac': 1.2158609768299882,\n",
       " u'J1744-1134_Rcvr1_2_GUPPI_log10_ecorr': -6.469376010219667,\n",
       " u'J1744-1134_Rcvr1_2_GUPPI_log10_equad': -6.739379174722298,\n",
       " u'J1744-1134_Rcvr_800_GASP_efac': 1.2185716346754218,\n",
       " u'J1744-1134_Rcvr_800_GASP_log10_ecorr': -6.291908720213696,\n",
       " u'J1744-1134_Rcvr_800_GASP_log10_equad': -6.491099202184026,\n",
       " u'J1744-1134_Rcvr_800_GUPPI_efac': 1.0584125862881733,\n",
       " u'J1744-1134_Rcvr_800_GUPPI_log10_ecorr': -6.440555830104232,\n",
       " u'J1744-1134_Rcvr_800_GUPPI_log10_equad': -6.560962588582898,\n",
       " u'J1744-1134_WBCORR_10CM_efac': 1.7353071879267796,\n",
       " u'J1744-1134_WBCORR_10CM_log10_ecorr': -6.9885297636986685,\n",
       " u'J1744-1134_WBCORR_10CM_log10_equad': -7.246331088104198,\n",
       " u'J1744-1134_WBCORR_20CM_efac': 5.011210361816788,\n",
       " u'J1744-1134_WBCORR_20CM_log10_ecorr': -7.002405588902867,\n",
       " u'J1744-1134_WBCORR_20CM_log10_equad': -6.92695502896554,\n",
       " u'J1744-1134_dm_gamma': 3.2115434633703823,\n",
       " u'J1744-1134_dm_kappa': 4.064133590727404,\n",
       " u'J1744-1134_dm_lf0': -7.700967211765274,\n",
       " u'J1744-1134_dm_log10_A': -13.64507670621315,\n",
       " u'J1744-1134_gamma': 5.00993659338139,\n",
       " u'J1744-1134_log10_A': -14.466090239277538,\n",
       " u'J1853+1303_430_ASP_efac': 1.052835819417081,\n",
       " u'J1853+1303_430_ASP_log10_ecorr': -8.00921208766603,\n",
       " u'J1853+1303_430_ASP_log10_equad': -7.097851677579481,\n",
       " u'J1853+1303_430_PUPPI_efac': 1.135328713310844,\n",
       " u'J1853+1303_430_PUPPI_log10_ecorr': -5.965405074727498,\n",
       " u'J1853+1303_430_PUPPI_log10_equad': -8.017447494300551,\n",
       " u'J1853+1303_L-wide_ASP_efac': 1.3389231445466736,\n",
       " u'J1853+1303_L-wide_ASP_log10_ecorr': -8.494610690888718,\n",
       " u'J1853+1303_L-wide_ASP_log10_equad': -6.602914735472172,\n",
       " u'J1853+1303_L-wide_PUPPI_efac': 1.1492319594637164,\n",
       " u'J1853+1303_L-wide_PUPPI_log10_ecorr': -6.593598976033787,\n",
       " u'J1853+1303_L-wide_PUPPI_log10_equad': -8.198453388108797,\n",
       " u'J1853+1303_dm_gamma': 4.233329995566935,\n",
       " u'J1853+1303_dm_kappa': 6.995754849789144,\n",
       " u'J1853+1303_dm_lf0': -8.99870287155351,\n",
       " u'J1853+1303_dm_log10_A': -15.156242310297896,\n",
       " u'J1853+1303_gamma': 0.2342114108533595,\n",
       " u'J1853+1303_log10_A': -11.368019657143769,\n",
       " u'J1857+0943_430_ASP_efac': 1.1446453643606818,\n",
       " u'J1857+0943_430_ASP_log10_ecorr': -7.977429211956711,\n",
       " u'J1857+0943_430_ASP_log10_equad': -8.016521172766573,\n",
       " u'J1857+0943_430_PUPPI_efac': 1.1185100268640955,\n",
       " u'J1857+0943_430_PUPPI_log10_ecorr': -8.047463754486042,\n",
       " u'J1857+0943_430_PUPPI_log10_equad': -7.812002404160703,\n",
       " u'J1857+0943_L-wide_ASP_efac': 1.1459601102581987,\n",
       " u'J1857+0943_L-wide_ASP_log10_ecorr': -6.085894782549246,\n",
       " u'J1857+0943_L-wide_ASP_log10_equad': -6.315681462963327,\n",
       " u'J1857+0943_L-wide_PUPPI_efac': 1.5111423005304263,\n",
       " u'J1857+0943_L-wide_PUPPI_log10_ecorr': -6.495275351793538,\n",
       " u'J1857+0943_L-wide_PUPPI_log10_equad': -6.4198711895828815,\n",
       " u'J1857+0943_dm_gamma': 2.9932485113188223,\n",
       " u'J1857+0943_dm_kappa': 4.25339322402603,\n",
       " u'J1857+0943_dm_lf0': -8.010722245668132,\n",
       " u'J1857+0943_dm_log10_A': -13.360706552827155,\n",
       " u'J1857+0943_gamma': 4.699403026127019,\n",
       " u'J1857+0943_log10_A': -14.20881495695367,\n",
       " u'J1909-3744_CPSR2_20CM_efac': 1.0442204956696108,\n",
       " u'J1909-3744_CPSR2_20CM_log10_ecorr': -7.528491953857066,\n",
       " u'J1909-3744_CPSR2_20CM_log10_equad': -7.354436639336072,\n",
       " u'J1909-3744_CPSR2_50CM_efac': 1.109153563870913,\n",
       " u'J1909-3744_CPSR2_50CM_log10_ecorr': -7.1320182153639315,\n",
       " u'J1909-3744_CPSR2_50CM_log10_equad': -6.5045284576173,\n",
       " u'J1909-3744_PDFB_10CM_efac': 1.097494809642336,\n",
       " u'J1909-3744_PDFB_10CM_log10_ecorr': -8.404106079105054,\n",
       " u'J1909-3744_PDFB_10CM_log10_equad': -8.70184275790694,\n",
       " u'J1909-3744_PDFB_20CM_efac': 1.148204399369281,\n",
       " u'J1909-3744_PDFB_20CM_log10_ecorr': -7.051646152635234,\n",
       " u'J1909-3744_PDFB_20CM_log10_equad': -7.078245853003597,\n",
       " u'J1909-3744_PDFB_40CM_efac': 0.6460938585767951,\n",
       " u'J1909-3744_PDFB_40CM_log10_ecorr': -7.030828059999366,\n",
       " u'J1909-3744_PDFB_40CM_log10_equad': -8.569671736197904,\n",
       " u'J1909-3744_Rcvr1_2_GASP_efac': 1.0012985669798744,\n",
       " u'J1909-3744_Rcvr1_2_GASP_log10_ecorr': -8.309807177253134,\n",
       " u'J1909-3744_Rcvr1_2_GASP_log10_equad': -7.659477228450456,\n",
       " u'J1909-3744_Rcvr1_2_GUPPI_efac': 1.0358423287027327,\n",
       " u'J1909-3744_Rcvr1_2_GUPPI_log10_ecorr': -7.18005513300224,\n",
       " u'J1909-3744_Rcvr1_2_GUPPI_log10_equad': -7.947228368195478,\n",
       " u'J1909-3744_Rcvr_800_GASP_efac': 1.0085197834894508,\n",
       " u'J1909-3744_Rcvr_800_GASP_log10_ecorr': -8.170540816378274,\n",
       " u'J1909-3744_Rcvr_800_GASP_log10_equad': -6.6310178684074526,\n",
       " u'J1909-3744_Rcvr_800_GUPPI_efac': 1.0445928202199732,\n",
       " u'J1909-3744_Rcvr_800_GUPPI_log10_ecorr': -6.699759459586303,\n",
       " u'J1909-3744_Rcvr_800_GUPPI_log10_equad': -7.364919336490437,\n",
       " u'J1909-3744_WBCORR_10CM_efac': 1.468234060496106,\n",
       " u'J1909-3744_WBCORR_10CM_log10_ecorr': -7.134431610106407,\n",
       " u'J1909-3744_WBCORR_10CM_log10_equad': -7.184152578616678,\n",
       " u'J1909-3744_WBCORR_20CM_efac': 2.027480978908432,\n",
       " u'J1909-3744_WBCORR_20CM_log10_ecorr': -6.899803126721826,\n",
       " u'J1909-3744_WBCORR_20CM_log10_equad': -7.916471294901422,\n",
       " u'J1909-3744_dm_gamma': 1.7552934739352328,\n",
       " u'J1909-3744_dm_kappa': 1.8693559066578926,\n",
       " u'J1909-3744_dm_lf0': -8.567773018809708,\n",
       " u'J1909-3744_dm_log10_A': -13.673376313881503,\n",
       " u'J1909-3744_gamma': 2.1628327572043284,\n",
       " u'J1909-3744_log10_A': -15.067783952622273,\n",
       " u'J1918-0642_Rcvr1_2_GASP_efac': 1.042565187353403,\n",
       " u'J1918-0642_Rcvr1_2_GASP_log10_ecorr': -8.006405292351598,\n",
       " u'J1918-0642_Rcvr1_2_GASP_log10_equad': -8.156723819195388,\n",
       " u'J1918-0642_Rcvr1_2_GUPPI_efac': 1.0995240269234101,\n",
       " u'J1918-0642_Rcvr1_2_GUPPI_log10_ecorr': -7.143432223544902,\n",
       " u'J1918-0642_Rcvr1_2_GUPPI_log10_equad': -8.201714542604595,\n",
       " u'J1918-0642_Rcvr_800_GASP_efac': 1.0469323384353313,\n",
       " u'J1918-0642_Rcvr_800_GASP_log10_ecorr': -8.211152476103091,\n",
       " u'J1918-0642_Rcvr_800_GASP_log10_equad': -7.897880245475923,\n",
       " u'J1918-0642_Rcvr_800_GUPPI_efac': 1.0580774236729176,\n",
       " u'J1918-0642_Rcvr_800_GUPPI_log10_ecorr': -7.558888419072181,\n",
       " u'J1918-0642_Rcvr_800_GUPPI_log10_equad': -8.112411839888544,\n",
       " u'J1918-0642_dm_gamma': 2.870425234233547,\n",
       " u'J1918-0642_dm_kappa': 2.1481561805206404,\n",
       " u'J1918-0642_dm_lf0': -8.086992014535623,\n",
       " u'J1918-0642_dm_log10_A': -13.248842157022299,\n",
       " u'J1918-0642_gamma': 2.935455026418848,\n",
       " u'J1918-0642_log10_A': -14.967966445971529,\n",
       " u'J2010-1323_Rcvr1_2_GASP_efac': 0.9216517805977659,\n",
       " u'J2010-1323_Rcvr1_2_GASP_log10_ecorr': -7.962794729386905,\n",
       " u'J2010-1323_Rcvr1_2_GASP_log10_equad': -7.832543423584559,\n",
       " u'J2010-1323_Rcvr1_2_GUPPI_efac': 1.2114156133637417,\n",
       " u'J2010-1323_Rcvr1_2_GUPPI_log10_ecorr': -8.377724806943514,\n",
       " u'J2010-1323_Rcvr1_2_GUPPI_log10_equad': -8.460298519134628,\n",
       " u'J2010-1323_Rcvr_800_GASP_efac': 1.1882964742639985,\n",
       " u'J2010-1323_Rcvr_800_GASP_log10_ecorr': -8.0579752511918,\n",
       " u'J2010-1323_Rcvr_800_GASP_log10_equad': -7.927412733225231,\n",
       " u'J2010-1323_Rcvr_800_GUPPI_efac': 1.117307205251137,\n",
       " u'J2010-1323_Rcvr_800_GUPPI_log10_ecorr': -8.331548575897402,\n",
       " u'J2010-1323_Rcvr_800_GUPPI_log10_equad': -8.366616574374154,\n",
       " u'J2010-1323_dm_gamma': 2.091170457015745,\n",
       " u'J2010-1323_dm_kappa': 2.6239205418786016,\n",
       " u'J2010-1323_dm_lf0': -8.193160919195057,\n",
       " u'J2010-1323_dm_log10_A': -13.111001847665563,\n",
       " u'J2010-1323_gamma': 4.157424625653228,\n",
       " u'J2010-1323_log10_A': -14.358241976336453,\n",
       " u'J2145-0750_Rcvr1_2_GASP_efac': 1.0891958594287845,\n",
       " u'J2145-0750_Rcvr1_2_GASP_log10_ecorr': -7.5028099089017815,\n",
       " u'J2145-0750_Rcvr1_2_GASP_log10_equad': -7.583142058727024,\n",
       " u'J2145-0750_Rcvr1_2_GUPPI_efac': 1.09684603094734,\n",
       " u'J2145-0750_Rcvr1_2_GUPPI_log10_ecorr': -6.549412817591013,\n",
       " u'J2145-0750_Rcvr1_2_GUPPI_log10_equad': -6.2837856388501026,\n",
       " u'J2145-0750_Rcvr_800_GASP_efac': 1.2925647791284773,\n",
       " u'J2145-0750_Rcvr_800_GASP_log10_ecorr': -5.97466234439615,\n",
       " u'J2145-0750_Rcvr_800_GASP_log10_equad': -8.078017475733379,\n",
       " u'J2145-0750_Rcvr_800_GUPPI_efac': 1.1252330114870022,\n",
       " u'J2145-0750_Rcvr_800_GUPPI_log10_ecorr': -5.785662834580293,\n",
       " u'J2145-0750_Rcvr_800_GUPPI_log10_equad': -6.3099119834621815,\n",
       " u'J2145-0750_dm_gamma': 3.146664569299088,\n",
       " u'J2145-0750_dm_kappa': 3.8989099914391874,\n",
       " u'J2145-0750_dm_lf0': -7.648203494710549,\n",
       " u'J2145-0750_dm_log10_A': -15.723026439350447,\n",
       " u'J2145-0750_gamma': 1.0320660602460368,\n",
       " u'J2145-0750_log10_A': -13.001846483459735,\n",
       " u'J2317+1439_327_ASP_efac': 1.0499143400782478,\n",
       " u'J2317+1439_327_ASP_log10_ecorr': -6.074393869608259,\n",
       " u'J2317+1439_327_ASP_log10_equad': -6.398124559979138,\n",
       " u'J2317+1439_327_PUPPI_efac': 1.151391121993113,\n",
       " u'J2317+1439_327_PUPPI_log10_ecorr': -6.1398428859682355,\n",
       " u'J2317+1439_327_PUPPI_log10_equad': -6.399333516087468,\n",
       " u'J2317+1439_430_ASP_efac': 1.1343102909288,\n",
       " u'J2317+1439_430_ASP_log10_ecorr': -6.306735035889821,\n",
       " u'J2317+1439_430_ASP_log10_equad': -6.684558819945579,\n",
       " u'J2317+1439_430_PUPPI_efac': 1.0389685866248506,\n",
       " u'J2317+1439_430_PUPPI_log10_ecorr': -6.293466831628994,\n",
       " u'J2317+1439_430_PUPPI_log10_equad': -6.40369344454936,\n",
       " u'J2317+1439_L-wide_PUPPI_efac': 0.9531800509588593,\n",
       " u'J2317+1439_L-wide_PUPPI_log10_ecorr': -8.230311226179264,\n",
       " u'J2317+1439_L-wide_PUPPI_log10_equad': -6.549425170067322,\n",
       " u'J2317+1439_dm_gamma': 2.381079819603997,\n",
       " u'J2317+1439_dm_kappa': 2.064062646807942,\n",
       " u'J2317+1439_dm_lf0': -8.411767224142631,\n",
       " u'J2317+1439_dm_log10_A': -13.309321987256837,\n",
       " u'J2317+1439_gamma': 3.01782162608656,\n",
       " u'J2317+1439_log10_A': -17.081706283314865}"
      ]
     },
     "execution_count": 26,
     "metadata": {},
     "output_type": "execute_result"
    }
   ],
   "source": [
    "params"
   ]
  },
  {
   "cell_type": "markdown",
   "metadata": {},
   "source": [
    "### Set up sampler"
   ]
  },
  {
   "cell_type": "code",
   "execution_count": 11,
   "metadata": {
    "collapsed": true
   },
   "outputs": [],
   "source": [
    "# dimension of parameter space\n",
    "ndim = len(xs)\n",
    "\n",
    "# initial jump covariance matrix\n",
    "cov = np.diag(np.ones(ndim) * 0.01**2)\n",
    "\n",
    "# set up jump groups by red noise groups \n",
    "ndim = len(xs)\n",
    "groups = get_parameter_groups(pta)\n",
    "\n",
    "sampler = ptmcmc(ndim, pta.get_lnlikelihood, pta.get_lnprior, cov, groups=groups, \n",
    "                 outDir='./chains/ipta_dr2_ng_ppta_gwb/')"
   ]
  },
  {
   "cell_type": "markdown",
   "metadata": {},
   "source": [
    "### Sample!"
   ]
  },
  {
   "cell_type": "code",
   "execution_count": null,
   "metadata": {
    "collapsed": false
   },
   "outputs": [
    {
     "name": "stdout",
     "output_type": "stream",
     "text": [
      "Finished 1.00 percent in 431.417335 s Acceptance rate = 0.6181Adding DE jump with weight 50\n",
      "Finished 3.20 percent in 1446.421140 s Acceptance rate = 0.503219"
     ]
    }
   ],
   "source": [
    "# sampler for N steps\n",
    "N = 1000000\n",
    "x0 = np.hstack(p.sample() for p in pta.params)\n",
    "sampler.sample(x0, N, SCAMweight=30, AMweight=15, DEweight=50, )"
   ]
  },
  {
   "cell_type": "markdown",
   "metadata": {},
   "source": [
    "### Plot output"
   ]
  },
  {
   "cell_type": "code",
   "execution_count": 4,
   "metadata": {
    "collapsed": false
   },
   "outputs": [],
   "source": [
    "chain = np.loadtxt('./chains/nano_9_gwb/chain_1.txt')\n",
    "#pars = sorted(xs.keys())\n",
    "burn = int(0.25 * chain.shape[0])"
   ]
  },
  {
   "cell_type": "code",
   "execution_count": 6,
   "metadata": {
    "collapsed": false
   },
   "outputs": [
    {
     "data": {
      "image/png": "[encoded data removed]",
      "text/plain": [
       "<matplotlib.figure.Figure at 0x119ea10d0>"
      ]
     },
     "metadata": {
      "image/png": {
       "height": 250,
       "width": 373
      }
     },
     "output_type": "display_data"
    }
   ],
   "source": [
    "plt.hist(chain[burn:,-5], 50, normed=True, histtype='step', lw=2);\n",
    "#plt.xlabel(pars[-1]);"
   ]
  },
  {
   "cell_type": "markdown",
   "metadata": {
    "collapsed": true
   },
   "source": [
    "### Upper limit value\n",
    "\n",
    "We see that the upper limit agrees perfectly with the published value."
   ]
  },
  {
   "cell_type": "code",
   "execution_count": 39,
   "metadata": {
    "collapsed": false
   },
   "outputs": [
    {
     "name": "stdout",
     "output_type": "stream",
     "text": [
      "1.49899289556e-15\n"
     ]
    }
   ],
   "source": [
    "upper = 10**np.percentile(chain[burn:, -5], q=0.95)\n",
    "print(upper)"
   ]
  },
  {
   "cell_type": "code",
   "execution_count": null,
   "metadata": {
    "collapsed": true
   },
   "outputs": [],
   "source": []
  }
 ],
 "metadata": {
  "anaconda-cloud": {},
  "kernelspec": {
   "display_name": "Python [conda env:coralsnake]",
   "language": "python",
   "name": "conda-env-coralsnake-py"
  },
  "language_info": {
   "codemirror_mode": {
    "name": "ipython",
    "version": 2
   },
   "file_extension": ".py",
   "mimetype": "text/x-python",
   "name": "python",
   "nbconvert_exporter": "python",
   "pygments_lexer": "ipython2",
   "version": "2.7.13"
  },
  "toc": {
   "nav_menu": {},
   "number_sections": true,
   "sideBar": true,
   "skip_h1_title": false,
   "toc_cell": false,
   "toc_position": {},
   "toc_section_display": "block",
   "toc_window_display": false
  }
 },
 "nbformat": 4,
 "nbformat_minor": 2
}
