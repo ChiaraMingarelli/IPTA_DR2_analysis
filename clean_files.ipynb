{
 "cells": [
  {
   "cell_type": "code",
   "execution_count": 17,
   "metadata": {},
   "outputs": [],
   "source": [
    "from __future__ import division\n",
    "import numpy as np\n",
    "import glob\n",
    "import os\n",
    "import matplotlib.pyplot as plt\n",
    "import libstempo as t2\n",
    "\n",
    "% matplotlib inline\n",
    "%config InlineBackend.figure_format = 'retina'"
   ]
  },
  {
   "cell_type": "markdown",
   "metadata": {},
   "source": [
    "# 1. Clean par and tim files\n",
    "\n",
    "1. Make a directory called `partim` that contains a single par file and single tim file for all pulsars.\n",
    "\n",
    "2. Clean the par files by removing all noise and DM model parameters. We will also add in DM1 and DM2 if not already present in the par file.\n",
    "\n",
    "3. Concatenate all \"INCLUDEs\" into a single tim file"
   ]
  },
  {
   "cell_type": "markdown",
   "metadata": {},
   "source": [
    "### Create partim directory"
   ]
  },
  {
   "cell_type": "code",
   "execution_count": 102,
   "metadata": {},
   "outputs": [
    {
     "data": {
      "text/plain": [
       "0"
      ]
     },
     "execution_count": 102,
     "metadata": {},
     "output_type": "execute_result"
    }
   ],
   "source": [
    "DR2DATA = '/Users/jaellis/Work/pulsar_data/DR2/'\n",
    "datadir = DR2DATA + '/release/VersionA/'\n",
    "parfiles = glob.glob(datadir + '/J*/*IPTADR2.par')\n",
    "os.system('mkdir -p partim')"
   ]
  },
  {
   "cell_type": "markdown",
   "metadata": {},
   "source": [
    "### Clean par files"
   ]
  },
  {
   "cell_type": "code",
   "execution_count": 103,
   "metadata": {},
   "outputs": [],
   "source": [
    "for parfile in parfiles:\n",
    "    cut = ['T2EFAC', 'T2EQUAD', 'ECORR', 'TNEF', 'TNEQ', 'TNECORR', 'DMMODEL', \n",
    "           '_DM', '_CM', 'CONSTRAIN', 'DMOFF', 'START', 'FINISH', \n",
    "           'TZRSITE'  # maybe remove this\n",
    "          ]\n",
    "    fin = open(parfile, 'r')\n",
    "    lines = fin.readlines()\n",
    "    name = lines[0].split()[1]\n",
    "    fout = open('partim/{}.par'.format(name), 'w')\n",
    "    for line in lines:\n",
    "        if not any([line.startswith(flag) for flag in cut]):\n",
    "            fout.write('%s'%line)\n",
    "            try:\n",
    "                if line.split()[0] == 'DM':\n",
    "                    fout.write('DM1 0 1\\n')\n",
    "                    fout.write('DM2 0 1\\n')\n",
    "            except IndexError:\n",
    "                pass\n",
    "    fin.close()\n",
    "    fout.close()"
   ]
  },
  {
   "cell_type": "markdown",
   "metadata": {},
   "source": [
    "### Combine tim files"
   ]
  },
  {
   "cell_type": "code",
   "execution_count": 104,
   "metadata": {},
   "outputs": [],
   "source": [
    "psrs = glob.glob(datadir + 'J*')\n",
    "for psr in psrs:\n",
    "    name = psr.split('/')[-1]\n",
    "    tfile = open(psr+'/{}.IPTADR2.tim'.format(name), 'r')\n",
    "    lines = tfile.readlines()\n",
    "    timfiles = []\n",
    "    for line in lines:\n",
    "        if not (line.startswith('FORMAT') or line.startswith('#')) and line.strip():\n",
    "            timfiles.append(psr + '/' + line.split()[-1])\n",
    "    tfile.close()\n",
    "    fout = open('partim/{}.tim'.format(name), 'w')\n",
    "    fout.write('FORMAT 1\\n')\n",
    "    fout.write('MODE 1\\n')\n",
    "    for tim in timfiles:\n",
    "        fin = open(tim, 'r')\n",
    "        lines = fin.readlines()\n",
    "        for line in lines:\n",
    "            if not (line.startswith('FORMAT') or line.startswith('MODE') or line.startswith('C')):\n",
    "                fout.write('%s\\n'%line.rstrip())\n",
    "            \n",
    "        fin.close()\n",
    "    fout.close()"
   ]
  },
  {
   "cell_type": "code",
   "execution_count": null,
   "metadata": {},
   "outputs": [],
   "source": []
  },
  {
   "cell_type": "markdown",
   "metadata": {},
   "source": [
    "# 2. Create filtered par and tim files\n",
    "\n",
    "Here we create a filtered dataset by applying a frequency filter and a PTA filter\n",
    "\n",
    "1. **Frequency filter**: Only keep TOAs that have a certain bandwidth (`bw`) coverage over a certain period of time (`dt`). For instance, `dt=7` and `bw=800` will only keep TOAs that have at least 800 MHz of bandwidth (i.e. difference between max and min radio frequency) in every 7 day window.\n",
    "\n",
    "2. **PTA filter**: Only keep TOAs corresponding to a given PTA, or group of PTAs."
   ]
  },
  {
   "cell_type": "code",
   "execution_count": 105,
   "metadata": {},
   "outputs": [],
   "source": [
    "def get_dm_bins(toas, dt=7):\n",
    "    \"\"\"Returns a list of boolean arrays for each time bin corresponding\n",
    "    to TOAs within that bin.\n",
    "    \"\"\"\n",
    "    bins = int(np.ceil((toas.max() - toas.min()) / (86400*dt)))\n",
    "    tmin = toas.min() - 1\n",
    "    tmax = toas.max() + 1\n",
    "    _, xedges = np.histogram(toas, bins=bins, range=[tmin, tmax])\n",
    "    return [np.logical_and(toas >= xedges[ct], toas <= xedges[ct+1]) \n",
    "            for ct in range(len(xedges)-1)]"
   ]
  },
  {
   "cell_type": "code",
   "execution_count": 106,
   "metadata": {},
   "outputs": [],
   "source": [
    "def filter_psr(psr, bw=800, dt=7, filters=None, frequency_filter=True):\n",
    "    \"\"\"Returns a new `libstempo` object that has the frequency and optional PTA filter applied.\"\"\"\n",
    "    \n",
    "    psr.deleted[:] = 1\n",
    "    print('Working on PSR {}'.format(psr.name))\n",
    "    \n",
    "    # Flag filtering\n",
    "    idx0 = []\n",
    "    if filters:\n",
    "        for fltr in filters:\n",
    "            for key, val in fltr.items():\n",
    "                print('Keeping TOAs corresponding to {} {}'.format(key, val))\n",
    "                flag_cond = [np.flatnonzero(psr.flagvals(key)==v) for v in val]\n",
    "                idx0.append(np.concatenate(flag_cond))\n",
    "    \n",
    "    \n",
    "    idx0 = np.unique(np.array(idx0))\n",
    "    \n",
    "    # filter for frequency coverage\n",
    "    if frequency_filter:\n",
    "        bins = get_dm_bins(psr.toas()*86400, dt=7)\n",
    "        idx = []\n",
    "        for bn in bins:\n",
    "            if sum(bn) > 1:\n",
    "                ix = filter(lambda x: x in idx0, np.flatnonzero(bn))\n",
    "                if len(ix) > 0:\n",
    "                    if psr.freqs[ix].max() - psr.freqs[ix].min() >= bw:\n",
    "                        idx.append(ix)\n",
    "\n",
    "        # delete\n",
    "        idx = np.unique(np.concatenate(idx))\n",
    "    else:\n",
    "        idx = idx0\n",
    "    psr.deleted[idx] = 0\n",
    "                \n",
    "    # filter design matrix\n",
    "    mask = psr.deleted[:] == 0\n",
    "    M = psr.designmatrix()[mask, :]\n",
    "    dpars = []\n",
    "    for ct, (par, val) in enumerate(zip(psr.pars(), M.sum(axis=0)[1:])):\n",
    "        if val == 0:\n",
    "            dpars.append(par)\n",
    "            psr[par].fit = False\n",
    "            psr[par].val = 0.0\n",
    "    print('Cutting {} TOAs'.format(np.sum(~mask)))\n",
    "    print('Turning off fit for {}'.format(dpars))\n",
    "    print('\\n')\n",
    "    plt.figure(figsize=(8,3))\n",
    "    nix = psr.flagvals('pta') == 'NANOGrav'\n",
    "    plt.plot(psr.toas(), psr.freqs, '.')\n",
    "    plt.plot(psr.toas()[nix], psr.freqs[nix], '.', color='C2')\n",
    "    plt.plot(psr.toas()[~psr.deletedmask()], psr.freqs[~psr.deletedmask()], '.', color='C1')\n",
    "    plt.title(psr.name)\n",
    "    return psr"
   ]
  },
  {
   "cell_type": "code",
   "execution_count": 107,
   "metadata": {},
   "outputs": [],
   "source": [
    "def make_dataset(psrdict, outdir='partim_filtered'):\n",
    "    \"\"\"Makes a filtered dataset\"\"\"\n",
    "    \n",
    "    os.system('rm -rf {}'.format(outdir))\n",
    "    os.system('mkdir -p {}'.format(outdir))\n",
    "    for pname, filters in sorted(psrdict.items()):\n",
    "        parfile = 'partim/{}.par'.format(pname)\n",
    "        timfile = 'partim/{}.tim'.format(pname)\n",
    "        psr = t2.tempopulsar(parfile, timfile, maxobs=30000)\n",
    "        if pname in ['J0437-4715', 'J2317+1439']:\n",
    "            frequency_filter = False\n",
    "        else:\n",
    "            frequency_filter = True\n",
    "        try:
    "            psr = filter_psr(psr, bw=400, dt=30, filters=filters, frequency_filter=frequency_filter)\n",
    "            psr.savetim('{}/{}.tim'.format(outdir, pname))\n",
    "            psr.savepar('{}/{}.par'.format(outdir, pname))\n",
    "            del psr"
    "        except:"
    "            print('no data, skipping')"
    "            print('\n')"
   ]
  },
  {
   "cell_type": "markdown",
   "metadata": {},
   "source": [
    "### Pulsar dictionary\n",
    "\n",
    "This is input to the `make_dataset` function. We list the pulsars we want to include along with the corresponding PTAs we want to use. In the case below we only have one PTA per pulsar but one could use `['NANOGrav', 'PPTA']` as well as any other combination."
   ]
  },
  {
   "cell_type": "code",
   "execution_count": 108,
   "metadata": {},
   "outputs": [],
   "source": [
    "psrdict = {'J1713+0747': [{'pta': ['NANOGrav']}], \n",
    "           'J1909-3744': [{'pta': ['NANOGrav']}], \n",
    "           'J1640+2224': [{'pta': ['NANOGrav']}], \n",
    "           'J1600-3053': [{'pta': ['NANOGrav']}],\n",
    "           'J2317+1439': [{'pta': ['NANOGrav']}], \n",
    "           'J1918-0642': [{'pta': ['NANOGrav']}], \n",
    "           'J1614-2230': [{'pta': ['NANOGrav']}], \n",
    "           'J1744-1134': [{'pta': ['NANOGrav']}],\n",
    "           'J0030+0451': [{'pta': ['NANOGrav']}], \n",
    "           'J2145-0750': [{'pta': ['NANOGrav']}], \n",
    "           'J1857+0943': [{'pta': ['NANOGrav']}], \n",
    "           'J1853+1303': [{'pta': ['NANOGrav']}], \n",
    "           'J0613-0200': [{'pta': ['NANOGrav']}],\n",
    "           'J1455-3330': [{'pta': ['NANOGrav']}], \n",
    "           'J1741+1351': [{'pta': ['NANOGrav']}], \n",
    "           'J2010-1323': [{'pta': ['NANOGrav']}], \n",
    "           'J1024-0719': [{'pta': ['NANOGrav']}], \n",
    "           'J1012+5307': [{'pta': ['NANOGrav']}],\n",
    "           'J0437-4715': [{'pta': ['PPTA']}]\n",
    "          }"
   ]
  },
  {
   "cell_type": "code",
   "execution_count": 87,
   "metadata": {},
   "outputs": [],
   "source": [
    "psrdict = {'J1713+0747': [{'pta': ['NANOGrav', 'PPTA']}], \n",
    "           'J1909-3744': [{'pta': ['NANOGrav', 'PPTA']}], \n",
    "           'J1640+2224': [{'pta': ['NANOGrav']}], \n",
    "           'J1600-3053': [{'pta': ['NANOGrav']}],\n",
    "           'J2317+1439': [{'pta': ['NANOGrav']}], \n",
    "           'J1918-0642': [{'pta': ['NANOGrav']}], \n",
    "           'J1614-2230': [{'pta': ['NANOGrav']}], \n",
    "           'J1744-1134': [{'pta': ['NANOGrav', 'PPTA']}],\n",
    "           'J0030+0451': [{'pta': ['NANOGrav']}], \n",
    "           'J2145-0750': [{'pta': ['NANOGrav']}], \n",
    "           'J1857+0943': [{'pta': ['NANOGrav']}], \n",
    "           'J1853+1303': [{'pta': ['NANOGrav']}], \n",
    "           'J0613-0200': [{'pta': ['NANOGrav']}],\n",
    "           'J1455-3330': [{'pta': ['NANOGrav']}], \n",
    "           'J1741+1351': [{'pta': ['NANOGrav']}], \n",
    "           'J2010-1323': [{'pta': ['NANOGrav']}], \n",
    "           'J1024-0719': [{'pta': ['NANOGrav']}], \n",
    "           'J1012+5307': [{'pta': ['NANOGrav']}],\n",
    "           'J0437-4715': [{'pta': ['PPTA']}]\n",
    "          }"
   ]
  },
  {
   "cell_type": "code",
   "execution_count": null,
   "metadata": {
    "scrolled": false
   },
   "outputs": [
    {
     "name": "stdout",
     "output_type": "stream",
     "text": [
      "Working on PSR J0030+0451\n",
      "Keeping TOAs corresponding to pta ['NANOGrav']\n",
      "Cutting 907 TOAs\n",
      "Turning off fit for ['JUMP1', 'JUMP2', 'JUMP3', 'JUMP4', 'JUMP5', 'JUMP6', 'JUMP7']\n",
      "\n",
      "\n",
      "Working on PSR J0437-4715\n",
      "Keeping TOAs corresponding to pta ['PPTA']\n",
      "Cutting 0 TOAs\n",
      "Turning off fit for []\n",
      "\n",
      "\n",
      "Working on PSR J0613-0200\n",
      "Keeping TOAs corresponding to pta ['NANOGrav']\n",
      "Cutting 3318 TOAs\n",
      "Turning off fit for ['JUMP1', 'JUMP2', 'JUMP3', 'JUMP4', 'JUMP5', 'JUMP6', 'JUMP7', 'JUMP8', 'JUMP9', 'JUMP10', 'JUMP11', 'JUMP12', 'JUMP13', 'JUMP14', 'JUMP17', 'JUMP18', 'JUMP19', 'JUMP20', 'JUMP21', 'JUMP22', 'JUMP23', 'JUMP24', 'JUMP25', 'JUMP26', 'JUMP27', 'JUMP28', 'JUMP29', 'JUMP30', 'JUMP31', 'JUMP32', 'JUMP33']\n",
      "\n",
      "\n",
      "Working on PSR J1012+5307\n",
      "Keeping TOAs corresponding to pta ['NANOGrav']\n",
      "Cutting 4051 TOAs\n",
      "Turning off fit for ['JUMP1', 'JUMP2', 'JUMP3', 'JUMP4', 'JUMP5', 'JUMP6', 'JUMP7', 'JUMP8', 'JUMP9', 'JUMP10', 'JUMP11', 'JUMP12', 'JUMP13', 'JUMP14', 'JUMP15']\n",
      "\n",
      "\n",
      "Working on PSR J1024-0719\n",
      "Keeping TOAs corresponding to pta ['NANOGrav']\n",
      "Cutting 1453 TOAs\n",
      "Turning off fit for ['JUMP1', 'JUMP2', 'JUMP3', 'JUMP4', 'JUMP5', 'JUMP6', 'JUMP7', 'JUMP8', 'JUMP9', 'JUMP12', 'JUMP13', 'JUMP14', 'JUMP15', 'JUMP16', 'JUMP17', 'JUMP18', 'JUMP19', 'JUMP20', 'JUMP21', 'JUMP22', 'JUMP23', 'JUMP24', 'JUMP25', 'JUMP26', 'JUMP27', 'JUMP28']\n",
      "\n",
      "\n",
      "Working on PSR J1455-3330\n",
      "Keeping TOAs corresponding to pta ['NANOGrav']\n",
      "Cutting 1938 TOAs\n",
      "Turning off fit for ['JUMP1', 'JUMP2', 'JUMP3']\n",
      "\n",
      "\n",
      "Working on PSR J1600-3053\n",
      "Keeping TOAs corresponding to pta ['NANOGrav']\n",
      "Cutting 3037 TOAs\n",
      "Turning off fit for ['JUMP1', 'JUMP2', 'JUMP3', 'JUMP4', 'JUMP7', 'JUMP8', 'JUMP9', 'JUMP10', 'JUMP11', 'JUMP12', 'JUMP13', 'JUMP14', 'JUMP15', 'JUMP16', 'JUMP17', 'JUMP18', 'JUMP19', 'JUMP20', 'JUMP21', 'JUMP22', 'JUMP23']\n",
      "\n",
      "\n",
      "Working on PSR J1614-2230\n",
      "Keeping TOAs corresponding to pta ['NANOGrav']\n",
      "Cutting 947 TOAs\n",
      "Turning off fit for []\n",
      "\n",
      "\n",
      "Working on PSR J1640+2224\n",
      "Keeping TOAs corresponding to pta ['NANOGrav']\n",
      "Cutting 657 TOAs\n",
      "Turning off fit for ['JUMP1', 'JUMP2', 'JUMP3', 'JUMP4', 'JUMP5', 'JUMP6', 'JUMP7', 'JUMP8']\n",
      "\n",
      "\n",
      "Working on PSR J1713+0747\n",
      "Keeping TOAs corresponding to pta ['NANOGrav']\n",
      "Cutting 3452 TOAs\n",
      "Turning off fit for ['JUMP1', 'JUMP2', 'JUMP3', 'JUMP4', 'JUMP5', 'JUMP6', 'JUMP7', 'JUMP8', 'JUMP9', 'JUMP10', 'JUMP11', 'JUMP12', 'JUMP13', 'JUMP14', 'JUMP15', 'JUMP17', 'JUMP18', 'JUMP26', 'JUMP27', 'JUMP28', 'JUMP29', 'JUMP30', 'JUMP31', 'JUMP32', 'JUMP33', 'JUMP34', 'JUMP35', 'JUMP36', 'JUMP37', 'JUMP38', 'JUMP39', 'JUMP40', 'JUMP41', 'JUMP42', 'JUMP43', 'JUMP44']\n",
      "\n",
      "\n",
      "Working on PSR J1741+1351\n",
      "Keeping TOAs corresponding to pta ['NANOGrav']\n",
      "Cutting 288 TOAs\n",
      "Turning off fit for []\n",
      "\n",
      "\n",
      "Working on PSR J1744-1134\n",
      "Keeping TOAs corresponding to pta ['NANOGrav']\n",
      "Cutting 3635 TOAs\n",
      "Turning off fit for ['JUMP1', 'JUMP2', 'JUMP3', 'JUMP4', 'JUMP5', 'JUMP6', 'JUMP7', 'JUMP8', 'JUMP9', 'JUMP12', 'JUMP13', 'JUMP14', 'JUMP15', 'JUMP16', 'JUMP17', 'JUMP18', 'JUMP19', 'JUMP20', 'JUMP21', 'JUMP22', 'JUMP23', 'JUMP24', 'JUMP25', 'JUMP26', 'JUMP27', 'JUMP28']\n",
      "\n",
      "\n",
      "Working on PSR J1853+1303\n",
      "Keeping TOAs corresponding to pta ['NANOGrav']\n",
      "Cutting 414 TOAs\n",
      "Turning off fit for ['JUMP1', 'JUMP2', 'JUMP3']\n",
      "\n",
      "\n",
      "Working on PSR J1857+0943\n",
      "Keeping TOAs corresponding to pta ['NANOGrav']\n",
      "Cutting 698 TOAs\n",
      "Turning off fit for ['JUMP1', 'JUMP2', 'JUMP3', 'JUMP4', 'JUMP5', 'JUMP6', 'JUMP7', 'JUMP8', 'JUMP9', 'JUMP12', 'JUMP13', 'JUMP14', 'JUMP15', 'JUMP16', 'JUMP17', 'JUMP18', 'JUMP19', 'JUMP20', 'JUMP21', 'JUMP22', 'JUMP23', 'JUMP24', 'JUMP25', 'JUMP26', 'JUMP27', 'JUMP28']\n",
      "\n",
      "\n",
      "Working on PSR J1909-3744\n",
      "Keeping TOAs corresponding to pta ['NANOGrav']\n"
     ]
    }
   ],
   "source": [
    "make_dataset(psrdict, outdir='partim_filtered')"
   ]
  },
  {
   "cell_type": "code",
   "execution_count": null,
   "metadata": {},
   "outputs": [],
   "source": []
  }
 ],
 "metadata": {
  "kernelspec": {
   "display_name": "Python 2",
   "language": "python",
   "name": "python2"
  },
  "language_info": {
   "codemirror_mode": {
    "name": "ipython",
    "version": 2
   },
   "file_extension": ".py",
   "mimetype": "text/x-python",
   "name": "python",
   "nbconvert_exporter": "python",
   "pygments_lexer": "ipython2",
   "version": "2.7.13"
  }
 },
 "nbformat": 4,
 "nbformat_minor": 2
}
