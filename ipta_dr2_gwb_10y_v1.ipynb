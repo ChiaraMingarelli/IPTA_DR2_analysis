{
 "cells": [
  {
   "cell_type": "markdown",
   "metadata": {
    "deletable": true,
    "editable": true
   },
   "source": [
    "# Analyzing IPTA DR2 Data\n",
    "\n",
    "In this notebook we will use `enterprise` to analyze the IPTA DR2 for a stochastic GW background from DR2-lite where an initial cut of pulsars with > 10y baselines was made, then a FoM cut, and using the EPTA's J1713+0437 data."
   ]
  },
  {
   "cell_type": "code",
   "execution_count": 1,
   "metadata": {
    "collapsed": false,
    "deletable": true,
    "editable": true
   },
   "outputs": [
    {
     "name": "stdout",
     "output_type": "stream",
     "text": [
      "Do not have mpi4py package.\n"
     ]
    }
   ],
   "source": [
    "% matplotlib inline\n",
    "%config InlineBackend.figure_format = 'retina'\n",
    "#%load_ext line_profiler\n",
    "\n",
    "from __future__ import division\n",
    "\n",
    "import numpy as np\n",
    "import glob\n",
    "import matplotlib.pyplot as plt\n",
    "import scipy.linalg as sl\n",
    "\n",
    "import enterprise\n",
    "from enterprise.pulsar import Pulsar\n",
    "import enterprise.signals.parameter as parameter\n",
    "from enterprise.signals import utils\n",
    "from enterprise.signals import signal_base\n",
    "from enterprise.signals import selections\n",
    "from enterprise.signals.selections import Selection\n",
    "from enterprise.signals import white_signals\n",
    "from enterprise.signals import gp_signals\n",
    "from enterprise.signals import deterministic_signals\n",
    "import enterprise.constants as const\n",
    "from enterprise.signals import utils\n",
    "from utils import *\n",
    "\n",
    "\n",
    "import corner\n",
    "from PTMCMCSampler.PTMCMCSampler import PTSampler as ptmcmc\n",
    "\n",
    "import json"
   ]
  },
  {
   "cell_type": "markdown",
   "metadata": {
    "deletable": true,
    "editable": true
   },
   "source": [
    "### Notebook-specific choices"
   ]
  },
  {
   "cell_type": "code",
   "execution_count": 9,
   "metadata": {
    "collapsed": true,
    "deletable": true,
    "editable": true
   },
   "outputs": [],
   "source": [
    "#The subset of pulsars to be analyzed\n",
    "NG = False\n",
    "EPTA = False\n",
    "PPTA = False\n",
    "PPTA4 = False\n",
    "PPTA4_psrs = ['J0437-4715', 'J1713+0747', 'J1744-1134', 'J1909+1256']\n",
    "specific_psrs = ['J0030+0451', 'J0218+4232', 'J0613-0200', 'J1012+5307', 'J1024-0719', 'J1713+0747', 'J1744-1134', \\\n",
    "                 'J1909-3744', 'J2145-0750', 'J0034-0534', 'J0437-4715', 'J0751+1807', 'J1022+1001', 'J1640+2224', \\\n",
    "                 'J1730-2304', 'J1857+0943', 'J1918-0642', 'J2317+1439']  # list of specific pulsars\n",
    "\n",
    "#Path to directory containing the relevant par and tim files\n",
    "datadir = '/home/tim/Documents/research/NANOGrav/ipta_busyweek_dec2017/IPTA_DR2_Lite_10yr/IPTA_DR2_Lite_10yr_partim'\n",
    "\n",
    "#Path to directory containing the relevant .json noisefiles\n",
    "noisedir = '/home/tim/Documents/research/NANOGrav/ipta_busyweek_dec2017/IPTA_DR2_Lite_10yr/IPTA_DR2_Lite_10yr_noisefiles'\n",
    "\n",
    "#Path to directory where chains are stored\n",
    "outdir = '/home/tim/Documents/research/NANOGrav/ipta_busyweek_dec2017/chains'\n",
    "\n",
    "#Resume chains?\n",
    "resume_chains = True"
   ]
  },
  {
   "cell_type": "markdown",
   "metadata": {
    "deletable": true,
    "editable": true
   },
   "source": [
    "### Function to convert PAL2 noise parameters to enterprise parameter dict"
   ]
  },
  {
   "cell_type": "code",
   "execution_count": 10,
   "metadata": {
    "collapsed": true,
    "deletable": true,
    "editable": true
   },
   "outputs": [],
   "source": [
    "def get_noise_from_pal2(noisefile):\n",
    "    psrname = noisefile.split('/')[-1].split('_noise.txt')[0]\n",
    "    fin = open(noisefile, 'r')\n",
    "    lines = fin.readlines()\n",
    "    params = {}\n",
    "    for line in lines:\n",
    "        ln = line.split()\n",
    "        if 'efac' in line:\n",
    "            par = 'efac'\n",
    "            flag = ln[0].split('efac-')[-1]\n",
    "        elif 'equad' in line:\n",
    "            par = 'log10_equad'\n",
    "            flag = ln[0].split('equad-')[-1]\n",
    "        elif 'jitter_q' in line:\n",
    "            par = 'log10_ecorr'\n",
    "            flag = ln[0].split('jitter_q-')[-1]\n",
    "        elif 'RN-Amplitude' in line:\n",
    "            par = 'log10_A'\n",
    "            flag = ''\n",
    "        elif 'RN-spectral-index' in line:\n",
    "            par = 'gamma'\n",
    "            flag = ''\n",
    "        else:\n",
    "            break\n",
    "        if flag:\n",
    "            name = [psrname, flag, par]\n",
    "        else:\n",
    "            name = [psrname, par]\n",
    "        pname = '_'.join(name)\n",
    "        params.update({pname: float(ln[1])})\n",
    "    return params"
   ]
  },
  {
   "cell_type": "code",
   "execution_count": 11,
   "metadata": {
    "collapsed": false,
    "deletable": true,
    "editable": true
   },
   "outputs": [],
   "source": [
    "#Dictionary of all pulsars\n",
    "psrdict_all = \\\n",
    "{'J0023+0923': [{'pta': ['NANOGrav']}],\n",
    " 'J0030+0451': [{'pta': ['EPTA', 'NANOGrav']}],\n",
    " 'J0034-0534': [{'pta': ['EPTA']}],\n",
    " 'J0218+4232': [{'pta': ['EPTA']}],\n",
    " 'J0340+4130': [{'pta': ['NANOGrav']}],\n",
    " 'J0437-4715': [{'pta': ['PPTA']}],\n",
    " 'J0610-2100': [{'pta': ['EPTA']}],\n",
    " 'J0613-0200': [{'pta': ['EPTA', 'NANOGrav', 'PPTA']}],\n",
    " 'J0621+1002': [{'pta': ['EPTA']}],\n",
    " 'J0645+5158': [{'pta': ['NANOGrav']}],\n",
    " 'J0711-6830': [{'pta': ['PPTA']}],\n",
    " 'J0751+1807': [{'pta': ['EPTA']}],\n",
    " 'J0900-3144': [{'pta': ['EPTA']}],\n",
    " 'J0931-1902': [{'pta': ['NANOGrav']}],\n",
    " 'J1012+5307': [{'pta': ['EPTA', 'NANOGrav']}],\n",
    " 'J1022+1001': [{'pta': ['EPTA']}],\n",
    " 'J1024-0719': [{'pta': ['EPTA', 'NANOGrav', 'PPTA']}],\n",
    " 'J1045-4509': [{'pta': ['PPTA']}],\n",
    " 'J1455-3330': [{'pta': ['EPTA', 'NANOGrav']}],\n",
    " 'J1600-3053': [{'pta': ['EPTA', 'NANOGrav', 'PPTA']}],\n",
    " 'J1603-7202': [{'pta': ['PPTA']}],\n",
    " 'J1614-2230': [{'pta': ['NANOGrav']}],\n",
    " 'J1640+2224': [{'pta': ['EPTA', 'NANOGrav']}],\n",
    " 'J1643-1224': [{'pta': ['EPTA', 'NANOGrav', 'PPTA']}],\n",
    " 'J1713+0747': [{'pta': ['EPTA', 'NANOGrav', 'PPTA']}],\n",
    " 'J1721-2457': [{'pta': ['EPTA']}],\n",
    " 'J1730-2304': [{'pta': ['EPTA']}],\n",
    " 'J1738+0333': [{'pta': ['EPTA', 'NANOGrav']}],\n",
    " 'J1741+1351': [{'pta': ['NANOGrav']}],\n",
    " 'J1744-1134': [{'pta': ['EPTA', 'NANOGrav', 'PPTA']}],\n",
    " 'J1747-4036': [{'pta': ['NANOGrav']}],\n",
    " 'J1751-2857': [{'pta': ['EPTA']}],\n",
    " 'J1801-1417': [{'pta': ['EPTA']}],\n",
    " 'J1802-2124': [{'pta': ['EPTA']}],\n",
    " 'J1804-2717': [{'pta': ['EPTA']}],\n",
    " 'J1824-2452A': [{'pta': ['PPTA']}],\n",
    " 'J1832-0836': [{'pta': ['NANOGrav']}],\n",
    " 'J1843-1113': [{'pta': ['EPTA']}],\n",
    " 'J1853+1303': [{'pta': ['EPTA', 'NANOGrav']}],\n",
    " 'J1857+0943': [{'pta': ['EPTA', 'NANOGrav', 'PPTA']}],\n",
    " 'J1903+0327': [{'pta': ['NANOGrav']}],\n",
    " 'J1909-3744': [{'pta': ['EPTA', 'NANOGrav', 'PPTA']}],\n",
    " 'J1910+1256': [{'pta': ['EPTA', 'NANOGrav']}],\n",
    " 'J1911+1347': [{'pta': ['EPTA']}],\n",
    " 'J1911-1114': [{'pta': ['EPTA']}],\n",
    " 'J1918-0642': [{'pta': ['EPTA', 'NANOGrav']}],\n",
    " 'J1923+2515': [{'pta': ['NANOGrav']}],\n",
    " 'J1939+2134': [{'pta': ['EPTA', 'NANOGrav', 'PPTA']}],\n",
    " 'J1944+0907': [{'pta': ['NANOGrav']}],\n",
    " 'J1949+3106': [{'pta': ['NANOGrav']}],\n",
    " 'J1955+2908': [{'pta': ['EPTA', 'NANOGrav']}],\n",
    " 'J2010-1323': [{'pta': ['EPTA', 'NANOGrav']}],\n",
    " 'J2017+0603': [{'pta': ['NANOGrav']}],\n",
    " 'J2019+2425': [{'pta': ['EPTA']}],\n",
    " 'J2033+1734': [{'pta': ['EPTA']}],\n",
    " 'J2043+1711': [{'pta': ['NANOGrav']}],\n",
    " 'J2124-3358': [{'pta': ['EPTA', 'PPTA']}],\n",
    " 'J2129-5721': [{'pta': ['PPTA']}],\n",
    " 'J2145-0750': [{'pta': ['EPTA', 'NANOGrav', 'PPTA']}],\n",
    " 'J2214+3000': [{'pta': ['NANOGrav']}],\n",
    " 'J2229+2643': [{'pta': ['EPTA']}],\n",
    " 'J2302+4442': [{'pta': ['NANOGrav']}],\n",
    " 'J2317+1439': [{'pta': ['EPTA', 'NANOGrav']}],\n",
    " 'J2322+2057': [{'pta': ['EPTA']}]}\n",
    "\n",
    "psrlist = []\n",
    "if NG: psrlist.extend([psr for psr in psrdict_all.keys() if 'NANOGrav' in psrdict_all[psr][0].values()[0]])\n",
    "if EPTA: psrlist.extend([psr for psr in psrdict_all.keys() if 'EPTA' in psrdict_all[psr][0].values()[0]])\n",
    "if PPTA: psrlist.extend([psr for psr in psrdict_all.keys() if 'PPTA' in psrdict_all[psr][0].values()[0]])\n",
    "if PPTA4: psrlist.extend([psr for psr in PPTA4_psrs])\n",
    "if len(specific_psrs): psrlist.extend([psr for psr in specific_psrs])\n",
    "psrlist = list(np.unique(psrlist))"
   ]
  },
  {
   "cell_type": "code",
   "execution_count": 14,
   "metadata": {
    "collapsed": false,
    "deletable": true,
    "editable": true
   },
   "outputs": [
    {
     "data": {
      "text/plain": [
       "['J0030+0451',\n",
       " 'J0034-0534',\n",
       " 'J0218+4232',\n",
       " 'J0437-4715',\n",
       " 'J0613-0200',\n",
       " 'J0751+1807',\n",
       " 'J1012+5307',\n",
       " 'J1022+1001',\n",
       " 'J1024-0719',\n",
       " 'J1640+2224',\n",
       " 'J1713+0747',\n",
       " 'J1730-2304',\n",
       " 'J1744-1134',\n",
       " 'J1857+0943',\n",
       " 'J1909-3744',\n",
       " 'J1918-0642',\n",
       " 'J2145-0750',\n",
       " 'J2317+1439']"
      ]
     },
     "execution_count": 14,
     "metadata": {},
     "output_type": "execute_result"
    }
   ],
   "source": [
    "psrlist"
   ]
  },
  {
   "cell_type": "markdown",
   "metadata": {
    "deletable": true,
    "editable": true
   },
   "source": [
    "### Get par, tim, and noise files\n",
    "Here we collect the tim and par files as well as noise files made from the `PAL2` code. These are the same par, tim, and noise files used in the 9-year analysis papers. We use the convienience function above to convert from `PAL2` noise files to `enterprise` parameter dictionaries."
   ]
  },
  {
   "cell_type": "code",
   "execution_count": 15,
   "metadata": {
    "collapsed": true,
    "deletable": true,
    "editable": true
   },
   "outputs": [],
   "source": [
    "parfiles = sorted(glob.glob(datadir + '/*.par'))\n",
    "timfiles = sorted(glob.glob(datadir + '/*.tim'))\n",
    "\n",
    "# filter\n",
    "parfiles = [x for x in parfiles if x.split('/')[-1].split('.')[0] in psrlist]\n",
    "timfiles = [x for x in timfiles if x.split('/')[-1].split('.')[0] in psrlist]"
   ]
  },
  {
   "cell_type": "code",
   "execution_count": 16,
   "metadata": {
    "collapsed": false,
    "deletable": true,
    "editable": true
   },
   "outputs": [
    {
     "data": {
      "text/plain": [
       "18"
      ]
     },
     "execution_count": 16,
     "metadata": {},
     "output_type": "execute_result"
    }
   ],
   "source": [
    "len(parfiles)"
   ]
  },
  {
   "cell_type": "markdown",
   "metadata": {
    "deletable": true,
    "editable": true
   },
   "source": [
    "### Load into Pulsar class list"
   ]
  },
  {
   "cell_type": "code",
   "execution_count": 17,
   "metadata": {
    "collapsed": false,
    "deletable": true,
    "editable": true
   },
   "outputs": [
    {
     "name": "stdout",
     "output_type": "stream",
     "text": [
      "WARNING: Could not find pulsar distance for PSR J0034-0534. Setting value to 1 with 20% uncertainty.\n",
      "WARNING: Could not find pulsar distance for PSR J0218+4232. Setting value to 1 with 20% uncertainty.\n",
      "WARNING: Could not find pulsar distance for PSR J0751+1807. Setting value to 1 with 20% uncertainty.\n"
     ]
    }
   ],
   "source": [
    "psrs = []\n",
    "for p, t in zip(parfiles, timfiles):\n",
    "    psr = Pulsar(p, t, ephem='DE436')\n",
    "    psrs.append(psr)"
   ]
  },
  {
   "cell_type": "markdown",
   "metadata": {
    "deletable": true,
    "editable": true
   },
   "source": [
    "### Get parameter dict from noisefiles"
   ]
  },
  {
   "cell_type": "code",
   "execution_count": 20,
   "metadata": {
    "collapsed": false,
    "deletable": true,
    "editable": true
   },
   "outputs": [],
   "source": [
    "noisefiles = [glob.glob(noisedir+'/*%s*.json'%psr) for psr in psrlist]\n",
    "noisefiles = [nf for psr in noisefiles for nf in psr]"
   ]
  },
  {
   "cell_type": "code",
   "execution_count": 21,
   "metadata": {
    "collapsed": false,
    "deletable": true,
    "editable": true
   },
   "outputs": [],
   "source": [
    "params = {}\n",
    "for nf in noisefiles:\n",
    "    with open(nf, 'r') as fin:\n",
    "        params.update(json.load(fin))"
   ]
  },
  {
   "cell_type": "markdown",
   "metadata": {
    "deletable": true,
    "editable": true
   },
   "source": [
    "### Set up model\n",
    "\n",
    "When setting up the model for our upper limit run we fix all of the white noise (EFAC, EQUAD, and ECORR) parameters to the values obtained from the noise files. This is done by using `Constant` parameters. In this case we do not specify a default value for all instances of that parameter but instead will set them, based on their initialized pulsar and backend specific name, later via the `set_default_params` method of `PTA`. \n",
    "\n",
    "Speaking of white noise parameters here, we also use the `Selection` object.\n",
    "\n",
    "Another feature to notice is that we do not use a uniform prior on the log of the red noise or GWB amplitude. Instead we use a `LinearExp` prior (short for linear-exponent prior), that is a prior of the form $p(x)\\propto 10^x$. This is how we can still use the log of the parameter to sample but place a uniform prior on the parameter itself. We do this for both the red noise and GWB amplitude parameters.\n",
    "\n",
    "Next, in order to save on computing time we do not include spatial correlations here. Instead we model the GWB as a common red process across all pulsars. In `enterprise` we can do this with a simple trick. We pre-initialize the parameters before passing them to the `Signal` model. In this way the *same* parameter instance is used for all pulsars. Lastly, we fixt the spectral index of the GWB to be 13/3 (4.33) using the `Constant` parameter."
   ]
  },
  {
   "cell_type": "markdown",
   "metadata": {
    "deletable": true,
    "editable": true
   },
   "source": [
    "## Setup model\n",
    "\n",
    "We will add some addition model components that are not part of the base enterprise"
   ]
  },
  {
   "cell_type": "markdown",
   "metadata": {
    "deletable": true,
    "editable": true
   },
   "source": [
    "### 1. Exponential decay function to model \"void\" in J1713+0747"
   ]
  },
  {
   "cell_type": "code",
   "execution_count": 22,
   "metadata": {
    "collapsed": true,
    "deletable": true,
    "editable": true
   },
   "outputs": [],
   "source": [
    "@signal_base.function\n",
    "def exp_decay(toas, freqs, log10_Amp=-7, t0=54000, log10_tau=1.7):\n",
    "    t0 *= const.day\n",
    "    tau = 10**log10_tau * const.day\n",
    "    wf = - 10**log10_Amp * np.heaviside(toas-t0, 1) * np.exp(-(toas-t0)/tau)\n",
    "    return wf * (1400/freqs)**2"
   ]
  },
  {
   "cell_type": "markdown",
   "metadata": {
    "deletable": true,
    "editable": true
   },
   "source": [
    "### 2. Yearly DM sinusoid"
   ]
  },
  {
   "cell_type": "code",
   "execution_count": 23,
   "metadata": {
    "collapsed": true,
    "deletable": true,
    "editable": true
   },
   "outputs": [],
   "source": [
    "@signal_base.function\n",
    "def yearly_sinusoid(toas, freqs, log10_Amp=-7, phase=0):\n",
    "\n",
    "    wf = 10**log10_Amp * np.sin(2*np.pi*const.fyr*toas+phase)\n",
    "    return wf * (1400/freqs)**2\n",
    "\n",
    "@signal_base.function\n",
    "def yearly_sinusoid_basis(toas, freqs):\n",
    "    \n",
    "    F = np.zeros((len(toas), 2))\n",
    "    F[:,0] = np.sin(2*np.pi*toas*const.fyr)\n",
    "    F[:,1] = np.cos(2*np.pi*toas*const.fyr)\n",
    "    \n",
    "    Dm = (1400/freqs)**2\n",
    "\n",
    "    return F * Dm[:, None], np.repeat(const.fyr, 2)\n",
    "\n",
    "@signal_base.function\n",
    "def yearly_sinusoid_prior(f):\n",
    "    return np.ones(len(f)) * 1e20"
   ]
  },
  {
   "cell_type": "markdown",
   "metadata": {
    "deletable": true,
    "editable": true
   },
   "source": [
    "### 3. DM EQUAD (EQUAD) term that scales like $\\nu^{-4}$ (variance remember...)"
   ]
  },
  {
   "cell_type": "code",
   "execution_count": 24,
   "metadata": {
    "collapsed": true,
    "deletable": true,
    "editable": true
   },
   "outputs": [],
   "source": [
    "# define DM EQUAD variance function\n",
    "@signal_base.function\n",
    "def dmequad_ndiag(freqs, log10_dmequad=-8):\n",
    "    return np.ones_like(freqs) * (1400/freqs)**4 * 10**(2*log10_dmequad)"
   ]
  },
  {
   "cell_type": "markdown",
   "metadata": {
    "deletable": true,
    "editable": true
   },
   "source": [
    "### 4. SVD timing model basis\n",
    "This allows for more stability over standard scaling methods"
   ]
  },
  {
   "cell_type": "code",
   "execution_count": 25,
   "metadata": {
    "collapsed": true,
    "deletable": true,
    "editable": true
   },
   "outputs": [],
   "source": [
    "# SVD timing model basis\n",
    "@signal_base.function\n",
    "def svd_tm_basis(Mmat):\n",
    "    u, s, v = np.linalg.svd(Mmat, full_matrices=False)\n",
    "    return u, np.ones_like(s)\n",
    "\n",
    "@signal_base.function\n",
    "def tm_prior(weights):\n",
    "    return weights * 10**40"
   ]
  },
  {
   "cell_type": "code",
   "execution_count": 26,
   "metadata": {
    "collapsed": true,
    "deletable": true,
    "editable": true
   },
   "outputs": [],
   "source": [
    "# find the maximum time span to set GW frequency sampling\n",
    "tmin = np.min([p.toas.min() for p in psrs])\n",
    "tmax = np.max([p.toas.max() for p in psrs])\n",
    "Tspan = tmax - tmin\n",
    "\n",
    "# define selection by observing backend\n",
    "backends = selections.Selection(selections.by_backend)\n",
    "\n",
    "# special selection for ECORR only use wideband NANOGrav data\n",
    "NG_backends = selections.Selection(selections.nanograv_backends)\n",
    "\n",
    "# white noise parameters\n",
    "# since we are fixing these to values from the noise file we set\n",
    "# them as constant parameters\n",
    "efac = parameter.Constant()\n",
    "equad = parameter.Constant()\n",
    "ecorr = parameter.Constant()\n",
    "\n",
    "# red noise parameters\n",
    "log10_A = parameter.LinearExp(-20, -11)\n",
    "gamma = parameter.Uniform(0, 7)\n",
    "\n",
    "# GW parameters (initialize with names here to use parameters in common across pulsars)\n",
    "log10_A_gw = parameter.LinearExp(-18,-12)('log10_A_gw')\n",
    "gamma_gw = parameter.Constant(4.33)('gamma_gw')\n",
    "\n",
    "# DM turnover parameters\n",
    "kappa = parameter.Uniform(0,7)\n",
    "lf0 = parameter.Uniform(-9, -6.5)\n",
    "log10_A_DM = parameter.Uniform(-20, -11)\n",
    "\n",
    "# DM exponential parameters\n",
    "t0 = parameter.Uniform(tmin/86400, tmax/86400)\n",
    "log10_Amp = parameter.Uniform(-10, -2)\n",
    "log10_tau = parameter.Uniform(np.log10(5), np.log10(500))\n",
    "\n",
    "# DM sinusoid parameters\n",
    "log10_Amp_s = parameter.Uniform(-10, -2)\n",
    "phase = parameter.Uniform(0, 2*np.pi)\n",
    "\n",
    "# white noise signals\n",
    "\n",
    "# DM EQUAD\n",
    "#dmvariance = dmequad_ndiag(log10_dmequad=equad)\n",
    "#dmeq = white_signals.WhiteNoise(dmvariance)\n",
    "\n",
    "# white noise\n",
    "ef = white_signals.MeasurementNoise(efac=efac, selection=backends)\n",
    "eq = white_signals.EquadNoise(log10_equad=equad, selection=backends)\n",
    "ec = white_signals.EcorrKernelNoise(log10_ecorr=ecorr, selection=NG_backends)\n",
    "\n",
    "# red noise (powerlaw with 30 frequencies)\n",
    "pl = utils.powerlaw(log10_A=log10_A, gamma=gamma)\n",
    "rn = gp_signals.FourierBasisGP(spectrum=pl, components=30, Tspan=Tspan)\n",
    "\n",
    "\n",
    "# DM GP signals (use turnover model for more flexibility)\n",
    "dm_basis = utils.createfourierdesignmatrix_dm(nmodes=30)\n",
    "dm_prior = utils.turnover(log10_A=log10_A_DM, gamma=gamma, lf0=lf0, kappa=kappa)\n",
    "dmgp = gp_signals.BasisGP(dm_prior, dm_basis, name='dm')\n",
    "\n",
    "\n",
    "# DM exponential model\n",
    "wf = exp_decay(log10_Amp=log10_Amp, t0=t0, log10_tau=log10_tau)\n",
    "dmexp = deterministic_signals.Deterministic(wf, name='exp')\n",
    "\n",
    "# DM sinusoid model\n",
    "ys_prior = yearly_sinusoid_prior()\n",
    "ys_basis = yearly_sinusoid_basis()\n",
    "dmys = gp_signals.BasisGP(ys_prior, ys_basis, name='s1yr')\n",
    "\n",
    "# gwb (no spatial correlations)\n",
    "cpl = utils.powerlaw(log10_A=log10_A_gw, gamma=gamma_gw)\n",
    "gw = gp_signals.FourierBasisGP(spectrum=cpl, components=30, Tspan=Tspan)\n",
    "\n",
    "# for spatial correltions you can do...\n",
    "#orf = utils.hd_orf()\n",
    "#crn = gp_signals.FourierBasisCommonGP(cpl, orf, components=30, name='gw', Tspan=Tspan)\n",
    "\n",
    "# to add solar system ephemeris modeling...\n",
    "eph = deterministic_signals.PhysicalEphemerisSignal(use_epoch_toas=True)\n",
    "\n",
    "# timing model\n",
    "basis = svd_tm_basis()\n",
    "prior = tm_prior()\n",
    "tm = gp_signals.BasisGP(prior, basis)\n",
    "#tm = gp_signals.TimingModel()\n",
    "\n",
    "# full model\n",
    "#s = ef + eq + rn + tm + dmgp + dmys #+ dmeq\n",
    "s = ef + eq + rn + tm + dmgp + dmys + eph + gw #+ dmeq\n",
    "\n",
    "# intialize PTA, adding an exponential dip for the DM event in J1713+0747\n",
    "models = []\n",
    "\n",
    "for p in psrs:    \n",
    "    if 'NANOGrav' in p.flags['pta']:\n",
    "        s2 = s + ec \n",
    "        if p.name == 'J1713+0747':\n",
    "            s3 = s2 + dmexp\n",
    "            models.append(s3(p))\n",
    "        else:\n",
    "            models.append(s2(p))\n",
    "    else:\n",
    "        models.append(s(p))\n",
    "    \n",
    "pta = signal_base.PTA(models)"
   ]
  },
  {
   "cell_type": "markdown",
   "metadata": {
    "deletable": true,
    "editable": true
   },
   "source": [
    "### Set white noise parameters"
   ]
  },
  {
   "cell_type": "code",
   "execution_count": 27,
   "metadata": {
    "collapsed": false,
    "deletable": true,
    "editable": true,
    "scrolled": true
   },
   "outputs": [
    {
     "name": "stderr",
     "output_type": "stream",
     "text": [
      "INFO: enterprise.signals.signal_base: Setting J0030+0451_430_ASP_efac to 1.14267230026\n",
      "INFO: enterprise.signals.signal_base: Setting J0030+0451_L-wide_ASP_efac to 1.12477599181\n",
      "INFO: enterprise.signals.signal_base: Setting J0030+0451_430_PUPPI_efac to 0.974529540585\n",
      "INFO: enterprise.signals.signal_base: Setting J0030+0451_L-wide_PUPPI_efac to 1.14718012248\n",
      "INFO: enterprise.signals.signal_base: Setting J0030+0451_430_ASP_log10_equad to -8.23082322696\n",
      "INFO: enterprise.signals.signal_base: Setting J0030+0451_L-wide_PUPPI_log10_equad to -6.34303251049\n",
      "INFO: enterprise.signals.signal_base: Setting J0030+0451_L-wide_ASP_log10_equad to -8.16192298684\n",
      "INFO: enterprise.signals.signal_base: Setting J0030+0451_430_PUPPI_log10_equad to -5.95875161227\n",
      "WARNING: enterprise.signals.signal_base: gamma_gw not set! Check parameter dict.\n",
      "INFO: enterprise.signals.signal_base: Setting J0030+0451_430_ASP_log10_ecorr to -8.26646637907\n",
      "INFO: enterprise.signals.signal_base: Setting J0030+0451_L-wide_ASP_log10_ecorr to -8.36191295728\n",
      "INFO: enterprise.signals.signal_base: Setting J0030+0451_430_PUPPI_log10_ecorr to -5.98746134919\n",
      "INFO: enterprise.signals.signal_base: Setting J0030+0451_L-wide_PUPPI_log10_ecorr to -8.47980876501\n",
      "INFO: enterprise.signals.signal_base: Setting J0034-0534_WSRT.P1.328_efac to 1.07667942948\n",
      "INFO: enterprise.signals.signal_base: Setting J0034-0534_WSRT.P1.328.C_efac to 1.0667974716\n",
      "INFO: enterprise.signals.signal_base: Setting J0034-0534_WSRT.P1.382.C_efac to 1.14376440317\n",
      "INFO: enterprise.signals.signal_base: Setting J0034-0534_WSRT.P1.382_efac to 0.927526289704\n",
      "INFO: enterprise.signals.signal_base: Setting J0034-0534_NRT.BON.1400_efac to 0.993937642944\n",
      "INFO: enterprise.signals.signal_base: Setting J0034-0534_WSRT.P1.382.C_log10_equad to -6.79723490513\n",
      "INFO: enterprise.signals.signal_base: Setting J0034-0534_NRT.BON.1400_log10_equad to -7.30379085801\n",
      "INFO: enterprise.signals.signal_base: Setting J0034-0534_WSRT.P1.328_log10_equad to -6.68352525114\n",
      "INFO: enterprise.signals.signal_base: Setting J0034-0534_WSRT.P1.328.C_log10_equad to -7.98575580348\n",
      "INFO: enterprise.signals.signal_base: Setting J0034-0534_WSRT.P1.382_log10_equad to -7.83863624461\n",
      "WARNING: enterprise.signals.signal_base: gamma_gw not set! Check parameter dict.\n",
      "INFO: enterprise.signals.signal_base: Setting J0218+4232_NRT.BON.1400_efac to 1.04054847943\n",
      "INFO: enterprise.signals.signal_base: Setting J0218+4232_WSRT.P1.1380.C_efac to 1.00335661114\n",
      "INFO: enterprise.signals.signal_base: Setting J0218+4232_WSRT.P1.382.C_efac to 0.968907456207\n",
      "INFO: enterprise.signals.signal_base: Setting J0218+4232_WSRT.P1.382_efac to 1.03830116955\n",
      "INFO: enterprise.signals.signal_base: Setting J0218+4232_JBO.DFB.1400_efac to 1.01651672847\n",
      "INFO: enterprise.signals.signal_base: Setting J0218+4232_EFF.EBPP.1360_efac to 1.04925885138\n",
      "INFO: enterprise.signals.signal_base: Setting J0218+4232_EFF.EBPP.1410_efac to 1.11861679941\n",
      "INFO: enterprise.signals.signal_base: Setting J0218+4232_WSRT.P1.328.C_efac to 1.11124561205\n",
      "INFO: enterprise.signals.signal_base: Setting J0218+4232_WSRT.P1.328_efac to 1.07697012502\n",
      "INFO: enterprise.signals.signal_base: Setting J0218+4232_NRT.BON.2000_efac to 1.02977585628\n",
      "INFO: enterprise.signals.signal_base: Setting J0218+4232_WSRT.P1.1380_efac to 1.02626436904\n",
      "INFO: enterprise.signals.signal_base: Setting J0218+4232_NRT.BON.1600_efac to 1.14202539463\n",
      "INFO: enterprise.signals.signal_base: Setting J0218+4232_JBO.DFB.1520_efac to 1.1059873551\n",
      "INFO: enterprise.signals.signal_base: Setting J0218+4232_WSRT.P1.382.C_log10_equad to -7.65179139738\n",
      "INFO: enterprise.signals.signal_base: Setting J0218+4232_WSRT.P1.328_log10_equad to -7.37161485645\n",
      "INFO: enterprise.signals.signal_base: Setting J0218+4232_JBO.DFB.1400_log10_equad to -6.92106093793\n",
      "INFO: enterprise.signals.signal_base: Setting J0218+4232_JBO.DFB.1520_log10_equad to -6.99287096205\n",
      "INFO: enterprise.signals.signal_base: Setting J0218+4232_EFF.EBPP.1360_log10_equad to -6.55376484681\n",
      "INFO: enterprise.signals.signal_base: Setting J0218+4232_EFF.EBPP.1410_log10_equad to -7.35545561371\n",
      "INFO: enterprise.signals.signal_base: Setting J0218+4232_NRT.BON.1600_log10_equad to -5.8074668511\n",
      "INFO: enterprise.signals.signal_base: Setting J0218+4232_WSRT.P1.382_log10_equad to -7.63508421897\n",
      "INFO: enterprise.signals.signal_base: Setting J0218+4232_WSRT.P1.1380.C_log10_equad to -4.42475523495\n",
      "INFO: enterprise.signals.signal_base: Setting J0218+4232_WSRT.P1.328.C_log10_equad to -7.58542308189\n",
      "INFO: enterprise.signals.signal_base: Setting J0218+4232_NRT.BON.2000_log10_equad to -6.92838925689\n",
      "INFO: enterprise.signals.signal_base: Setting J0218+4232_WSRT.P1.1380_log10_equad to -4.97281016366\n",
      "INFO: enterprise.signals.signal_base: Setting J0218+4232_NRT.BON.1400_log10_equad to -7.77528614841\n",
      "WARNING: enterprise.signals.signal_base: gamma_gw not set! Check parameter dict.\n",
      "INFO: enterprise.signals.signal_base: Setting J0437-4715_PDFB_10CM_efac to 0.692450969955\n",
      "INFO: enterprise.signals.signal_base: Setting J0437-4715_CPSR2_50CM_efac to 0.67406801274\n",
      "INFO: enterprise.signals.signal_base: Setting J0437-4715_WBCORR_20CM_efac to 0.431519856511\n",
      "INFO: enterprise.signals.signal_base: Setting J0437-4715_WBCORR_10CM_efac to 0.298947171649\n",
      "INFO: enterprise.signals.signal_base: Setting J0437-4715_CPSR2_40CM_efac to 4.43695740867\n",
      "INFO: enterprise.signals.signal_base: Setting J0437-4715_CPSR2_20CM_efac to 3.18902938584\n",
      "INFO: enterprise.signals.signal_base: Setting J0437-4715_PDFB_40CM_efac to 1.76808901784\n",
      "INFO: enterprise.signals.signal_base: Setting J0437-4715_PDFB_20CM_efac to 0.861158847208\n",
      "INFO: enterprise.signals.signal_base: Setting J0437-4715_PDFB_50CM_efac to 4.10790343287\n",
      "INFO: enterprise.signals.signal_base: Setting J0437-4715_CPSR2_50CM_log10_equad to -8.67605091525\n",
      "INFO: enterprise.signals.signal_base: Setting J0437-4715_WBCORR_20CM_log10_equad to -8.26664362188\n",
      "INFO: enterprise.signals.signal_base: Setting J0437-4715_PDFB_50CM_log10_equad to -7.56268067106\n",
      "INFO: enterprise.signals.signal_base: Setting J0437-4715_PDFB_20CM_log10_equad to -7.26387551038\n",
      "INFO: enterprise.signals.signal_base: Setting J0437-4715_PDFB_10CM_log10_equad to -7.34624601383\n",
      "INFO: enterprise.signals.signal_base: Setting J0437-4715_PDFB_40CM_log10_equad to -8.54387236286\n",
      "INFO: enterprise.signals.signal_base: Setting J0437-4715_CPSR2_40CM_log10_equad to -7.68792641535\n",
      "INFO: enterprise.signals.signal_base: Setting J0437-4715_WBCORR_10CM_log10_equad to -6.43277670297\n",
      "INFO: enterprise.signals.signal_base: Setting J0437-4715_CPSR2_20CM_log10_equad to -8.30410263437\n",
      "WARNING: enterprise.signals.signal_base: gamma_gw not set! Check parameter dict.\n",
      "INFO: enterprise.signals.signal_base: Setting J0613-0200_JBO.DFB.1520_efac to 1.05294476445\n",
      "INFO: enterprise.signals.signal_base: Setting J0613-0200_EFF.EBPP.1360_efac to 0.998334195621\n",
      "INFO: enterprise.signals.signal_base: Setting J0613-0200_WSRT.P1.382.C_efac to 0.985982753147\n",
      "INFO: enterprise.signals.signal_base: Setting J0613-0200_EFF.EBPP.1410_efac to 1.07701330651\n",
      "INFO: enterprise.signals.signal_base: Setting J0613-0200_JBO.DFB.1400_efac to 1.04352363967\n",
      "INFO: enterprise.signals.signal_base: Setting J0613-0200_WSRT.P1.1380.C_efac to 1.03193462511\n",
      "INFO: enterprise.signals.signal_base: Setting J0613-0200_WSRT.P1.382_efac to 0.959527947571\n",
      "INFO: enterprise.signals.signal_base: Setting J0613-0200_WSRT.P1.1380_efac to 1.01451596318\n",
      "INFO: enterprise.signals.signal_base: Setting J0613-0200_WSRT.P1.328_efac to 0.992496024229\n",
      "INFO: enterprise.signals.signal_base: Setting J0613-0200_EFF.EBPP.2639_efac to 1.02781380561\n",
      "INFO: enterprise.signals.signal_base: Setting J0613-0200_NRT.BON.2000_efac to 1.05626186154\n",
      "INFO: enterprise.signals.signal_base: Setting J0613-0200_WSRT.P1.328.C_efac to 1.07271895947\n",
      "INFO: enterprise.signals.signal_base: Setting J0613-0200_NRT.BON.1400_efac to 1.05271408144\n",
      "INFO: enterprise.signals.signal_base: Setting J0613-0200_NRT.BON.1600_efac to 1.01067411319\n",
      "INFO: enterprise.signals.signal_base: Setting J0613-0200_EFF.EBPP.1410_log10_equad to -6.33246051811\n",
      "INFO: enterprise.signals.signal_base: Setting J0613-0200_JBO.DFB.1520_log10_equad to -7.50136255513\n",
      "INFO: enterprise.signals.signal_base: Setting J0613-0200_WSRT.P1.382.C_log10_equad to -7.64535137276\n",
      "INFO: enterprise.signals.signal_base: Setting J0613-0200_WSRT.P1.328_log10_equad to -7.58501790904\n",
      "INFO: enterprise.signals.signal_base: Setting J0613-0200_WSRT.P1.328.C_log10_equad to -5.11280086655\n",
      "INFO: enterprise.signals.signal_base: Setting J0613-0200_NRT.BON.1600_log10_equad to -8.08248914305\n",
      "INFO: enterprise.signals.signal_base: Setting J0613-0200_EFF.EBPP.1360_log10_equad to -8.15044503516\n",
      "INFO: enterprise.signals.signal_base: Setting J0613-0200_NRT.BON.1400_log10_equad to -8.1591563891\n",
      "INFO: enterprise.signals.signal_base: Setting J0613-0200_JBO.DFB.1400_log10_equad to -7.12298749041\n",
      "INFO: enterprise.signals.signal_base: Setting J0613-0200_NRT.BON.2000_log10_equad to -7.63750898085\n",
      "INFO: enterprise.signals.signal_base: Setting J0613-0200_WSRT.P1.1380_log10_equad to -7.4407605462\n",
      "INFO: enterprise.signals.signal_base: Setting J0613-0200_WSRT.P1.1380.C_log10_equad to -7.82989028501\n",
      "INFO: enterprise.signals.signal_base: Setting J0613-0200_EFF.EBPP.2639_log10_equad to -7.54676069112\n",
      "INFO: enterprise.signals.signal_base: Setting J0613-0200_WSRT.P1.382_log10_equad to -7.66497587706\n",
      "WARNING: enterprise.signals.signal_base: gamma_gw not set! Check parameter dict.\n",
      "INFO: enterprise.signals.signal_base: Setting J0751+1807_NRT.BON.2000_efac to 1.00604758772\n",
      "INFO: enterprise.signals.signal_base: Setting J0751+1807_JBO.DFB.1520_efac to 0.988042098085\n",
      "INFO: enterprise.signals.signal_base: Setting J0751+1807_EFF.EBPP.2639_efac to 1.02419426772\n",
      "INFO: enterprise.signals.signal_base: Setting J0751+1807_WSRT.P1.1380.C_efac to 0.991103985889\n",
      "INFO: enterprise.signals.signal_base: Setting J0751+1807_EFF.EBPP.1360_efac to 1.00057115367\n",
      "INFO: enterprise.signals.signal_base: Setting J0751+1807_JBO.DFB.1400_efac to 0.975166517016\n",
      "INFO: enterprise.signals.signal_base: Setting J0751+1807_NRT.BON.1400_efac to 1.14764729332\n",
      "INFO: enterprise.signals.signal_base: Setting J0751+1807_NRT.BON.1600_efac to 1.10631401945\n",
      "INFO: enterprise.signals.signal_base: Setting J0751+1807_NRT.BON.1600_log10_equad to -7.45788243553\n",
      "INFO: enterprise.signals.signal_base: Setting J0751+1807_EFF.EBPP.2639_log10_equad to -5.28359901908\n",
      "INFO: enterprise.signals.signal_base: Setting J0751+1807_JBO.DFB.1520_log10_equad to -7.87785172654\n",
      "INFO: enterprise.signals.signal_base: Setting J0751+1807_JBO.DFB.1400_log10_equad to -7.81620522537\n",
      "INFO: enterprise.signals.signal_base: Setting J0751+1807_EFF.EBPP.1360_log10_equad to -5.40935916065\n",
      "INFO: enterprise.signals.signal_base: Setting J0751+1807_NRT.BON.2000_log10_equad to -7.60679020102\n",
      "INFO: enterprise.signals.signal_base: Setting J0751+1807_NRT.BON.1400_log10_equad to -7.57983929162\n",
      "INFO: enterprise.signals.signal_base: Setting J0751+1807_WSRT.P1.1380.C_log10_equad to -7.87559812646\n",
      "WARNING: enterprise.signals.signal_base: gamma_gw not set! Check parameter dict.\n",
      "INFO: enterprise.signals.signal_base: Setting J1012+5307_WSRT.P1.382_efac to 0.986659900313\n",
      "INFO: enterprise.signals.signal_base: Setting J1012+5307_WSRT.P1.328.C_efac to 1.07000407586\n",
      "INFO: enterprise.signals.signal_base: Setting J1012+5307_NRT.BON.2000_efac to 1.00744783111\n",
      "INFO: enterprise.signals.signal_base: Setting J1012+5307_EFF.EBPP.2639_efac to 0.997175524024\n",
      "INFO: enterprise.signals.signal_base: Setting J1012+5307_EFF.EBPP.1360_efac to 0.957753723621\n",
      "INFO: enterprise.signals.signal_base: Setting J1012+5307_WSRT.P1.382.C_efac to 0.950301815147\n",
      "INFO: enterprise.signals.signal_base: Setting J1012+5307_WSRT.P1.1380.1_efac to 0.973707653213\n",
      "INFO: enterprise.signals.signal_base: Setting J1012+5307_JBO.DFB.1520_efac to 0.981485235341\n",
      "INFO: enterprise.signals.signal_base: Setting J1012+5307_JBO.DFB.1400_efac to 1.02486565493\n",
      "INFO: enterprise.signals.signal_base: Setting J1012+5307_EFF.EBPP.1410_efac to 0.833899996894\n",
      "INFO: enterprise.signals.signal_base: Setting J1012+5307_WSRT.P1.1380.2_efac to 0.964378021219\n",
      "INFO: enterprise.signals.signal_base: Setting J1012+5307_NRT.BON.1600_efac to 1.04663371842\n",
      "INFO: enterprise.signals.signal_base: Setting J1012+5307_NRT.BON.1400_efac to 1.1249114438\n",
      "INFO: enterprise.signals.signal_base: Setting J1012+5307_WSRT.P1.1380.2.C_efac to 1.00699938277\n",
      "INFO: enterprise.signals.signal_base: Setting J1012+5307_WSRT.P1.328_efac to 1.04876334667\n",
      "INFO: enterprise.signals.signal_base: Setting J1012+5307_NRT.BON.2000_log10_equad to -7.59891410461\n",
      "INFO: enterprise.signals.signal_base: Setting J1012+5307_WSRT.P1.328.C_log10_equad to -7.14753484248\n",
      "INFO: enterprise.signals.signal_base: Setting J1012+5307_JBO.DFB.1400_log10_equad to -7.78875545683\n",
      "INFO: enterprise.signals.signal_base: Setting J1012+5307_WSRT.P1.1380.2_log10_equad to -8.09838802822\n",
      "INFO: enterprise.signals.signal_base: Setting J1012+5307_WSRT.P1.382_log10_equad to -7.43863694885\n",
      "INFO: enterprise.signals.signal_base: Setting J1012+5307_EFF.EBPP.1360_log10_equad to -5.49255656698\n",
      "INFO: enterprise.signals.signal_base: Setting J1012+5307_NRT.BON.1400_log10_equad to -7.57524951231\n",
      "INFO: enterprise.signals.signal_base: Setting J1012+5307_WSRT.P1.328_log10_equad to -7.66497799394\n",
      "INFO: enterprise.signals.signal_base: Setting J1012+5307_NRT.BON.1600_log10_equad to -5.80168246904\n",
      "INFO: enterprise.signals.signal_base: Setting J1012+5307_WSRT.P1.1380.1_log10_equad to -7.6715090109\n",
      "INFO: enterprise.signals.signal_base: Setting J1012+5307_EFF.EBPP.1410_log10_equad to -8.23378822162\n",
      "INFO: enterprise.signals.signal_base: Setting J1012+5307_JBO.DFB.1520_log10_equad to -7.8080631435\n",
      "INFO: enterprise.signals.signal_base: Setting J1012+5307_WSRT.P1.382.C_log10_equad to -7.56577800528\n",
      "INFO: enterprise.signals.signal_base: Setting J1012+5307_EFF.EBPP.2639_log10_equad to -7.82491392014\n",
      "INFO: enterprise.signals.signal_base: Setting J1012+5307_WSRT.P1.1380.2.C_log10_equad to -8.08023397194\n",
      "WARNING: enterprise.signals.signal_base: gamma_gw not set! Check parameter dict.\n",
      "INFO: enterprise.signals.signal_base: Setting J1022+1001_WBCORR_10CM_efac to 1.03345367915\n",
      "INFO: enterprise.signals.signal_base: Setting J1022+1001_PDFB_20CM_efac to 1.03396192223\n",
      "INFO: enterprise.signals.signal_base: Setting J1022+1001_PDFB_10CM_efac to 0.975673230463\n",
      "INFO: enterprise.signals.signal_base: Setting J1022+1001_PDFB_40CM_efac to 1.01071958677\n",
      "INFO: enterprise.signals.signal_base: Setting J1022+1001_CPSR2_20CM_efac to 1.0240818016\n",
      "INFO: enterprise.signals.signal_base: Setting J1022+1001_CPSR2_50CM_efac to 1.00662465699\n",
      "INFO: enterprise.signals.signal_base: Setting J1022+1001_PDFB_20CM_log10_equad to -5.78362120204\n",
      "INFO: enterprise.signals.signal_base: Setting J1022+1001_CPSR2_20CM_log10_equad to -6.49381123321\n",
      "INFO: enterprise.signals.signal_base: Setting J1022+1001_CPSR2_50CM_log10_equad to -6.99213804258\n",
      "INFO: enterprise.signals.signal_base: Setting J1022+1001_PDFB_10CM_log10_equad to -5.67416835947\n",
      "INFO: enterprise.signals.signal_base: Setting J1022+1001_WBCORR_10CM_log10_equad to -5.38875357453\n",
      "INFO: enterprise.signals.signal_base: Setting J1022+1001_PDFB_40CM_log10_equad to -5.34050901499\n",
      "WARNING: enterprise.signals.signal_base: gamma_gw not set! Check parameter dict.\n",
      "INFO: enterprise.signals.signal_base: Setting J1024-0719_PDFB_20CM_efac to 1.01442303378\n",
      "INFO: enterprise.signals.signal_base: Setting J1024-0719_WBCORR_20CM_efac to 1.00208784822\n",
      "INFO: enterprise.signals.signal_base: Setting J1024-0719_CPSR2_20CM_efac to 0.980331600611\n",
      "INFO: enterprise.signals.signal_base: Setting J1024-0719_WBCORR_10CM_efac to 0.954005083282\n",
      "INFO: enterprise.signals.signal_base: Setting J1024-0719_PDFB_40CM_efac to 0.976867997937\n",
      "INFO: enterprise.signals.signal_base: Setting J1024-0719_PDFB_10CM_efac to 1.03271811138\n",
      "INFO: enterprise.signals.signal_base: Setting J1024-0719_CPSR2_50CM_efac to 1.14736399729\n",
      "INFO: enterprise.signals.signal_base: Setting J1024-0719_CPSR2_50CM_log10_equad to -7.48754347818\n",
      "INFO: enterprise.signals.signal_base: Setting J1024-0719_CPSR2_20CM_log10_equad to -7.90320536601\n",
      "INFO: enterprise.signals.signal_base: Setting J1024-0719_PDFB_40CM_log10_equad to -8.12919997255\n",
      "INFO: enterprise.signals.signal_base: Setting J1024-0719_PDFB_10CM_log10_equad to -6.86224481538\n",
      "INFO: enterprise.signals.signal_base: Setting J1024-0719_PDFB_20CM_log10_equad to -7.90619435635\n",
      "INFO: enterprise.signals.signal_base: Setting J1024-0719_WBCORR_10CM_log10_equad to -7.78450019846\n",
      "INFO: enterprise.signals.signal_base: Setting J1024-0719_WBCORR_20CM_log10_equad to -7.77141603168\n",
      "WARNING: enterprise.signals.signal_base: gamma_gw not set! Check parameter dict.\n",
      "INFO: enterprise.signals.signal_base: Setting J1640+2224_L-wide_PUPPI_efac to 1.25960886566\n",
      "INFO: enterprise.signals.signal_base: Setting J1640+2224_430_ASP_efac to 1.19133406304\n",
      "INFO: enterprise.signals.signal_base: Setting J1640+2224_L-wide_ASP_efac to 1.07295282376\n",
      "INFO: enterprise.signals.signal_base: Setting J1640+2224_430_PUPPI_efac to 1.13211981211\n",
      "INFO: enterprise.signals.signal_base: Setting J1640+2224_430_ASP_log10_equad to -6.25814014867\n",
      "INFO: enterprise.signals.signal_base: Setting J1640+2224_L-wide_PUPPI_log10_equad to -8.61168244521\n",
      "INFO: enterprise.signals.signal_base: Setting J1640+2224_L-wide_ASP_log10_equad to -8.39809110572\n",
      "INFO: enterprise.signals.signal_base: Setting J1640+2224_430_PUPPI_log10_equad to -7.0054736603\n",
      "WARNING: enterprise.signals.signal_base: gamma_gw not set! Check parameter dict.\n",
      "INFO: enterprise.signals.signal_base: Setting J1640+2224_430_ASP_log10_ecorr to -8.52118522009\n",
      "INFO: enterprise.signals.signal_base: Setting J1640+2224_L-wide_ASP_log10_ecorr to -6.94504138615\n",
      "INFO: enterprise.signals.signal_base: Setting J1640+2224_430_PUPPI_log10_ecorr to -6.25950364332\n",
      "INFO: enterprise.signals.signal_base: Setting J1640+2224_L-wide_PUPPI_log10_ecorr to -8.2756315743\n",
      "INFO: enterprise.signals.signal_base: Setting J1713+0747_WSRT.P1.1380.2.C_efac to 1.06127074505\n",
      "INFO: enterprise.signals.signal_base: Setting J1713+0747_EFF.EBPP.2639_efac to 1.1384813964\n",
      "INFO: enterprise.signals.signal_base: Setting J1713+0747_WSRT.P1.1380.2_efac to 0.828289731303\n",
      "INFO: enterprise.signals.signal_base: Setting J1713+0747_JBO.DFB.1400_efac to 1.07457726105\n",
      "INFO: enterprise.signals.signal_base: Setting J1713+0747_WSRT.P1.1380.1_efac to 1.03571554585\n",
      "INFO: enterprise.signals.signal_base: Setting J1713+0747_WSRT.P1.840.C_efac to 1.01300578355\n",
      "INFO: enterprise.signals.signal_base: Setting J1713+0747_NRT.BON.1600_efac to 1.04334284403\n",
      "INFO: enterprise.signals.signal_base: Setting J1713+0747_JBO.DFB.1520_efac to 0.960754876849\n",
      "INFO: enterprise.signals.signal_base: Setting J1713+0747_EFF.EBPP.1360_efac to 1.02064092581\n",
      "INFO: enterprise.signals.signal_base: Setting J1713+0747_WSRT.P1.840_efac to 1.01243542257\n",
      "INFO: enterprise.signals.signal_base: Setting J1713+0747_WSRT.P1.2273.C_efac to 1.12648993057\n",
      "INFO: enterprise.signals.signal_base: Setting J1713+0747_NRT.BON.2000_efac to 1.00788675413\n",
      "INFO: enterprise.signals.signal_base: Setting J1713+0747_JBO.DFB.5000_efac to 1.05181860852\n",
      "INFO: enterprise.signals.signal_base: Setting J1713+0747_EFF.EBPP.1410_efac to 0.981993228854\n",
      "INFO: enterprise.signals.signal_base: Setting J1713+0747_NRT.BON.1400_efac to 1.18741206243\n",
      "INFO: enterprise.signals.signal_base: Setting J1713+0747_NRT.BON.1600_log10_equad to -8.15155628257\n",
      "INFO: enterprise.signals.signal_base: Setting J1713+0747_NRT.BON.1400_log10_equad to -7.40032267147\n",
      "INFO: enterprise.signals.signal_base: Setting J1713+0747_EFF.EBPP.1410_log10_equad to -6.1050557645\n",
      "INFO: enterprise.signals.signal_base: Setting J1713+0747_JBO.DFB.5000_log10_equad to -6.65330058615\n",
      "INFO: enterprise.signals.signal_base: Setting J1713+0747_WSRT.P1.1380.2_log10_equad to -7.10253018241\n",
      "INFO: enterprise.signals.signal_base: Setting J1713+0747_JBO.DFB.1520_log10_equad to -9.70463756699\n",
      "INFO: enterprise.signals.signal_base: Setting J1713+0747_WSRT.P1.840_log10_equad to -6.1750013711\n",
      "INFO: enterprise.signals.signal_base: Setting J1713+0747_WSRT.P1.1380.2.C_log10_equad to -9.23937874285\n",
      "INFO: enterprise.signals.signal_base: Setting J1713+0747_WSRT.P1.2273.C_log10_equad to -7.93037924737\n",
      "INFO: enterprise.signals.signal_base: Setting J1713+0747_NRT.BON.2000_log10_equad to -6.92366440856\n",
      "INFO: enterprise.signals.signal_base: Setting J1713+0747_JBO.DFB.1400_log10_equad to -5.89978667127\n",
      "INFO: enterprise.signals.signal_base: Setting J1713+0747_WSRT.P1.840.C_log10_equad to -6.9212345118\n",
      "INFO: enterprise.signals.signal_base: Setting J1713+0747_WSRT.P1.1380.1_log10_equad to -9.10114580773\n",
      "INFO: enterprise.signals.signal_base: Setting J1713+0747_EFF.EBPP.1360_log10_equad to -6.15967525206\n",
      "INFO: enterprise.signals.signal_base: Setting J1713+0747_EFF.EBPP.2639_log10_equad to -6.35996938808\n",
      "WARNING: enterprise.signals.signal_base: gamma_gw not set! Check parameter dict.\n",
      "INFO: enterprise.signals.signal_base: Setting J1730-2304_PDFB_40CM_efac to 1.03383082039\n",
      "INFO: enterprise.signals.signal_base: Setting J1730-2304_CPSR2_20CM_efac to 1.03766783336\n",
      "INFO: enterprise.signals.signal_base: Setting J1730-2304_PDFB_20CM_efac to 1.1060404594\n",
      "INFO: enterprise.signals.signal_base: Setting J1730-2304_WBCORR_10CM_efac to 1.04692706993\n",
      "INFO: enterprise.signals.signal_base: Setting J1730-2304_PDFB_10CM_efac to 1.10922533838\n",
      "INFO: enterprise.signals.signal_base: Setting J1730-2304_CPSR2_50CM_efac to 1.05539974048\n",
      "INFO: enterprise.signals.signal_base: Setting J1730-2304_WBCORR_20CM_efac to 1.01552507293\n",
      "INFO: enterprise.signals.signal_base: Setting J1730-2304_PDFB_40CM_log10_equad to -8.01590687254\n",
      "INFO: enterprise.signals.signal_base: Setting J1730-2304_PDFB_20CM_log10_equad to -8.0414453514\n",
      "INFO: enterprise.signals.signal_base: Setting J1730-2304_PDFB_10CM_log10_equad to -7.72841626156\n",
      "INFO: enterprise.signals.signal_base: Setting J1730-2304_CPSR2_50CM_log10_equad to -6.94555137144\n",
      "INFO: enterprise.signals.signal_base: Setting J1730-2304_CPSR2_20CM_log10_equad to -7.43707415879\n",
      "INFO: enterprise.signals.signal_base: Setting J1730-2304_WBCORR_10CM_log10_equad to -6.17532302746\n",
      "INFO: enterprise.signals.signal_base: Setting J1730-2304_WBCORR_20CM_log10_equad to -5.7516516926\n",
      "WARNING: enterprise.signals.signal_base: gamma_gw not set! Check parameter dict.\n",
      "INFO: enterprise.signals.signal_base: Setting J1744-1134_Rcvr_800_GUPPI_efac to 1.0785364519\n",
      "INFO: enterprise.signals.signal_base: Setting J1744-1134_Rcvr1_2_GUPPI_efac to 1.21794600531\n",
      "INFO: enterprise.signals.signal_base: Setting J1744-1134_Rcvr1_2_GASP_efac to 1.02030676606\n",
      "INFO: enterprise.signals.signal_base: Setting J1744-1134_Rcvr_800_GASP_efac to 1.24460203016\n",
      "INFO: enterprise.signals.signal_base: Setting J1744-1134_Rcvr1_2_GASP_log10_equad to -8.29824206336\n",
      "INFO: enterprise.signals.signal_base: Setting J1744-1134_Rcvr_800_GUPPI_log10_equad to -6.58074030363\n",
      "INFO: enterprise.signals.signal_base: Setting J1744-1134_Rcvr1_2_GUPPI_log10_equad to -6.74042740723\n",
      "INFO: enterprise.signals.signal_base: Setting J1744-1134_Rcvr_800_GASP_log10_equad to -6.4544098514\n",
      "WARNING: enterprise.signals.signal_base: gamma_gw not set! Check parameter dict.\n",
      "INFO: enterprise.signals.signal_base: Setting J1744-1134_Rcvr_800_GASP_log10_ecorr to -6.28487232616\n",
      "INFO: enterprise.signals.signal_base: Setting J1744-1134_Rcvr1_2_GASP_log10_ecorr to -6.49071157422\n",
      "INFO: enterprise.signals.signal_base: Setting J1744-1134_Rcvr_800_GUPPI_log10_ecorr to -6.39119402298\n",
      "INFO: enterprise.signals.signal_base: Setting J1744-1134_Rcvr1_2_GUPPI_log10_ecorr to -6.46826091024\n",
      "INFO: enterprise.signals.signal_base: Setting J1857+0943_430_PUPPI_efac to 1.11944054087\n",
      "INFO: enterprise.signals.signal_base: Setting J1857+0943_L-wide_ASP_efac to 1.14641504789\n",
      "INFO: enterprise.signals.signal_base: Setting J1857+0943_430_ASP_efac to 1.14573674652\n",
      "INFO: enterprise.signals.signal_base: Setting J1857+0943_L-wide_PUPPI_efac to 1.5112315056\n",
      "INFO: enterprise.signals.signal_base: Setting J1857+0943_430_PUPPI_log10_equad to -7.83693887271\n",
      "INFO: enterprise.signals.signal_base: Setting J1857+0943_L-wide_ASP_log10_equad to -6.31688854438\n",
      "INFO: enterprise.signals.signal_base: Setting J1857+0943_430_ASP_log10_equad to -7.99714357442\n",
      "INFO: enterprise.signals.signal_base: Setting J1857+0943_L-wide_PUPPI_log10_equad to -6.41977515301\n",
      "WARNING: enterprise.signals.signal_base: gamma_gw not set! Check parameter dict.\n",
      "INFO: enterprise.signals.signal_base: Setting J1857+0943_430_ASP_log10_ecorr to -7.93813226269\n",
      "INFO: enterprise.signals.signal_base: Setting J1857+0943_L-wide_ASP_log10_ecorr to -6.08587140618\n",
      "INFO: enterprise.signals.signal_base: Setting J1857+0943_430_PUPPI_log10_ecorr to -8.08326467375\n",
      "INFO: enterprise.signals.signal_base: Setting J1857+0943_L-wide_PUPPI_log10_ecorr to -6.49822131301\n",
      "INFO: enterprise.signals.signal_base: Setting J1909-3744_PDFB_10CM_efac to 1.00267428496\n",
      "INFO: enterprise.signals.signal_base: Setting J1909-3744_CPSR2_50CM_efac to 1.04613277854\n",
      "INFO: enterprise.signals.signal_base: Setting J1909-3744_WBCORR_10CM_efac to 1.02632960131\n",
      "INFO: enterprise.signals.signal_base: Setting J1909-3744_CPSR2_20CM_efac to 1.03021420133\n",
      "INFO: enterprise.signals.signal_base: Setting J1909-3744_PDFB_40CM_efac to 0.921998226967\n",
      "INFO: enterprise.signals.signal_base: Setting J1909-3744_PDFB_20CM_efac to 1.02017484198\n",
      "INFO: enterprise.signals.signal_base: Setting J1909-3744_WBCORR_20CM_efac to 0.990109299669\n",
      "INFO: enterprise.signals.signal_base: Setting J1909-3744_CPSR2_50CM_log10_equad to -6.57064155856\n",
      "INFO: enterprise.signals.signal_base: Setting J1909-3744_WBCORR_20CM_log10_equad to -7.92654261988\n",
      "INFO: enterprise.signals.signal_base: Setting J1909-3744_PDFB_20CM_log10_equad to -7.10673211175\n",
      "INFO: enterprise.signals.signal_base: Setting J1909-3744_PDFB_10CM_log10_equad to -8.53155716087\n",
      "INFO: enterprise.signals.signal_base: Setting J1909-3744_PDFB_40CM_log10_equad to -8.563306926\n",
      "INFO: enterprise.signals.signal_base: Setting J1909-3744_WBCORR_10CM_log10_equad to -6.65029764654\n",
      "INFO: enterprise.signals.signal_base: Setting J1909-3744_CPSR2_20CM_log10_equad to -8.42298811758\n",
      "WARNING: enterprise.signals.signal_base: gamma_gw not set! Check parameter dict.\n",
      "INFO: enterprise.signals.signal_base: Setting J1918-0642_Rcvr1_2_GASP_efac to 1.0424421666\n",
      "INFO: enterprise.signals.signal_base: Setting J1918-0642_Rcvr_800_GASP_efac to 1.04852272985\n",
      "INFO: enterprise.signals.signal_base: Setting J1918-0642_Rcvr_800_GUPPI_efac to 1.05812746499\n",
      "INFO: enterprise.signals.signal_base: Setting J1918-0642_Rcvr1_2_GUPPI_efac to 1.09996772856\n",
      "INFO: enterprise.signals.signal_base: Setting J1918-0642_Rcvr1_2_GUPPI_log10_equad to -8.21000772335\n",
      "INFO: enterprise.signals.signal_base: Setting J1918-0642_Rcvr_800_GASP_log10_equad to -7.98084998916\n",
      "INFO: enterprise.signals.signal_base: Setting J1918-0642_Rcvr1_2_GASP_log10_equad to -8.15916813008\n",
      "INFO: enterprise.signals.signal_base: Setting J1918-0642_Rcvr_800_GUPPI_log10_equad to -8.12678957498\n",
      "WARNING: enterprise.signals.signal_base: gamma_gw not set! Check parameter dict.\n",
      "INFO: enterprise.signals.signal_base: Setting J1918-0642_Rcvr_800_GASP_log10_ecorr to -8.12857589709\n",
      "INFO: enterprise.signals.signal_base: Setting J1918-0642_Rcvr1_2_GASP_log10_ecorr to -8.07768027061\n",
      "INFO: enterprise.signals.signal_base: Setting J1918-0642_Rcvr_800_GUPPI_log10_ecorr to -7.52348135497\n",
      "INFO: enterprise.signals.signal_base: Setting J1918-0642_Rcvr1_2_GUPPI_log10_ecorr to -7.19775364144\n",
      "INFO: enterprise.signals.signal_base: Setting J2145-0750_WSRT.P1.323.C_efac to 1.00912791629\n",
      "INFO: enterprise.signals.signal_base: Setting J2145-0750_WSRT.P1.1380.C_efac to 0.992129078024\n",
      "INFO: enterprise.signals.signal_base: Setting J2145-0750_WSRT.P1.2273.C_efac to 1.01030380663\n",
      "INFO: enterprise.signals.signal_base: Setting J2145-0750_NRT.BON.2000_efac to 1.00319793043\n",
      "INFO: enterprise.signals.signal_base: Setting J2145-0750_EFF.EBPP.1410_efac to 0.94336854999\n",
      "INFO: enterprise.signals.signal_base: Setting J2145-0750_NRT.BON.1400_efac to 1.03821837752\n",
      "INFO: enterprise.signals.signal_base: Setting J2145-0750_WSRT.P1.367.C_efac to 1.01012806179\n",
      "INFO: enterprise.signals.signal_base: Setting J2145-0750_EFF.EBPP.2639_efac to 0.869198282312\n",
      "INFO: enterprise.signals.signal_base: Setting J2145-0750_NRT.BON.1600_efac to 1.05879376935\n",
      "INFO: enterprise.signals.signal_base: Setting J2145-0750_JBO.DFB.1520_efac to 0.9715228427\n",
      "INFO: enterprise.signals.signal_base: Setting J2145-0750_EFF.EBPP.1360_efac to 0.940649567814\n",
      "INFO: enterprise.signals.signal_base: Setting J2145-0750_WSRT.P1.2273.C_log10_equad to -4.89853661594\n",
      "INFO: enterprise.signals.signal_base: Setting J2145-0750_NRT.BON.2000_log10_equad to -5.89540128222\n",
      "INFO: enterprise.signals.signal_base: Setting J2145-0750_WSRT.P1.367.C_log10_equad to -7.15937388813\n",
      "INFO: enterprise.signals.signal_base: Setting J2145-0750_EFF.EBPP.1360_log10_equad to -8.0109732831\n",
      "INFO: enterprise.signals.signal_base: Setting J2145-0750_EFF.EBPP.2639_log10_equad to -7.87018361193\n",
      "INFO: enterprise.signals.signal_base: Setting J2145-0750_WSRT.P1.323.C_log10_equad to -7.63941380342\n",
      "INFO: enterprise.signals.signal_base: Setting J2145-0750_NRT.BON.1600_log10_equad to -7.46460602217\n",
      "INFO: enterprise.signals.signal_base: Setting J2145-0750_NRT.BON.1400_log10_equad to -7.84567012666\n",
      "INFO: enterprise.signals.signal_base: Setting J2145-0750_EFF.EBPP.1410_log10_equad to -7.85592359826\n",
      "INFO: enterprise.signals.signal_base: Setting J2145-0750_WSRT.P1.1380.C_log10_equad to -8.06593653007\n",
      "INFO: enterprise.signals.signal_base: Setting J2145-0750_JBO.DFB.1520_log10_equad to -7.41909157128\n",
      "WARNING: enterprise.signals.signal_base: gamma_gw not set! Check parameter dict.\n",
      "INFO: enterprise.signals.signal_base: Setting J2317+1439_327_ASP_efac to 1.04206116994\n",
      "INFO: enterprise.signals.signal_base: Setting J2317+1439_430_ASP_efac to 1.12633953961\n",
      "INFO: enterprise.signals.signal_base: Setting J2317+1439_L-wide_PUPPI_efac to 0.951954337343\n",
      "INFO: enterprise.signals.signal_base: Setting J2317+1439_327_PUPPI_efac to 1.15391070938\n",
      "INFO: enterprise.signals.signal_base: Setting J2317+1439_430_PUPPI_efac to 1.03783902567\n",
      "INFO: enterprise.signals.signal_base: Setting J2317+1439_327_ASP_log10_equad to -6.3932998363\n",
      "INFO: enterprise.signals.signal_base: Setting J2317+1439_430_PUPPI_log10_equad to -6.40359211661\n",
      "INFO: enterprise.signals.signal_base: Setting J2317+1439_327_PUPPI_log10_equad to -6.40127847095\n",
      "INFO: enterprise.signals.signal_base: Setting J2317+1439_L-wide_PUPPI_log10_equad to -6.5472012705\n",
      "INFO: enterprise.signals.signal_base: Setting J2317+1439_430_ASP_log10_equad to -6.6728105662\n",
      "WARNING: enterprise.signals.signal_base: gamma_gw not set! Check parameter dict.\n",
      "INFO: enterprise.signals.signal_base: Setting J2317+1439_327_ASP_log10_ecorr to -6.07597241159\n",
      "INFO: enterprise.signals.signal_base: Setting J2317+1439_430_ASP_log10_ecorr to -6.30616955141\n",
      "INFO: enterprise.signals.signal_base: Setting J2317+1439_L-wide_PUPPI_log10_ecorr to -8.20379822563\n",
      "INFO: enterprise.signals.signal_base: Setting J2317+1439_327_PUPPI_log10_ecorr to -6.14385067615\n",
      "INFO: enterprise.signals.signal_base: Setting J2317+1439_430_PUPPI_log10_ecorr to -6.29737231062\n"
     ]
    }
   ],
   "source": [
    "pta.set_default_params(params)"
   ]
  },
  {
   "cell_type": "markdown",
   "metadata": {
    "deletable": true,
    "editable": true
   },
   "source": [
    "### Set initial parameters drawn from prior and evaluate likelihood to fill caches\n",
    "\n",
    "Evaluating the likelihood is not necessary, the caches will be filled the first time it is called within the sampler if not called here."
   ]
  },
  {
   "cell_type": "code",
   "execution_count": 28,
   "metadata": {
    "collapsed": false,
    "deletable": true,
    "editable": true
   },
   "outputs": [
    {
     "name": "stdout",
     "output_type": "stream",
     "text": [
      "385646.699917\n",
      "-54.363170815\n"
     ]
    }
   ],
   "source": [
    "xs = {par.name: par.sample() for par in pta.params}\n",
    "print pta.get_lnlikelihood(xs);\n",
    "print pta.get_lnprior(xs);"
   ]
  },
  {
   "cell_type": "code",
   "execution_count": 33,
   "metadata": {
    "collapsed": false,
    "deletable": true,
    "editable": true
   },
   "outputs": [],
   "source": [
    "x0 = np.hstack(p.sample() for p in pta.params)\n",
    "ndim = len(x0)"
   ]
  },
  {
   "cell_type": "markdown",
   "metadata": {
    "deletable": true,
    "editable": true
   },
   "source": [
    "### Set up sampler"
   ]
  },
  {
   "cell_type": "code",
   "execution_count": 34,
   "metadata": {
    "collapsed": false,
    "deletable": true,
    "editable": true
   },
   "outputs": [],
   "source": [
    "# dimension of parameter space\n",
    "#ndim = len(xs)\n",
    "\n",
    "# initial jump covariance matrix\n",
    "cov = np.diag(np.ones(ndim) * 0.01**2)\n",
    "\n",
    "# set up jump groups by red noise groups \n",
    "\n",
    "groups = get_parameter_groups(pta)\n",
    "\n",
    "sampler = ptmcmc(ndim, pta.get_lnlikelihood, pta.get_lnprior, cov, groups=groups, \n",
    "                 outDir=outdir,resume=resume_chains)"
   ]
  },
  {
   "cell_type": "markdown",
   "metadata": {
    "deletable": true,
    "editable": true
   },
   "source": [
    "### Sample!"
   ]
  },
  {
   "cell_type": "code",
   "execution_count": null,
   "metadata": {
    "collapsed": false,
    "deletable": true,
    "editable": true
   },
   "outputs": [],
   "source": [
    "# sampler for N steps\n",
    "N = int(1e6)\n",
    "x0 = np.hstack(p.sample() for p in pta.params)\n",
    "jp = JumpProposal(pta)\n",
    "sampler.addProposalToCycle(jp.draw_from_prior, 15)\n",
    "sampler.addProposalToCycle(jp.draw_from_ephem_prior, 15)\n",
    "sampler.addProposalToCycle(jp.draw_from_gwb_log_uniform_prior, 10)\n",
    "sampler.sample(x0, N, SCAMweight=30, AMweight=15, DEweight=50, )"
   ]
  },
  {
   "cell_type": "markdown",
   "metadata": {
    "deletable": true,
    "editable": true
   },
   "source": [
    "### Plot output"
   ]
  },
  {
   "cell_type": "code",
   "execution_count": null,
   "metadata": {
    "collapsed": false,
    "deletable": true,
    "editable": true
   },
   "outputs": [],
   "source": [
    "chain = np.loadtxt(outdir + '/chain_1.txt')\n",
    "#pars = sorted(xs.keys())\n",
    "burn = int(0.25 * chain.shape[0])"
   ]
  },
  {
   "cell_type": "code",
   "execution_count": null,
   "metadata": {
    "collapsed": false,
    "deletable": true,
    "editable": true
   },
   "outputs": [],
   "source": [
    "plt.hist(chain[burn:,-5], 50, normed=True, histtype='step', lw=2);\n",
    "#plt.xlabel(pars[-1]);"
   ]
  },
  {
   "cell_type": "markdown",
   "metadata": {
    "collapsed": true,
    "deletable": true,
    "editable": true
   },
   "source": [
    "### Upper limit value\n",
    "\n",
    "We see that the upper limit agrees perfectly with the published value."
   ]
  },
  {
   "cell_type": "code",
   "execution_count": null,
   "metadata": {
    "collapsed": true,
    "deletable": true,
    "editable": true
   },
   "outputs": [],
   "source": [
    "upper = 10**np.percentile(chain[burn:, -5], q=95)\n",
    "print(upper)"
   ]
  },
  {
   "cell_type": "code",
   "execution_count": null,
   "metadata": {
    "collapsed": true,
    "deletable": true,
    "editable": true
   },
   "outputs": [],
   "source": []
  }
 ],
 "metadata": {
  "anaconda-cloud": {},
  "kernelspec": {
   "display_name": "Python 2",
   "language": "python",
   "name": "python2"
  },
  "language_info": {
   "codemirror_mode": {
    "name": "ipython",
    "version": 2
   },
   "file_extension": ".py",
   "mimetype": "text/x-python",
   "name": "python",
   "nbconvert_exporter": "python",
   "pygments_lexer": "ipython2",
   "version": "2.7.6"
  },
  "toc": {
   "nav_menu": {},
   "number_sections": true,
   "sideBar": true,
   "skip_h1_title": false,
   "toc_cell": false,
   "toc_position": {},
   "toc_section_display": "block",
   "toc_window_display": false
  }
 },
 "nbformat": 4,
 "nbformat_minor": 2
}
