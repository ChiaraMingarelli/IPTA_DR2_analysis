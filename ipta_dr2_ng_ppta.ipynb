{
 "cells": [
  {
   "cell_type": "markdown",
   "metadata": {},
   "source": [
    "# Analyzing IPTA DR2 Data\n",
    "\n",
    "In this notebook we will use `enterprise` to analyze the IPTA DR2 for a stochastic GW background using the NANOGrav 9 year data and the PPTA data that went into DR2 from the PPTA."
   ]
  },
  {
   "cell_type": "code",
   "execution_count": 1,
   "metadata": {
    "collapsed": false
   },
   "outputs": [],
   "source": [
    "% matplotlib inline\n",
    "%config InlineBackend.figure_format = 'retina'\n",
    "#%load_ext line_profiler\n",
    "\n",
    "from __future__ import division\n",
    "\n",
    "import numpy as np\n",
    "import glob\n",
    "import matplotlib.pyplot as plt\n",
    "import scipy.linalg as sl\n",
    "\n",
    "import enterprise\n",
    "from enterprise.pulsar import Pulsar\n",
    "import enterprise.signals.parameter as parameter\n",
    "from enterprise.signals import utils\n",
    "from enterprise.signals import signal_base\n",
    "from enterprise.signals import selections\n",
    "from enterprise.signals.selections import Selection\n",
    "from enterprise.signals import white_signals\n",
    "from enterprise.signals import gp_signals\n",
    "from enterprise.signals import deterministic_signals\n",
    "\n",
    "import corner\n",
    "from PTMCMCSampler.PTMCMCSampler import PTSampler as ptmcmc\n",
    "\n"
   ]
  },
  {
   "cell_type": "markdown",
   "metadata": {},
   "source": [
    "### Function to convert PAL2 noise parameters to enterprise parameter dict"
   ]
  },
  {
   "cell_type": "code",
   "execution_count": 2,
   "metadata": {
    "collapsed": true
   },
   "outputs": [],
   "source": [
    "def get_noise_from_pal2(noisefile):\n",
    "    psrname = noisefile.split('/')[-1].split('_noise.txt')[0]\n",
    "    fin = open(noisefile, 'r')\n",
    "    lines = fin.readlines()\n",
    "    params = {}\n",
    "    for line in lines:\n",
    "        ln = line.split()\n",
    "        if 'efac' in line:\n",
    "            par = 'efac'\n",
    "            flag = ln[0].split('efac-')[-1]\n",
    "        elif 'equad' in line:\n",
    "            par = 'log10_equad'\n",
    "            flag = ln[0].split('equad-')[-1]\n",
    "        elif 'jitter_q' in line:\n",
    "            par = 'log10_ecorr'\n",
    "            flag = ln[0].split('jitter_q-')[-1]\n",
    "        elif 'RN-Amplitude' in line:\n",
    "            par = 'log10_A'\n",
    "            flag = ''\n",
    "        elif 'RN-spectral-index' in line:\n",
    "            par = 'gamma'\n",
    "            flag = ''\n",
    "        else:\n",
    "            break\n",
    "        if flag:\n",
    "            name = [psrname, flag, par]\n",
    "        else:\n",
    "            name = [psrname, par]\n",
    "        pname = '_'.join(name)\n",
    "        params.update({pname: float(ln[1])})\n",
    "    return params"
   ]
  },
  {
   "cell_type": "code",
   "execution_count": 3,
   "metadata": {
    "collapsed": true
   },
   "outputs": [],
   "source": [
    "class JumpProposal(object):\n",
    "    \n",
    "    def __init__(self, pta):\n",
    "        \"\"\"Set up some custom jump proposals\n",
    "        \n",
    "        :param params: A list of `enterprise` parameters\n",
    "        \n",
    "        \"\"\"\n",
    "        self.params = pta.params\n",
    "        self.npar = len(pta.params)\n",
    "        self.ndim = sum(p.size or 1 for p in pta.params)\n",
    "        \n",
    "        # parameter map\n",
    "        self.pmap = {}\n",
    "        ct = 0\n",
    "        for p in pta.params:\n",
    "            size = p.size or 1\n",
    "            self.pmap[p] = slice(ct, ct+size)\n",
    "            ct += size\n",
    "            \n",
    "        # parameter indices map\n",
    "        self.pimap = {}\n",
    "        for ct, p in enumerate(pta.param_names):\n",
    "            self.pimap[p] = ct\n",
    "            \n",
    "        self.snames = {}\n",
    "        for sc in pta._signalcollections:\n",
    "            for signal in sc._signals:\n",
    "                self.snames[signal.signal_name] = signal.params\n",
    "        \n",
    "    def draw_from_prior(self, x, iter, beta):\n",
    "        \"\"\"Prior draw.\n",
    "        \n",
    "        The function signature is specific to PTMCMCSampler.\n",
    "        \"\"\"\n",
    "        \n",
    "        q = x.copy()\n",
    "        lqxy = 0\n",
    "        \n",
    "        # randomly choose parameter\n",
    "        idx = np.random.randint(0, self.npar)\n",
    "        \n",
    "        # if vector parameter jump in random component\n",
    "        param = self.params[idx]\n",
    "        if param.size:\n",
    "            idx2 = np.random.randint(0, param.size)\n",
    "            q[self.pmap[param]][idx2] = param.sample()[idx2]\n",
    "\n",
    "        # scalar parameter\n",
    "        else:\n",
    "            q[idx] = param.sample()\n",
    "        \n",
    "        # forward-backward jump probability\n",
    "        lqxy = param.get_logpdf(x[self.pmap[param]]) - param.get_logpdf(q[self.pmap[param]])\n",
    "                \n",
    "        return q, float(lqxy)\n",
    "    \n",
    "# utility function for finding global parameters\n",
    "def get_global_parameters(pta):\n",
    "    pars = []\n",
    "    for sc in pta._signalcollections:\n",
    "        pars.extend(sc.param_names)\n",
    "    \n",
    "    gpars = np.unique(filter(lambda x: pars.count(x)>1, pars))\n",
    "    ipars = np.array([p for p in pars if p not in gpars])\n",
    "        \n",
    "    return gpars, ipars\n",
    "\n",
    "# utility function to get parameter groupings for sampling\n",
    "def get_parameter_groups(pta):\n",
    "    ndim = len(pta.param_names)\n",
    "    groups  = [range(0, ndim)]\n",
    "    params = pta.param_names\n",
    "    \n",
    "    # get global and individual parameters\n",
    "    gpars, ipars = get_global_parameters(pta)\n",
    "    if any(gpars):\n",
    "        groups.extend([[params.index(gp) for gp in gpars]])\n",
    "\n",
    "    for sc in pta._signalcollections:\n",
    "        for signal in sc._signals:\n",
    "            ind = [params.index(p) for p in signal.param_names if p not in gpars]\n",
    "            if ind:\n",
    "                groups.extend([ind])\n",
    "    \n",
    "    return groups"
   ]
  },
  {
   "cell_type": "code",
   "execution_count": 4,
   "metadata": {
    "collapsed": true
   },
   "outputs": [],
   "source": [
    "#The pulsars we'll be analyzing\n",
    "psrdict = {'J1713+0747': [{'pta': ['NANOGrav', 'PPTA']}], \n",
    "           'J1909-3744': [{'pta': ['NANOGrav', 'PPTA']}], \n",
    "           'J1640+2224': [{'pta': ['NANOGrav']}], \n",
    "           'J1600-3053': [{'pta': ['NANOGrav']}],\n",
    "           'J2317+1439': [{'pta': ['NANOGrav']}], \n",
    "           'J1918-0642': [{'pta': ['NANOGrav']}], \n",
    "           'J1614-2230': [{'pta': ['NANOGrav']}], \n",
    "           'J1744-1134': [{'pta': ['NANOGrav', 'PPTA']}],\n",
    "           'J0030+0451': [{'pta': ['NANOGrav']}], \n",
    "           'J2145-0750': [{'pta': ['NANOGrav']}], \n",
    "           'J1857+0943': [{'pta': ['NANOGrav']}], \n",
    "           'J1853+1303': [{'pta': ['NANOGrav']}], \n",
    "           'J0613-0200': [{'pta': ['NANOGrav']}],\n",
    "           'J1455-3330': [{'pta': ['NANOGrav']}], \n",
    "           'J1741+1351': [{'pta': ['NANOGrav']}], \n",
    "           'J2010-1323': [{'pta': ['NANOGrav']}], \n",
    "           'J1024-0719': [{'pta': ['NANOGrav']}], \n",
    "           'J1012+5307': [{'pta': ['NANOGrav']}],\n",
    "           'J0437-4715': [{'pta': ['PPTA']}]\n",
    "          }\n",
    "psrlist=psrdict.keys()"
   ]
  },
  {
   "cell_type": "code",
   "execution_count": 18,
   "metadata": {
    "collapsed": false
   },
   "outputs": [
    {
     "data": {
      "text/plain": [
       "['J1909-3744',\n",
       " 'J1857+0943',\n",
       " 'J1853+1303',\n",
       " 'J1713+0747',\n",
       " 'J1012+5307',\n",
       " 'J2010-1323',\n",
       " 'J1640+2224',\n",
       " 'J0437-4715',\n",
       " 'J1455-3330',\n",
       " 'J0030+0451',\n",
       " 'J0613-0200',\n",
       " 'J1741+1351',\n",
       " 'J1024-0719',\n",
       " 'J1744-1134',\n",
       " 'J2145-0750',\n",
       " 'J1918-0642',\n",
       " 'J2317+1439',\n",
       " 'J1614-2230',\n",
       " 'J1600-3053']"
      ]
     },
     "execution_count": 18,
     "metadata": {},
     "output_type": "execute_result"
    }
   ],
   "source": [
    "psrlist"
   ]
  },
  {
   "cell_type": "markdown",
   "metadata": {},
   "source": [
    "### Get par, tim, and noise files\n",
    "Here we collect the tim and par files as well as noise files made from the `PAL2` code. These are the same par, tim, and noise files used in the 9-year analysis papers. We use the convienience function above to convert from `PAL2` noise files to `enterprise` parameter dictionaries."
   ]
  },
  {
   "cell_type": "code",
   "execution_count": 15,
   "metadata": {
    "collapsed": true
   },
   "outputs": [],
   "source": [
    "datadir = '../ipta_dsets/partim_filtered_ppta_ng/'"
   ]
  },
  {
   "cell_type": "code",
   "execution_count": 19,
   "metadata": {
    "collapsed": false
   },
   "outputs": [],
   "source": [
    "parfiles = sorted(glob.glob(datadir + '/*.par'))\n",
    "timfiles = sorted(glob.glob(datadir + '/*.tim'))\n",
    "noisefiles = sorted(glob.glob(datadir + '/*noise.txt'))\n",
    "\n",
    "# filter\n",
    "parfiles = [x for x in parfiles if x.split('/')[-1].split('.')[0] in psrlist]\n",
    "timfiles = [x for x in timfiles if x.split('/')[-1].split('.')[0] in psrlist]\n",
    "noisefiles = [x for x in noisefiles if x.split('/')[-1].split('.')[0] in psrlist]"
   ]
  },
  {
   "cell_type": "code",
   "execution_count": 20,
   "metadata": {
    "collapsed": false
   },
   "outputs": [
    {
     "data": {
      "text/plain": [
       "19"
      ]
     },
     "execution_count": 20,
     "metadata": {},
     "output_type": "execute_result"
    }
   ],
   "source": [
    "len(parfiles)"
   ]
  },
  {
   "cell_type": "markdown",
   "metadata": {},
   "source": [
    "### Load into Pulsar class list"
   ]
  },
  {
   "cell_type": "code",
   "execution_count": 21,
   "metadata": {
    "collapsed": false
   },
   "outputs": [
    {
     "name": "stdout",
     "output_type": "stream",
     "text": [
      "WARNING: Could not find pulsar distance for PSR J1614-2230. Setting value to 1 with 20% uncertainty.\n",
      "WARNING: Could not find pulsar distance for PSR J1741+1351. Setting value to 1 with 20% uncertainty.\n",
      "WARNING: Could not find pulsar distance for PSR J1853+1303. Setting value to 1 with 20% uncertainty.\n",
      "WARNING: Could not find pulsar distance for PSR J2010-1323. Setting value to 1 with 20% uncertainty.\n"
     ]
    }
   ],
   "source": [
    "psrs = []\n",
    "for p, t in zip(parfiles, timfiles):\n",
    "    psr = Pulsar(p, t, ephem='DE436')\n",
    "    psrs.append(psr)"
   ]
  },
  {
   "cell_type": "markdown",
   "metadata": {},
   "source": [
    "### Get parameter dict from noisefiles"
   ]
  },
  {
   "cell_type": "code",
   "execution_count": 8,
   "metadata": {
    "collapsed": true
   },
   "outputs": [],
   "source": [
    "params = {}\n",
    "for nfile in noisefiles:\n",
    "    params.update(get_noise_from_pal2(nfile))"
   ]
  },
  {
   "cell_type": "markdown",
   "metadata": {},
   "source": [
    "### Set up model\n",
    "\n",
    "When setting up the model for our upper limit run we fix all of the white noise (EFAC, EQUAD, and ECORR) parameters to the values obtained from the noise files. This is done by using `Constant` parameters. In this case we do not specify a default value for all instances of that parameter but instead will set them, based on their initialized pulsar and backend specific name, later via the `set_default_params` method of `PTA`. \n",
    "\n",
    "Speaking of white noise parameters here, we also use the `Selection` object.\n",
    "\n",
    "Another feature to notice is that we do not use a uniform prior on the log of the red noise or GWB amplitude. Instead we use a `LinearExp` prior (short for linear-exponent prior), that is a prior of the form $p(x)\\propto 10^x$. This is how we can still use the log of the parameter to sample but place a uniform prior on the parameter itself. We do this for both the red noise and GWB amplitude parameters.\n",
    "\n",
    "Next, in order to save on computing time we do not include spatial correlations here. Instead we model the GWB as a common red process across all pulsars. In `enterprise` we can do this with a simple trick. We pre-initialize the parameters before passing them to the `Signal` model. In this way the *same* parameter instance is used for all pulsars. Lastly, we fixt the spectral index of the GWB to be 13/3 (4.33) using the `Constant` parameter."
   ]
  },
  {
   "cell_type": "code",
   "execution_count": null,
   "metadata": {
    "collapsed": true
   },
   "outputs": [],
   "source": [
    "# find the maximum time span to set GW frequency sampling\n",
    "tmin = [p.toas.min() for p in psrs]\n",
    "tmax = [p.toas.max() for p in psrs]\n",
    "Tspan = np.max(tmax) - np.min(tmin)\n",
    "\n",
    "# define selection by observing backend\n",
    "selection1 = selections.Selection(selections.by_backend)\n",
    "\n",
    "# special selection for ECORR only use wideband NANOGrav data\n",
    "selection2 = selections.Selection(selections.nanograv_backends)\n",
    "\n",
    "# white noise parameters\n",
    "# since we are fixing these to values from the noise file we set\n",
    "# them as constant parameters\n",
    "efac = parameter.Constant()\n",
    "equad = parameter.Constant()\n",
    "ecorr = parameter.Constant()\n",
    "\n",
    "# red noise parameters\n",
    "log10_A = parameter.Uniform(-20, -11)\n",
    "gamma = parameter.Uniform(0, 7)\n",
    "\n",
    "# GW parameters (initialize with names here to use parameters in common across pulsars)\n",
    "log10_A_gw = parameter.LinearExp(-18,-12)('log10_A_gw')\n",
    "gamma_gw = parameter.Constant(4.33)('gamma_gw')\n",
    "\n",
    "# DM turnover parameters\n",
    "kappa = parameter.Uniform(0,7)\n",
    "lf0 = parameter.Uniform(-9, -6.5)\n",
    "\n",
    "# DM exponential parameters\n",
    "t0 = parameter.Uniform(psr.toas.min()/86400, psr.toas.max()/86400)\n",
    "log10_Amp = parameter.Uniform(-10, -2)\n",
    "log10_tau = parameter.Uniform(np.log10(5), np.log10(500))\n",
    "\n",
    "# DM sinusoid parameters\n",
    "log10_Amp_s = parameter.Uniform(-10, -2)\n",
    "phase = parameter.Uniform(0, 2*np.pi)\n",
    "\n",
    "# white noise signals\n",
    "\n",
    "# DM EQUAD\n",
    "dmvariance = dmequad_ndiag(log10_dmequad=equad)\n",
    "dmeq = white_signals.WhiteNoise(dmvariance)\n",
    "\n",
    "# white noise\n",
    "ef = white_signals.MeasurementNoise(efac=efac, selection=selection)\n",
    "eq = white_signals.EquadNoise(log10_equad=equad, selection=selection)\n",
    "ec = white_signals.EcorrKernelNoise(log10_ecorr=ecorr, selection=selection2)\n",
    "\n",
    "# red noise (powerlaw with 30 frequencies)\n",
    "pl = utils.powerlaw(log10_A=log10_A, gamma=gamma)\n",
    "rn = gp_signals.FourierBasisGP(spectrum=pl, components=30, Tspan=Tspan)\n",
    "\n",
    "\n",
    "# DM GP signals (use turnover model for more flexibility)\n",
    "dm_basis = utils.createfourierdesignmatrix_dm(nmodes=30)\n",
    "dm_prior = utils.turnover(log10_A=log10_A, gamma=gamma, lf0=lf0, kappa=kappa)\n",
    "dmgp = gp_signals.BasisGP(dm_prior, dm_basis, name='dm')\n",
    "\n",
    "\n",
    "# DM exponential model\n",
    "wf = exp_decay(log10_Amp=log10_Amp, t0=t0, log10_tau=log10_tau)\n",
    "dmexp = deterministic_signals.Deterministic(wf, name='exp')\n",
    "\n",
    "# DM sinusoid model\n",
    "wf = yearly_sinusoid(log10_Amp=log10_Amp_s, phase=phase)\n",
    "dmys = deterministic_signals.Deterministic(wf, name='s1yr')\n",
    "\n",
    "# gwb (no spatial correlations)\n",
    "cpl = utils.powerlaw(log10_A=log10_A_gw, gamma=gamma_gw)\n",
    "gw = gp_signals.FourierBasisGP(spectrum=cpl, components=30, Tspan=Tspan)\n",
    "\n",
    "# for spatial correltions you can do...\n",
    "#orf = utils.hd_orf()\n",
    "#crn = gp_signals.FourierBasisCommonGP(cpl, orf, components=30, name='gw', Tspan=Tspan)\n",
    "\n",
    "# to add solar system ephemeris modeling...\n",
    "eph = deterministic_signals.PhysicalEphemerisSignal(use_epoch_toas=True)\n",
    "\n",
    "# timing model\n",
    "basis = svd_tm_basis()\n",
    "prior = tm_prior()\n",
    "tm = gp_signals.BasisGP(prior, basis)\n",
    "#tm = gp_signals.TimingModel()\n",
    "\n",
    "# full model\n",
    "#s = ef + eq + rn + dmgp + tm  + dmeq + dmys\n",
    "s = ef + eq + rn + tm + dmgp + dmeq + dmys + eph + gw\n",
    "\n",
    "# intialize PTA, adding an exponential dip for the DM event in J1713+0747\n",
    "models = []\n",
    "\n",
    "for p in psrs:    \n",
    "    if 'NANOGrav' is in p.flags['pta']:\n",
    "        s2 = s + ec \n",
    "        if p.name == 'J1713+0747':\n",
    "            s3 = s2 + dmexp\n",
    "            models.append(s3(p))\n",
    "        else:\n",
    "            models.append(s2(p))\n",
    "    else:\n",
    "        models.append(s(p))\n",
    "    \n",
    "pta = signal_base.PTA(models)"
   ]
  },
  {
   "cell_type": "markdown",
   "metadata": {},
   "source": [
    "### Set white noise parameters"
   ]
  },
  {
   "cell_type": "code",
   "execution_count": 9,
   "metadata": {
    "collapsed": false
   },
   "outputs": [
    {
     "name": "stderr",
     "output_type": "stream",
     "text": [
      "INFO: enterprise.signals.signal_base: Setting B1855+09_L-wide_PUPPI_efac to 1.51117\n",
      "INFO: enterprise.signals.signal_base: Setting B1855+09_L-wide_ASP_efac to 1.14383\n",
      "INFO: enterprise.signals.signal_base: Setting B1855+09_430_ASP_efac to 1.13965\n",
      "INFO: enterprise.signals.signal_base: Setting B1855+09_430_PUPPI_efac to 1.12121\n",
      "INFO: enterprise.signals.signal_base: Setting B1855+09_L-wide_PUPPI_log10_equad to -6.42638\n",
      "INFO: enterprise.signals.signal_base: Setting B1855+09_430_PUPPI_log10_equad to -7.96027\n",
      "INFO: enterprise.signals.signal_base: Setting B1855+09_L-wide_ASP_log10_equad to -6.31998\n",
      "INFO: enterprise.signals.signal_base: Setting B1855+09_430_ASP_log10_equad to -8.09925\n",
      "INFO: enterprise.signals.signal_base: Setting B1855+09_430_ASP_log10_ecorr to -7.38511\n",
      "INFO: enterprise.signals.signal_base: Setting B1855+09_L-wide_ASP_log10_ecorr to -6.10018\n",
      "INFO: enterprise.signals.signal_base: Setting B1855+09_430_PUPPI_log10_ecorr to -7.28084\n",
      "INFO: enterprise.signals.signal_base: Setting B1855+09_L-wide_PUPPI_log10_ecorr to -6.48309\n",
      "WARNING: enterprise.signals.signal_base: gamma_gw not set! Check parameter dict.\n",
      "INFO: enterprise.signals.signal_base: Setting J0030+0451_430_ASP_efac to 1.13871\n",
      "INFO: enterprise.signals.signal_base: Setting J0030+0451_L-wide_ASP_efac to 1.12336\n",
      "INFO: enterprise.signals.signal_base: Setting J0030+0451_430_PUPPI_efac to 0.917359\n",
      "INFO: enterprise.signals.signal_base: Setting J0030+0451_L-wide_PUPPI_efac to 1.14101\n",
      "INFO: enterprise.signals.signal_base: Setting J0030+0451_430_ASP_log10_equad to -8.27762\n",
      "INFO: enterprise.signals.signal_base: Setting J0030+0451_L-wide_PUPPI_log10_equad to -6.67303\n",
      "INFO: enterprise.signals.signal_base: Setting J0030+0451_L-wide_ASP_log10_equad to -8.17663\n",
      "INFO: enterprise.signals.signal_base: Setting J0030+0451_430_PUPPI_log10_equad to -5.94568\n",
      "INFO: enterprise.signals.signal_base: Setting J0030+0451_430_ASP_log10_ecorr to -7.6001\n",
      "INFO: enterprise.signals.signal_base: Setting J0030+0451_L-wide_ASP_log10_ecorr to -7.59912\n",
      "INFO: enterprise.signals.signal_base: Setting J0030+0451_430_PUPPI_log10_ecorr to -7.11084\n",
      "INFO: enterprise.signals.signal_base: Setting J0030+0451_L-wide_PUPPI_log10_ecorr to -7.64239\n",
      "WARNING: enterprise.signals.signal_base: gamma_gw not set! Check parameter dict.\n",
      "INFO: enterprise.signals.signal_base: Setting J0613-0200_Rcvr1_2_GUPPI_efac to 1.08569\n",
      "INFO: enterprise.signals.signal_base: Setting J0613-0200_Rcvr_800_GASP_efac to 1.09303\n",
      "INFO: enterprise.signals.signal_base: Setting J0613-0200_Rcvr_800_GUPPI_efac to 1.19709\n",
      "INFO: enterprise.signals.signal_base: Setting J0613-0200_Rcvr1_2_GASP_efac to 1.08413\n",
      "INFO: enterprise.signals.signal_base: Setting J0613-0200_Rcvr1_2_GASP_log10_equad to -8.29172\n",
      "INFO: enterprise.signals.signal_base: Setting J0613-0200_Rcvr1_2_GUPPI_log10_equad to -8.39354\n",
      "INFO: enterprise.signals.signal_base: Setting J0613-0200_Rcvr_800_GUPPI_log10_equad to -6.52894\n",
      "INFO: enterprise.signals.signal_base: Setting J0613-0200_Rcvr_800_GASP_log10_equad to -8.34563\n",
      "INFO: enterprise.signals.signal_base: Setting J0613-0200_Rcvr_800_GASP_log10_ecorr to -7.72404\n",
      "INFO: enterprise.signals.signal_base: Setting J0613-0200_Rcvr1_2_GASP_log10_ecorr to -7.51539\n",
      "INFO: enterprise.signals.signal_base: Setting J0613-0200_Rcvr_800_GUPPI_log10_ecorr to -7.53941\n",
      "INFO: enterprise.signals.signal_base: Setting J0613-0200_Rcvr1_2_GUPPI_log10_ecorr to -7.78395\n",
      "WARNING: enterprise.signals.signal_base: gamma_gw not set! Check parameter dict.\n",
      "INFO: enterprise.signals.signal_base: Setting J1012+5307_Rcvr1_2_GASP_efac to 1.05234\n",
      "INFO: enterprise.signals.signal_base: Setting J1012+5307_Rcvr_800_GASP_efac to 1.11456\n",
      "INFO: enterprise.signals.signal_base: Setting J1012+5307_Rcvr_800_GUPPI_efac to 1.17272\n",
      "INFO: enterprise.signals.signal_base: Setting J1012+5307_Rcvr1_2_GUPPI_efac to 1.08498\n",
      "INFO: enterprise.signals.signal_base: Setting J1012+5307_Rcvr1_2_GUPPI_log10_equad to -6.42345\n",
      "INFO: enterprise.signals.signal_base: Setting J1012+5307_Rcvr_800_GASP_log10_equad to -7.92351\n",
      "INFO: enterprise.signals.signal_base: Setting J1012+5307_Rcvr1_2_GASP_log10_equad to -8.04958\n",
      "INFO: enterprise.signals.signal_base: Setting J1012+5307_Rcvr_800_GUPPI_log10_equad to -6.31253\n",
      "INFO: enterprise.signals.signal_base: Setting J1012+5307_Rcvr_800_GASP_log10_ecorr to -7.63389\n",
      "INFO: enterprise.signals.signal_base: Setting J1012+5307_Rcvr1_2_GASP_log10_ecorr to -7.27863\n",
      "INFO: enterprise.signals.signal_base: Setting J1012+5307_Rcvr_800_GUPPI_log10_ecorr to -7.75432\n",
      "INFO: enterprise.signals.signal_base: Setting J1012+5307_Rcvr1_2_GUPPI_log10_ecorr to -6.68714\n",
      "WARNING: enterprise.signals.signal_base: gamma_gw not set! Check parameter dict.\n",
      "INFO: enterprise.signals.signal_base: Setting J1024-0719_Rcvr1_2_GASP_efac to 0.923661\n",
      "INFO: enterprise.signals.signal_base: Setting J1024-0719_Rcvr_800_GUPPI_efac to 1.19071\n",
      "INFO: enterprise.signals.signal_base: Setting J1024-0719_Rcvr1_2_GUPPI_efac to 1.14266\n",
      "INFO: enterprise.signals.signal_base: Setting J1024-0719_Rcvr_800_GASP_efac to 1.01755\n",
      "INFO: enterprise.signals.signal_base: Setting J1024-0719_Rcvr_800_GUPPI_log10_equad to -8.542\n",
      "INFO: enterprise.signals.signal_base: Setting J1024-0719_Rcvr_800_GASP_log10_equad to -7.94691\n",
      "INFO: enterprise.signals.signal_base: Setting J1024-0719_Rcvr1_2_GUPPI_log10_equad to -8.49668\n",
      "INFO: enterprise.signals.signal_base: Setting J1024-0719_Rcvr1_2_GASP_log10_equad to -7.54914\n",
      "INFO: enterprise.signals.signal_base: Setting J1024-0719_Rcvr_800_GASP_log10_ecorr to -6.96383\n",
      "INFO: enterprise.signals.signal_base: Setting J1024-0719_Rcvr1_2_GASP_log10_ecorr to -7.08522\n",
      "INFO: enterprise.signals.signal_base: Setting J1024-0719_Rcvr_800_GUPPI_log10_ecorr to -7.29206\n",
      "INFO: enterprise.signals.signal_base: Setting J1024-0719_Rcvr1_2_GUPPI_log10_ecorr to -7.00321\n",
      "WARNING: enterprise.signals.signal_base: gamma_gw not set! Check parameter dict.\n",
      "INFO: enterprise.signals.signal_base: Setting J1455-3330_Rcvr_800_GASP_efac to 1.49365\n",
      "INFO: enterprise.signals.signal_base: Setting J1455-3330_Rcvr1_2_GASP_efac to 1.12806\n",
      "INFO: enterprise.signals.signal_base: Setting J1455-3330_Rcvr_800_GUPPI_efac to 1.35131\n",
      "INFO: enterprise.signals.signal_base: Setting J1455-3330_Rcvr1_2_GUPPI_efac to 1.32475\n",
      "INFO: enterprise.signals.signal_base: Setting J1455-3330_Rcvr_800_GUPPI_log10_equad to -8.40589\n",
      "INFO: enterprise.signals.signal_base: Setting J1455-3330_Rcvr1_2_GASP_log10_equad to -8.04522\n",
      "INFO: enterprise.signals.signal_base: Setting J1455-3330_Rcvr1_2_GUPPI_log10_equad to -8.37397\n",
      "INFO: enterprise.signals.signal_base: Setting J1455-3330_Rcvr_800_GASP_log10_equad to -8.08877\n",
      "INFO: enterprise.signals.signal_base: Setting J1455-3330_Rcvr_800_GASP_log10_ecorr to -7.24673\n",
      "INFO: enterprise.signals.signal_base: Setting J1455-3330_Rcvr1_2_GASP_log10_ecorr to -6.06065\n",
      "INFO: enterprise.signals.signal_base: Setting J1455-3330_Rcvr_800_GUPPI_log10_ecorr to -7.35803\n",
      "INFO: enterprise.signals.signal_base: Setting J1455-3330_Rcvr1_2_GUPPI_log10_ecorr to -7.56026\n",
      "WARNING: enterprise.signals.signal_base: gamma_gw not set! Check parameter dict.\n",
      "INFO: enterprise.signals.signal_base: Setting J1600-3053_Rcvr1_2_GUPPI_efac to 1.05637\n",
      "INFO: enterprise.signals.signal_base: Setting J1600-3053_Rcvr_800_GUPPI_efac to 1.12855\n",
      "INFO: enterprise.signals.signal_base: Setting J1600-3053_Rcvr1_2_GASP_efac to 1.13991\n",
      "INFO: enterprise.signals.signal_base: Setting J1600-3053_Rcvr_800_GASP_efac to 1.18543\n",
      "INFO: enterprise.signals.signal_base: Setting J1600-3053_Rcvr1_2_GUPPI_log10_equad to -8.31385\n",
      "INFO: enterprise.signals.signal_base: Setting J1600-3053_Rcvr1_2_GASP_log10_equad to -7.77574\n",
      "INFO: enterprise.signals.signal_base: Setting J1600-3053_Rcvr_800_GUPPI_log10_equad to -8.09682\n",
      "INFO: enterprise.signals.signal_base: Setting J1600-3053_Rcvr_800_GASP_log10_equad to -8.07856\n",
      "INFO: enterprise.signals.signal_base: Setting J1600-3053_Rcvr_800_GASP_log10_ecorr to -7.42253\n",
      "INFO: enterprise.signals.signal_base: Setting J1600-3053_Rcvr1_2_GASP_log10_ecorr to -7.41423\n",
      "INFO: enterprise.signals.signal_base: Setting J1600-3053_Rcvr_800_GUPPI_log10_ecorr to -6.3244\n",
      "INFO: enterprise.signals.signal_base: Setting J1600-3053_Rcvr1_2_GUPPI_log10_ecorr to -6.78034\n",
      "WARNING: enterprise.signals.signal_base: gamma_gw not set! Check parameter dict.\n",
      "INFO: enterprise.signals.signal_base: Setting J1614-2230_Rcvr1_2_GASP_efac to 1.15849\n",
      "INFO: enterprise.signals.signal_base: Setting J1614-2230_Rcvr_800_GASP_efac to 0.915636\n",
      "INFO: enterprise.signals.signal_base: Setting J1614-2230_Rcvr_800_GUPPI_efac to 1.01366\n",
      "INFO: enterprise.signals.signal_base: Setting J1614-2230_Rcvr1_2_GUPPI_efac to 1.06146\n",
      "INFO: enterprise.signals.signal_base: Setting J1614-2230_Rcvr1_2_GUPPI_log10_equad to -8.53141\n",
      "INFO: enterprise.signals.signal_base: Setting J1614-2230_Rcvr_800_GASP_log10_equad to -8.01389\n",
      "INFO: enterprise.signals.signal_base: Setting J1614-2230_Rcvr1_2_GASP_log10_equad to -8.02865\n",
      "INFO: enterprise.signals.signal_base: Setting J1614-2230_Rcvr_800_GUPPI_log10_equad to -8.34908\n",
      "INFO: enterprise.signals.signal_base: Setting J1614-2230_Rcvr_800_GASP_log10_ecorr to -7.13582\n",
      "INFO: enterprise.signals.signal_base: Setting J1614-2230_Rcvr1_2_GASP_log10_ecorr to -7.13589\n",
      "INFO: enterprise.signals.signal_base: Setting J1614-2230_Rcvr_800_GUPPI_log10_ecorr to -6.78123\n",
      "INFO: enterprise.signals.signal_base: Setting J1614-2230_Rcvr1_2_GUPPI_log10_ecorr to -7.63\n",
      "WARNING: enterprise.signals.signal_base: gamma_gw not set! Check parameter dict.\n",
      "INFO: enterprise.signals.signal_base: Setting J1640+2224_L-wide_PUPPI_efac to 1.25304\n",
      "INFO: enterprise.signals.signal_base: Setting J1640+2224_430_ASP_efac to 1.18797\n",
      "INFO: enterprise.signals.signal_base: Setting J1640+2224_L-wide_ASP_efac to 1.07335\n",
      "INFO: enterprise.signals.signal_base: Setting J1640+2224_430_PUPPI_efac to 1.13544\n",
      "INFO: enterprise.signals.signal_base: Setting J1640+2224_430_ASP_log10_equad to -6.26644\n",
      "INFO: enterprise.signals.signal_base: Setting J1640+2224_L-wide_PUPPI_log10_equad to -8.61952\n",
      "INFO: enterprise.signals.signal_base: Setting J1640+2224_L-wide_ASP_log10_equad to -8.40253\n",
      "INFO: enterprise.signals.signal_base: Setting J1640+2224_430_PUPPI_log10_equad to -7.48076\n",
      "INFO: enterprise.signals.signal_base: Setting J1640+2224_430_ASP_log10_ecorr to -7.75415\n",
      "INFO: enterprise.signals.signal_base: Setting J1640+2224_L-wide_ASP_log10_ecorr to -6.38835\n",
      "INFO: enterprise.signals.signal_base: Setting J1640+2224_430_PUPPI_log10_ecorr to -7.0865\n",
      "INFO: enterprise.signals.signal_base: Setting J1640+2224_L-wide_PUPPI_log10_ecorr to -7.67906\n",
      "WARNING: enterprise.signals.signal_base: gamma_gw not set! Check parameter dict.\n",
      "INFO: enterprise.signals.signal_base: Setting J1713+0747_S-wide_PUPPI_efac to 1.08004\n",
      "INFO: enterprise.signals.signal_base: Setting J1713+0747_Rcvr_800_GASP_efac to 1.19524\n",
      "INFO: enterprise.signals.signal_base: Setting J1713+0747_Rcvr1_2_GUPPI_efac to 1.19878\n",
      "INFO: enterprise.signals.signal_base: Setting J1713+0747_L-wide_ASP_efac to 1.02902\n",
      "INFO: enterprise.signals.signal_base: Setting J1713+0747_S-wide_ASP_efac to 1.12282\n",
      "INFO: enterprise.signals.signal_base: Setting J1713+0747_L-wide_PUPPI_efac to 1.1659\n",
      "INFO: enterprise.signals.signal_base: Setting J1713+0747_Rcvr_800_GUPPI_efac to 1.06403\n",
      "INFO: enterprise.signals.signal_base: Setting J1713+0747_Rcvr1_2_GASP_efac to 1.0879\n",
      "INFO: enterprise.signals.signal_base: Setting J1713+0747_L-wide_ASP_log10_equad to -7.59213\n",
      "INFO: enterprise.signals.signal_base: Setting J1713+0747_Rcvr_800_GUPPI_log10_equad to -8.30246\n",
      "INFO: enterprise.signals.signal_base: Setting J1713+0747_S-wide_ASP_log10_equad to -8.7862\n",
      "INFO: enterprise.signals.signal_base: Setting J1713+0747_Rcvr_800_GASP_log10_equad to -8.365\n",
      "INFO: enterprise.signals.signal_base: Setting J1713+0747_Rcvr1_2_GUPPI_log10_equad to -8.29277\n",
      "INFO: enterprise.signals.signal_base: Setting J1713+0747_L-wide_PUPPI_log10_equad to -8.90685\n",
      "INFO: enterprise.signals.signal_base: Setting J1713+0747_Rcvr1_2_GASP_log10_equad to -8.17586\n",
      "INFO: enterprise.signals.signal_base: Setting J1713+0747_S-wide_PUPPI_log10_equad to -7.29251\n",
      "INFO: enterprise.signals.signal_base: Setting J1713+0747_Rcvr_800_GASP_log10_ecorr to -7.76923\n",
      "INFO: enterprise.signals.signal_base: Setting J1713+0747_Rcvr1_2_GASP_log10_ecorr to -7.21635\n",
      "INFO: enterprise.signals.signal_base: Setting J1713+0747_L-wide_ASP_log10_ecorr to -6.96775\n",
      "INFO: enterprise.signals.signal_base: Setting J1713+0747_Rcvr1_2_GUPPI_log10_ecorr to -7.23259\n",
      "INFO: enterprise.signals.signal_base: Setting J1713+0747_S-wide_ASP_log10_ecorr to -6.95628\n",
      "INFO: enterprise.signals.signal_base: Setting J1713+0747_S-wide_PUPPI_log10_ecorr to -6.94551\n",
      "INFO: enterprise.signals.signal_base: Setting J1713+0747_Rcvr_800_GUPPI_log10_ecorr to -6.70639\n",
      "INFO: enterprise.signals.signal_base: Setting J1713+0747_L-wide_PUPPI_log10_ecorr to -7.00729\n",
      "WARNING: enterprise.signals.signal_base: gamma_gw not set! Check parameter dict.\n",
      "INFO: enterprise.signals.signal_base: Setting J1741+1351_430_ASP_efac to 0.92739\n",
      "INFO: enterprise.signals.signal_base: Setting J1741+1351_L-wide_PUPPI_efac to 1.05026\n",
      "INFO: enterprise.signals.signal_base: Setting J1741+1351_L-wide_ASP_efac to 1.03545\n",
      "INFO: enterprise.signals.signal_base: Setting J1741+1351_430_PUPPI_efac to 1.08265\n",
      "INFO: enterprise.signals.signal_base: Setting J1741+1351_430_ASP_log10_equad to -7.81532\n",
      "INFO: enterprise.signals.signal_base: Setting J1741+1351_L-wide_PUPPI_log10_equad to -8.06543\n",
      "INFO: enterprise.signals.signal_base: Setting J1741+1351_L-wide_ASP_log10_equad to -8.31889\n",
      "INFO: enterprise.signals.signal_base: Setting J1741+1351_430_PUPPI_log10_equad to -7.8145\n",
      "INFO: enterprise.signals.signal_base: Setting J1741+1351_430_ASP_log10_ecorr to -5.26368\n",
      "INFO: enterprise.signals.signal_base: Setting J1741+1351_L-wide_ASP_log10_ecorr to -7.15877\n",
      "INFO: enterprise.signals.signal_base: Setting J1741+1351_430_PUPPI_log10_ecorr to -7.35363\n",
      "INFO: enterprise.signals.signal_base: Setting J1741+1351_L-wide_PUPPI_log10_ecorr to -7.31138\n",
      "WARNING: enterprise.signals.signal_base: gamma_gw not set! Check parameter dict.\n",
      "INFO: enterprise.signals.signal_base: Setting J1744-1134_Rcvr_800_GUPPI_efac to 1.04852\n",
      "INFO: enterprise.signals.signal_base: Setting J1744-1134_Rcvr1_2_GUPPI_efac to 1.21601\n",
      "INFO: enterprise.signals.signal_base: Setting J1744-1134_Rcvr1_2_GASP_efac to 1.02696\n",
      "INFO: enterprise.signals.signal_base: Setting J1744-1134_Rcvr_800_GASP_efac to 1.16982\n",
      "INFO: enterprise.signals.signal_base: Setting J1744-1134_Rcvr1_2_GASP_log10_equad to -6.83644\n",
      "INFO: enterprise.signals.signal_base: Setting J1744-1134_Rcvr_800_GUPPI_log10_equad to -6.5577\n",
      "INFO: enterprise.signals.signal_base: Setting J1744-1134_Rcvr1_2_GUPPI_log10_equad to -6.73425\n",
      "INFO: enterprise.signals.signal_base: Setting J1744-1134_Rcvr_800_GASP_log10_equad to -6.47133\n",
      "INFO: enterprise.signals.signal_base: Setting J1744-1134_Rcvr_800_GASP_log10_ecorr to -6.84423\n",
      "INFO: enterprise.signals.signal_base: Setting J1744-1134_Rcvr1_2_GASP_log10_ecorr to -6.3269\n",
      "INFO: enterprise.signals.signal_base: Setting J1744-1134_Rcvr_800_GUPPI_log10_ecorr to -6.57852\n",
      "INFO: enterprise.signals.signal_base: Setting J1744-1134_Rcvr1_2_GUPPI_log10_ecorr to -6.45387\n",
      "WARNING: enterprise.signals.signal_base: gamma_gw not set! Check parameter dict.\n",
      "INFO: enterprise.signals.signal_base: Setting J1853+1303_L-wide_PUPPI_efac to 1.14701\n",
      "INFO: enterprise.signals.signal_base: Setting J1853+1303_430_ASP_efac to 1.10259\n",
      "INFO: enterprise.signals.signal_base: Setting J1853+1303_L-wide_ASP_efac to 1.14229\n",
      "INFO: enterprise.signals.signal_base: Setting J1853+1303_430_PUPPI_efac to 1.07243\n",
      "INFO: enterprise.signals.signal_base: Setting J1853+1303_430_ASP_log10_equad to -7.82376\n",
      "INFO: enterprise.signals.signal_base: Setting J1853+1303_L-wide_ASP_log10_equad to -8.3849\n",
      "INFO: enterprise.signals.signal_base: Setting J1853+1303_L-wide_PUPPI_log10_equad to -8.44421\n",
      "INFO: enterprise.signals.signal_base: Setting J1853+1303_430_PUPPI_log10_equad to -8.01381\n",
      "INFO: enterprise.signals.signal_base: Setting J1853+1303_430_ASP_log10_ecorr to -6.74256\n",
      "INFO: enterprise.signals.signal_base: Setting J1853+1303_L-wide_ASP_log10_ecorr to -7.48808\n",
      "INFO: enterprise.signals.signal_base: Setting J1853+1303_430_PUPPI_log10_ecorr to -6.96278\n",
      "INFO: enterprise.signals.signal_base: Setting J1853+1303_L-wide_PUPPI_log10_ecorr to -7.55986\n",
      "WARNING: enterprise.signals.signal_base: gamma_gw not set! Check parameter dict.\n",
      "INFO: enterprise.signals.signal_base: Setting J1909-3744_Rcvr1_2_GASP_efac to 0.986438\n",
      "INFO: enterprise.signals.signal_base: Setting J1909-3744_Rcvr_800_GASP_efac to 0.985523\n",
      "INFO: enterprise.signals.signal_base: Setting J1909-3744_Rcvr_800_GUPPI_efac to 1.05208\n",
      "INFO: enterprise.signals.signal_base: Setting J1909-3744_Rcvr1_2_GUPPI_efac to 1.03462\n",
      "INFO: enterprise.signals.signal_base: Setting J1909-3744_Rcvr1_2_GUPPI_log10_equad to -8.31285\n",
      "INFO: enterprise.signals.signal_base: Setting J1909-3744_Rcvr_800_GASP_log10_equad to -6.6358\n",
      "INFO: enterprise.signals.signal_base: Setting J1909-3744_Rcvr1_2_GASP_log10_equad to -7.97229\n",
      "INFO: enterprise.signals.signal_base: Setting J1909-3744_Rcvr_800_GUPPI_log10_equad to -7.43842\n",
      "INFO: enterprise.signals.signal_base: Setting J1909-3744_Rcvr_800_GASP_log10_ecorr to -7.86032\n",
      "INFO: enterprise.signals.signal_base: Setting J1909-3744_Rcvr1_2_GASP_log10_ecorr to -8.00662\n",
      "INFO: enterprise.signals.signal_base: Setting J1909-3744_Rcvr_800_GUPPI_log10_ecorr to -7.14764\n",
      "INFO: enterprise.signals.signal_base: Setting J1909-3744_Rcvr1_2_GUPPI_log10_ecorr to -7.13828\n",
      "WARNING: enterprise.signals.signal_base: gamma_gw not set! Check parameter dict.\n",
      "INFO: enterprise.signals.signal_base: Setting J1918-0642_Rcvr1_2_GASP_efac to 1.03139\n",
      "INFO: enterprise.signals.signal_base: Setting J1918-0642_Rcvr_800_GASP_efac to 1.05461\n",
      "INFO: enterprise.signals.signal_base: Setting J1918-0642_Rcvr_800_GUPPI_efac to 1.09148\n",
      "INFO: enterprise.signals.signal_base: Setting J1918-0642_Rcvr1_2_GUPPI_efac to 1.09892\n",
      "INFO: enterprise.signals.signal_base: Setting J1918-0642_Rcvr1_2_GUPPI_log10_equad to -8.20206\n",
      "INFO: enterprise.signals.signal_base: Setting J1918-0642_Rcvr_800_GASP_log10_equad to -7.9677\n",
      "INFO: enterprise.signals.signal_base: Setting J1918-0642_Rcvr1_2_GASP_log10_equad to -8.39359\n",
      "INFO: enterprise.signals.signal_base: Setting J1918-0642_Rcvr_800_GUPPI_log10_equad to -8.4117\n",
      "INFO: enterprise.signals.signal_base: Setting J1918-0642_Rcvr_800_GASP_log10_ecorr to -7.55392\n",
      "INFO: enterprise.signals.signal_base: Setting J1918-0642_Rcvr1_2_GASP_log10_ecorr to -7.3475\n",
      "INFO: enterprise.signals.signal_base: Setting J1918-0642_Rcvr_800_GUPPI_log10_ecorr to -7.18419\n",
      "INFO: enterprise.signals.signal_base: Setting J1918-0642_Rcvr1_2_GUPPI_log10_ecorr to -7.37082\n",
      "WARNING: enterprise.signals.signal_base: gamma_gw not set! Check parameter dict.\n",
      "INFO: enterprise.signals.signal_base: Setting J2010-1323_Rcvr1_2_GUPPI_efac to 1.2128\n",
      "INFO: enterprise.signals.signal_base: Setting J2010-1323_Rcvr_800_GUPPI_efac to 1.07888\n",
      "INFO: enterprise.signals.signal_base: Setting J2010-1323_Rcvr1_2_GASP_efac to 0.967206\n",
      "INFO: enterprise.signals.signal_base: Setting J2010-1323_Rcvr_800_GASP_efac to 1.15777\n",
      "INFO: enterprise.signals.signal_base: Setting J2010-1323_Rcvr1_2_GUPPI_log10_equad to -8.45324\n",
      "INFO: enterprise.signals.signal_base: Setting J2010-1323_Rcvr1_2_GASP_log10_equad to -7.69017\n",
      "INFO: enterprise.signals.signal_base: Setting J2010-1323_Rcvr_800_GUPPI_log10_equad to -8.38299\n",
      "INFO: enterprise.signals.signal_base: Setting J2010-1323_Rcvr_800_GASP_log10_equad to -7.92738\n",
      "INFO: enterprise.signals.signal_base: Setting J2010-1323_Rcvr_800_GASP_log10_ecorr to -7.2034\n",
      "INFO: enterprise.signals.signal_base: Setting J2010-1323_Rcvr1_2_GASP_log10_ecorr to -7.1519\n",
      "INFO: enterprise.signals.signal_base: Setting J2010-1323_Rcvr_800_GUPPI_log10_ecorr to -7.63276\n",
      "INFO: enterprise.signals.signal_base: Setting J2010-1323_Rcvr1_2_GUPPI_log10_ecorr to -7.64287\n",
      "WARNING: enterprise.signals.signal_base: gamma_gw not set! Check parameter dict.\n",
      "INFO: enterprise.signals.signal_base: Setting J2145-0750_Rcvr1_2_GUPPI_efac to 1.09892\n",
      "INFO: enterprise.signals.signal_base: Setting J2145-0750_Rcvr_800_GUPPI_efac to 1.12959\n",
      "INFO: enterprise.signals.signal_base: Setting J2145-0750_Rcvr1_2_GASP_efac to 1.00043\n",
      "INFO: enterprise.signals.signal_base: Setting J2145-0750_Rcvr_800_GASP_efac to 1.50673\n",
      "INFO: enterprise.signals.signal_base: Setting J2145-0750_Rcvr1_2_GUPPI_log10_equad to -6.28759\n",
      "INFO: enterprise.signals.signal_base: Setting J2145-0750_Rcvr1_2_GASP_log10_equad to -5.70683\n",
      "INFO: enterprise.signals.signal_base: Setting J2145-0750_Rcvr_800_GUPPI_log10_equad to -6.32362\n",
      "INFO: enterprise.signals.signal_base: Setting J2145-0750_Rcvr_800_GASP_log10_equad to -7.46919\n",
      "INFO: enterprise.signals.signal_base: Setting J2145-0750_Rcvr_800_GASP_log10_ecorr to -6.24509\n",
      "INFO: enterprise.signals.signal_base: Setting J2145-0750_Rcvr1_2_GASP_log10_ecorr to -6.72819\n",
      "INFO: enterprise.signals.signal_base: Setting J2145-0750_Rcvr_800_GUPPI_log10_ecorr to -6.57986\n",
      "INFO: enterprise.signals.signal_base: Setting J2145-0750_Rcvr1_2_GUPPI_log10_ecorr to -6.32176\n",
      "WARNING: enterprise.signals.signal_base: gamma_gw not set! Check parameter dict.\n",
      "INFO: enterprise.signals.signal_base: Setting J2317+1439_327_ASP_efac to 1.05869\n",
      "INFO: enterprise.signals.signal_base: Setting J2317+1439_430_ASP_efac to 1.12607\n",
      "INFO: enterprise.signals.signal_base: Setting J2317+1439_L-wide_PUPPI_efac to 0.954996\n",
      "INFO: enterprise.signals.signal_base: Setting J2317+1439_327_PUPPI_efac to 1.14332\n",
      "INFO: enterprise.signals.signal_base: Setting J2317+1439_430_PUPPI_efac to 1.04287\n",
      "INFO: enterprise.signals.signal_base: Setting J2317+1439_327_ASP_log10_equad to -6.41929\n",
      "INFO: enterprise.signals.signal_base: Setting J2317+1439_430_PUPPI_log10_equad to -6.4171\n",
      "INFO: enterprise.signals.signal_base: Setting J2317+1439_327_PUPPI_log10_equad to -6.39705\n",
      "INFO: enterprise.signals.signal_base: Setting J2317+1439_L-wide_PUPPI_log10_equad to -6.56296\n",
      "INFO: enterprise.signals.signal_base: Setting J2317+1439_430_ASP_log10_equad to -6.92682\n",
      "INFO: enterprise.signals.signal_base: Setting J2317+1439_327_ASP_log10_ecorr to -7.59726\n",
      "INFO: enterprise.signals.signal_base: Setting J2317+1439_430_ASP_log10_ecorr to -6.14458\n",
      "INFO: enterprise.signals.signal_base: Setting J2317+1439_L-wide_PUPPI_log10_ecorr to -7.59813\n",
      "INFO: enterprise.signals.signal_base: Setting J2317+1439_327_PUPPI_log10_ecorr to -7.27493\n",
      "INFO: enterprise.signals.signal_base: Setting J2317+1439_430_PUPPI_log10_ecorr to -6.49356\n",
      "WARNING: enterprise.signals.signal_base: gamma_gw not set! Check parameter dict.\n"
     ]
    }
   ],
   "source": [
    "pta.set_default_params(params)"
   ]
  },
  {
   "cell_type": "markdown",
   "metadata": {},
   "source": [
    "### Set initial parameters drawn from prior and evaluate likelihood to fill caches\n",
    "\n",
    "Evaluating the likelihood is not necessary, the caches will be filled the first time it is called within the sampler if not called here."
   ]
  },
  {
   "cell_type": "code",
   "execution_count": 10,
   "metadata": {
    "collapsed": false
   },
   "outputs": [
    {
     "name": "stdout",
     "output_type": "stream",
     "text": [
      "1393942.54221\n",
      "-50.0826658951\n"
     ]
    }
   ],
   "source": [
    "xs = {par.name: par.sample() for par in pta.params}\n",
    "print pta.get_lnlikelihood(xs);\n",
    "print pta.get_lnprior(xs);"
   ]
  },
  {
   "cell_type": "markdown",
   "metadata": {},
   "source": [
    "### Set up sampler"
   ]
  },
  {
   "cell_type": "code",
   "execution_count": 11,
   "metadata": {
    "collapsed": true
   },
   "outputs": [],
   "source": [
    "# dimension of parameter space\n",
    "ndim = len(xs)\n",
    "\n",
    "# initial jump covariance matrix\n",
    "cov = np.diag(np.ones(ndim) * 0.01**2)\n",
    "\n",
    "# set up jump groups by red noise groups \n",
    "ndim = len(xs)\n",
    "groups  = [range(0, ndim)]\n",
    "groups.extend(map(list, zip(range(0,ndim,2), range(1,ndim,2))))\n",
    "groups.extend([[36]])\n",
    "\n",
    "sampler = ptmcmc(ndim, pta.get_lnlikelihood, pta.get_lnprior, cov, groups=groups, \n",
    "                 outDir='chains/nano_9_gwb/')"
   ]
  },
  {
   "cell_type": "markdown",
   "metadata": {},
   "source": [
    "### Sample!"
   ]
  },
  {
   "cell_type": "code",
   "execution_count": null,
   "metadata": {
    "collapsed": false
   },
   "outputs": [
    {
     "name": "stdout",
     "output_type": "stream",
     "text": [
      "Finished 1.00 percent in 431.417335 s Acceptance rate = 0.6181Adding DE jump with weight 50\n",
      "Finished 3.20 percent in 1446.421140 s Acceptance rate = 0.503219"
     ]
    }
   ],
   "source": [
    "# sampler for N steps\n",
    "N = 1000000\n",
    "x0 = np.hstack(p.sample() for p in pta.params)\n",
    "sampler.sample(x0, N, SCAMweight=30, AMweight=15, DEweight=50, )"
   ]
  },
  {
   "cell_type": "markdown",
   "metadata": {},
   "source": [
    "### Plot output"
   ]
  },
  {
   "cell_type": "code",
   "execution_count": 4,
   "metadata": {
    "collapsed": false
   },
   "outputs": [],
   "source": [
    "chain = np.loadtxt('./chains/nano_9_gwb/chain_1.txt')\n",
    "#pars = sorted(xs.keys())\n",
    "burn = int(0.25 * chain.shape[0])"
   ]
  },
  {
   "cell_type": "code",
   "execution_count": 6,
   "metadata": {
    "collapsed": false
   },
   "outputs": [
    {
     "data": {
      "image/png": "[encoded data removed]",
      "text/plain": [
       "<matplotlib.figure.Figure at 0x119ea10d0>"
      ]
     },
     "metadata": {
      "image/png": {
       "height": 250,
       "width": 373
      }
     },
     "output_type": "display_data"
    }
   ],
   "source": [
    "plt.hist(chain[burn:,-5], 50, normed=True, histtype='step', lw=2);\n",
    "#plt.xlabel(pars[-1]);"
   ]
  },
  {
   "cell_type": "markdown",
   "metadata": {
    "collapsed": true
   },
   "source": [
    "### Upper limit value\n",
    "\n",
    "We see that the upper limit agrees perfectly with the published value."
   ]
  },
  {
   "cell_type": "code",
   "execution_count": 39,
   "metadata": {
    "collapsed": false
   },
   "outputs": [
    {
     "name": "stdout",
     "output_type": "stream",
     "text": [
      "1.49899289556e-15\n"
     ]
    }
   ],
   "source": [
    "upper = 10**np.percentile(chain[burn:, -5], q=0.95)\n",
    "print(upper)"
   ]
  },
  {
   "cell_type": "code",
   "execution_count": null,
   "metadata": {
    "collapsed": true
   },
   "outputs": [],
   "source": []
  }
 ],
 "metadata": {
  "anaconda-cloud": {},
  "kernelspec": {
   "display_name": "Python [conda env:coralsnake]",
   "language": "python",
   "name": "conda-env-coralsnake-py"
  },
  "language_info": {
   "codemirror_mode": {
    "name": "ipython",
    "version": 2
   },
   "file_extension": ".py",
   "mimetype": "text/x-python",
   "name": "python",
   "nbconvert_exporter": "python",
   "pygments_lexer": "ipython2",
   "version": "2.7.13"
  },
  "toc": {
   "nav_menu": {},
   "number_sections": true,
   "sideBar": true,
   "skip_h1_title": false,
   "toc_cell": false,
   "toc_position": {},
   "toc_section_display": "block",
   "toc_window_display": false
  }
 },
 "nbformat": 4,
 "nbformat_minor": 2
}
