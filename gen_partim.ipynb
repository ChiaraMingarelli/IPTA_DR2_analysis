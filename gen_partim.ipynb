{
 "cells": [
  {
   "cell_type": "markdown",
   "metadata": {},
   "source": [
    "You need to have IPTA DR2 data somewhere on your machine.  You can pull it from `gitlab`:\n",
    "```bash\n",
    "$ git clone https://gitlab.com/IPTA/DR2\n",
    "```"
   ]
  },
  {
   "cell_type": "code",
   "execution_count": null,
   "metadata": {},
   "outputs": [],
   "source": [
    "from __future__ import division, print_function, unicode_literals\n",
    "\n",
    "import numpy as np\n",
    "import os, glob\n",
    "import json\n",
    "import matplotlib.pyplot as plt\n",
    "import libstempo as t2\n",
    "\n",
    "import dr2lite_utils as dr2u\n",
    "\n",
    "%matplotlib inline"
   ]
  },
  {
   "cell_type": "markdown",
   "metadata": {},
   "source": [
    "# 1) Clean par and tim files\n",
    "\n",
    "1. Make a directory called `partim` that contains a single par file and single tim file for all pulsars.\n",
    "\n",
    "2. Clean the par files by removing all noise and DM model parameters. We will also add in DM1 and DM2 if not already present in the par file.\n",
    "\n",
    "3. Concatenate all \"INCLUDEs\" into a single tim file\n",
    "\n",
    "This uses `clear_par()` and `combine_tim()` from `dr2lite_utils`"
   ]
  },
  {
   "cell_type": "markdown",
   "metadata": {},
   "source": [
    "### Create partim directory"
   ]
  },
  {
   "cell_type": "code",
   "execution_count": null,
   "metadata": {},
   "outputs": [],
   "source": [
    "DR2DATA = os.path.abspath('/home/nanograv/local_data/IPTA_DR2/')  # path to data for Docker image\n",
    "datadir = os.path.join(DR2DATA, 'release/VersionA')\n",
    "\n",
    "outdir = 'partim'\n",
    "os.system('mkdir -p {}'.format(outdir));"
   ]
  },
  {
   "cell_type": "markdown",
   "metadata": {},
   "source": [
    "### Clean par files"
   ]
  },
  {
   "cell_type": "code",
   "execution_count": null,
   "metadata": {},
   "outputs": [],
   "source": [
    "parfiles = glob.glob(datadir + '/J*/*IPTADR2.par')\n",
    "\n",
    "psr_names = []\n",
    "for p in parfiles:\n",
    "    name = p.split('/')[-2]\n",
    "    psr_names.append(name)\n",
    "    outfile = os.path.join(outdir, '{}.par'.format(name))\n",
    "    dr2u.clean_par(p, outfile)"
   ]
  },
  {
   "cell_type": "markdown",
   "metadata": {},
   "source": [
    "### Combine tim files"
   ]
  },
  {
   "cell_type": "code",
   "execution_count": null,
   "metadata": {},
   "outputs": [],
   "source": [
    "timfiles = glob.glob(datadir + '/J*/*IPTADR2.tim')\n",
    "\n",
    "for t in timfiles:\n",
    "    name = t.split('/')[-2]\n",
    "    outfile = os.path.join(outdir, '{}.tim'.format(name))\n",
    "    dr2u.combine_tim(t, outfile)"
   ]
  },
  {
   "cell_type": "markdown",
   "metadata": {},
   "source": [
    "# 2.1) How to create filtered par and tim files\n",
    "\n",
    "Here we create a filtered dataset by applying a frequency filter and a PTA filter\n",
    "\n",
    "1. **Frequency filter**: Only keep TOAs that have a certain bandwidth (`bw`) coverage over a certain period of time (`dt`). For instance, `dt=7` and `bw=800` will only keep TOAs that have at least 800 MHz of bandwidth (i.e. difference between max and min radio frequency) in every 7 day window.\n",
    "\n",
    "2. **Flag filter**: Only keep TOAs with a give flag value.  For example keep only TOAs with flag `pta` for a subset of PTAs or flag `group` for a subset of backends.\n",
    "\n",
    "These steps use the functions provided in `dr2lite_utils.py`"
   ]
  },
  {
   "cell_type": "markdown",
   "metadata": {},
   "source": [
    "### Filter dictionary\n",
    "This is input to `filter_psr()`.  This is a dictionary where the keys are TOA flags and the values are lists of acceptable flagvals to keep.  If a single flagval is to be kept, it my be passed as is (not as a list).\n",
    "\n",
    "For a given flag (e.g. `pta`), filters are applied as a `logical_or`.  For a TOA to be kept, it must pass all individual filters as a `logical_and`.\n",
    "\n",
    "**examples:**\n",
    "\n",
    " * ```python\n",
    "fliter_dict = {'pta':'NANOGrav', 'group':['Rcvr_800_GUPPI', 'Rcvr1_2_GUPPI']}\n",
    "```\n",
    "This would keep only toas from NANOGrav with 800 MHz GUPPI **OR** L-band GUPPI.  Since only NANOGrav uses GUPPI, the `pta` flag is redundant.  Since PTA filters are the most common, we choose to always use a PTA filter for clarity.\n",
    "\n",
    " * ```python\n",
    "fliter_dict = {'pta':['PPTA', 'EPTA']}\n",
    "```\n",
    "This would keep all PPTA and EPTA data for the pulsar.\n",
    "\n",
    " * ```python\n",
    "fliter_dict = {'pta':'PPTA', 'group':'Rcvr_1_2_GUPPI}\n",
    "```\n",
    "This would keep any PPTA data that uses the L-band GUPPI backend... no TOAs would be returned."
   ]
  },
  {
   "cell_type": "markdown",
   "metadata": {},
   "source": [
    "### Pulsar dictionary\n",
    "\n",
    "This is input to the `make_dataset()` function.  `make_dataset()` loops over a list of pulsars and runs `filter_psr()` on each.\n",
    "\n",
    "Ths pulsar dictionary is a dictionary of filters.  The keys are the pulsars we wish to use, and the values are the `filter_dict`s to use for that pulsar."
   ]
  },
  {
   "cell_type": "markdown",
   "metadata": {},
   "source": [
    "### Example pulsar dictionaries\n",
    "\n",
    "We define several pulsar dictionaries that can be used to generate filtered DR2-lite datasets."
   ]
  },
  {
   "cell_type": "code",
   "execution_count": null,
   "metadata": {},
   "outputs": [],
   "source": [
    "# NG9 + 0437\n",
    "# to exclude pre-XASP NG data, we must list all of the XASP/XUPPI backends to keep\n",
    "psrdict = {'J1713+0747': {'pta': ['NANOGrav'], \n",
    "                          'f': ['Rcvr1_2_GASP', 'Rcvr1_2_GUPPI', \n",
    "                                 'Rcvr_800_GASP', 'Rcvr_800_GUPPI', \n",
    "                                 'L-wide_ASP', 'L-wide_PUPPI','S-wide_ASP', \n",
    "                                 'S-wide_PUPPI']},\n",
    "           'J1909-3744': {'pta': ['NANOGrav']},\n",
    "           'J1640+2224': {'pta': ['NANOGrav']},\n",
    "           'J1600-3053': {'pta': ['NANOGrav']},\n",
    "           'J2317+1439': {'pta': ['NANOGrav']},\n",
    "           'J1918-0642': {'pta': ['NANOGrav']},\n",
    "           'J1614-2230': {'pta': ['NANOGrav']},\n",
    "           'J1744-1134': {'pta': ['NANOGrav']},\n",
    "           'J0030+0451': {'pta': ['NANOGrav']},\n",
    "           'J2145-0750': {'pta': ['NANOGrav']},\n",
    "           'J1857+0943': {'pta': ['NANOGrav']},\n",
    "           'J1853+1303': {'pta': ['NANOGrav']},\n",
    "           'J0613-0200': {'pta': ['NANOGrav']},\n",
    "           'J1455-3330': {'pta': ['NANOGrav']},\n",
    "           'J1741+1351': {'pta': ['NANOGrav']},\n",
    "           'J2010-1323': {'pta': ['NANOGrav']},\n",
    "           'J1024-0719': {'pta': ['NANOGrav']},\n",
    "           'J1012+5307': {'pta': ['NANOGrav']},\n",
    "           'J0437-4715': {'pta': ['PPTA']},\n",
    "          }"
   ]
  },
  {
   "cell_type": "code",
   "execution_count": null,
   "metadata": {},
   "outputs": [],
   "source": [
    "# NG9 + PPTA4\n",
    "psrdict = {'J1713+0747': {'pta': ['NANOGrav', 'PPTA'], \n",
    "                          'f': ['Rcvr1_2_GASP', 'Rcvr1_2_GUPPI', \n",
    "                                'Rcvr_800_GASP', 'Rcvr_800_GUPPI', \n",
    "                                'L-wide_ASP', 'L-wide_PUPPI','S-wide_ASP', \n",
    "                                'S-wide_PUPPI', '1050CM_CPSR2', '1050CM_PDFB1', \n",
    "                                '1050CM_PDFB2', '1050CM_PDFB3',\n",
    "                                '1050CM_PDFB4', '1050CM_WBCORR', 'H-OH_CPSR2m', 'H-OH_CPSR2n',\n",
    "                                'H-OH_PDFB1', 'MULTI_CPSR2m', 'MULTI_CPSR2n', 'MULTI_PDFB1',\n",
    "                                'MULTI_PDFB2', 'MULTI_PDFB3', 'MULTI_PDFB4', 'MULTI_WBCORR']},\n",
    "           'J1909-3744': {'pta': ['NANOGrav', 'PPTA']},\n",
    "           'J1640+2224': {'pta': ['NANOGrav']},\n",
    "           'J1600-3053': {'pta': ['NANOGrav']},\n",
    "           'J2317+1439': {'pta': ['NANOGrav']},\n",
    "           'J1918-0642': {'pta': ['NANOGrav']},\n",
    "           'J1614-2230': {'pta': ['NANOGrav']},\n",
    "           'J1744-1134': {'pta': ['NANOGrav', 'PPTA']},\n",
    "           'J0030+0451': {'pta': ['NANOGrav']},\n",
    "           'J2145-0750': {'pta': ['NANOGrav']},\n",
    "           'J1857+0943': {'pta': ['NANOGrav']},\n",
    "           'J1853+1303': {'pta': ['NANOGrav']},\n",
    "           'J0613-0200': {'pta': ['NANOGrav']},\n",
    "           'J1455-3330': {'pta': ['NANOGrav']},\n",
    "           'J1741+1351': {'pta': ['NANOGrav']},\n",
    "           'J2010-1323': {'pta': ['NANOGrav']},\n",
    "           'J1024-0719': {'pta': ['NANOGrav']},\n",
    "           'J1012+5307': {'pta': ['NANOGrav']},\n",
    "           'J0437-4715': {'pta': ['PPTA']},\n",
    "          }"
   ]
  },
  {
   "cell_type": "code",
   "execution_count": null,
   "metadata": {},
   "outputs": [],
   "source": [
    "# NG9 with 1713, 1744, 1909, 0437 from PPTA\n",
    "psrdict = {'J1713+0747': {'pta': ['PPTA']},\n",
    "           'J1909-3744': {'pta': ['PPTA']},\n",
    "           'J1640+2224': {'pta': ['NANOGrav']},\n",
    "           'J1600-3053': {'pta': ['NANOGrav']},\n",
    "           'J2317+1439': {'pta': ['NANOGrav']},\n",
    "           'J1918-0642': {'pta': ['NANOGrav']},\n",
    "           'J1614-2230': {'pta': ['NANOGrav']},\n",
    "           'J1744-1134': {'pta': ['PPTA']},\n",
    "           'J0030+0451': {'pta': ['NANOGrav']},\n",
    "           'J2145-0750': {'pta': ['NANOGrav']},\n",
    "           'J1857+0943': {'pta': ['NANOGrav']},\n",
    "           'J1853+1303': {'pta': ['NANOGrav']},\n",
    "           'J0613-0200': {'pta': ['NANOGrav']},\n",
    "           'J1455-3330': {'pta': ['NANOGrav']},\n",
    "           'J1741+1351': {'pta': ['NANOGrav']},\n",
    "           'J2010-1323': {'pta': ['NANOGrav']},\n",
    "           'J1024-0719': {'pta': ['NANOGrav']},\n",
    "           'J1012+5307': {'pta': ['NANOGrav']},\n",
    "           'J0437-4715': {'pta': ['PPTA']},\n",
    "          }"
   ]
  },
  {
   "cell_type": "code",
   "execution_count": null,
   "metadata": {},
   "outputs": [],
   "source": [
    "# PPTA 10cm data for Shannon, et al (2015)\n",
    "psrdict = {'J1713+0747': {'pta': ['PPTA']}, {'group': ['PDFB_10CM', 'WBCORR_10CM']},\n",
    "           'J1909-3744': {'pta': ['PPTA']}, {'group': ['PDFB_10CM', 'WBCORR_10CM']},\n",
    "           'J1744-1134': {'pta': ['PPTA']}, {'group': ['PDFB_10CM', 'WBCORR_10CM']},\n",
    "           'J0437-4715': {'pta': ['PPTA']}, {'group': ['PDFB_10CM', 'WBCORR_10CM']},\n",
    "          }"
   ]
  },
  {
   "cell_type": "markdown",
   "metadata": {},
   "source": [
    "# 2.2) Generate DR2-lite style dataset"
   ]
  },
  {
   "cell_type": "code",
   "execution_count": null,
   "metadata": {},
   "outputs": [],
   "source": [
    "# This generates an all EPTA `psrdict`\n",
    "# or make your own, or choose from above\n",
    "psrdict = {}  \n",
    "PSRnames = glob.glob('partim/*.par')\n",
    "\n",
    "for psrname in PSRnames:\n",
    "    name = psrname.split('/')[-1].split('.')[0]\n",
    "    psrdict.update({name: [{'pta':['EPTA']}]})"
   ]
  },
  {
   "cell_type": "code",
   "execution_count": null,
   "metadata": {
    "scrolled": false
   },
   "outputs": [],
   "source": [
    "dr2u.make_dataset(psrdict, outdir='partim_epta')"
   ]
  }
 ],
 "metadata": {
  "kernelspec": {
   "display_name": "Python 3",
   "language": "python",
   "name": "python3"
  },
  "language_info": {
   "codemirror_mode": {
    "name": "ipython",
    "version": 3
   },
   "file_extension": ".py",
   "mimetype": "text/x-python",
   "name": "python",
   "nbconvert_exporter": "python",
   "pygments_lexer": "ipython3",
   "version": "3.6.4"
  },
  "toc": {
   "nav_menu": {},
   "number_sections": true,
   "sideBar": true,
   "skip_h1_title": false,
   "toc_cell": false,
   "toc_position": {},
   "toc_section_display": "block",
   "toc_window_display": false
  }
 },
 "nbformat": 4,
 "nbformat_minor": 2
}
