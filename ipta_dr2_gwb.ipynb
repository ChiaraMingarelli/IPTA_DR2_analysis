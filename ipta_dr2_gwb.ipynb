{
 "cells": [
  {
   "cell_type": "markdown",
   "metadata": {},
   "source": [
    "# Analyzing IPTA DR2 Data\n",
    "\n",
    "In this notebook we will use `enterprise` to analyze the IPTA DR2 for a stochastic GW background using subsets of DR2."
   ]
  },
  {
   "cell_type": "code",
   "execution_count": 1,
   "metadata": {},
   "outputs": [
    {
     "name": "stderr",
     "output_type": "stream",
     "text": [
      "WARNING: enterprise.signals.signal_base: No sksparse library. Using scipy instead!\n"
     ]
    },
    {
     "name": "stdout",
     "output_type": "stream",
     "text": [
      "No PINT? Meh...\n",
      "Do not have mpi4py package.\n",
      "Do not have acor package\n"
     ]
    }
   ],
   "source": [
    "% matplotlib inline\n",
    "%config InlineBackend.figure_format = 'retina'\n",
    "#%load_ext line_profiler\n",
    "\n",
    "from __future__ import division\n",
    "\n",
    "import numpy as np\n",
    "import glob\n",
    "import matplotlib.pyplot as plt\n",
    "import scipy.linalg as sl\n",
    "\n",
    "import enterprise\n",
    "from enterprise.pulsar import Pulsar\n",
    "import enterprise.signals.parameter as parameter\n",
    "from enterprise.signals import utils\n",
    "from enterprise.signals import signal_base\n",
    "from enterprise.signals import selections\n",
    "from enterprise.signals.selections import Selection\n",
    "from enterprise.signals import white_signals\n",
    "from enterprise.signals import gp_signals\n",
    "from enterprise.signals import deterministic_signals\n",
    "import enterprise.constants as const\n",
    "from enterprise.signals import utils\n",
    "from utils import *\n",
    "\n",
    "\n",
    "import corner\n",
    "from PTMCMCSampler.PTMCMCSampler import PTSampler as ptmcmc\n",
    "\n",
    "import json"
   ]
  },
  {
   "cell_type": "markdown",
   "metadata": {},
   "source": [
    "### Notebook-specific choices"
   ]
  },
  {
   "cell_type": "code",
   "execution_count": null,
   "metadata": {
    "collapsed": true
   },
   "outputs": [],
   "source": [
    "#The subset of pulsars to be analyzed\n",
    "NG = False\n",
    "EPTA = False\n",
    "PPTA = False\n",
    "PPTA4 = False\n",
    "PPTA4_psrs = ['J0437-4715', 'J1713+0747', 'J1744-1134', 'J1909+1256']\n",
    "specific_psrs = []  # list of specific pulsars\n",
    "#specific_psrs = [psr[:-1] for psr in open('list_of_psrs.txt','r').readlines()] # or read in a list\n",
    "\n",
    "#Path to directory containing the relevant par and tim files\n",
    "datadir = 'ipta_dsets/partim_filtered_dir/'\n",
    "\n",
    "#Path to directory containing the relevant .json noisefiles\n",
    "noisedir = 'ipta_dsets/noisefiles/'\n",
    "\n",
    "#Path to directory where chains are stored\n",
    "outdir = 'ipta_dsets/chains/ipta_dr2_gwb_subset/'\n",
    "\n",
    "#Number samples\n",
    "nsamp = int(1e6)\n",
    "\n",
    "#Resume chains?\n",
    "resume_chains = True"
   ]
  },
  {
   "cell_type": "markdown",
   "metadata": {},
   "source": [
    "### Function to convert PAL2 noise parameters to enterprise parameter dict"
   ]
  },
  {
   "cell_type": "code",
   "execution_count": null,
   "metadata": {
    "collapsed": true
   },
   "outputs": [],
   "source": [
    "def get_noise_from_pal2(noisefile):\n",
    "    psrname = noisefile.split('/')[-1].split('_noise.txt')[0]\n",
    "    fin = open(noisefile, 'r')\n",
    "    lines = fin.readlines()\n",
    "    params = {}\n",
    "    for line in lines:\n",
    "        ln = line.split()\n",
    "        if 'efac' in line:\n",
    "            par = 'efac'\n",
    "            flag = ln[0].split('efac-')[-1]\n",
    "        elif 'equad' in line:\n",
    "            par = 'log10_equad'\n",
    "            flag = ln[0].split('equad-')[-1]\n",
    "        elif 'jitter_q' in line:\n",
    "            par = 'log10_ecorr'\n",
    "            flag = ln[0].split('jitter_q-')[-1]\n",
    "        elif 'RN-Amplitude' in line:\n",
    "            par = 'log10_A'\n",
    "            flag = ''\n",
    "        elif 'RN-spectral-index' in line:\n",
    "            par = 'gamma'\n",
    "            flag = ''\n",
    "        else:\n",
    "            break\n",
    "        if flag:\n",
    "            name = [psrname, flag, par]\n",
    "        else:\n",
    "            name = [psrname, par]\n",
    "        pname = '_'.join(name)\n",
    "        params.update({pname: float(ln[1])})\n",
    "    return params"
   ]
  },
  {
   "cell_type": "code",
   "execution_count": null,
   "metadata": {
    "collapsed": true
   },
   "outputs": [],
   "source": [
    "#Dictionary of all pulsars\n",
    "psrdict_all = \\\n",
    "{'J0023+0923': [{'pta': ['NANOGrav']}],\n",
    " 'J0030+0451': [{'pta': ['EPTA', 'NANOGrav']}],\n",
    " 'J0034-0534': [{'pta': ['EPTA']}],\n",
    " 'J0218+4232': [{'pta': ['EPTA']}],\n",
    " 'J0340+4130': [{'pta': ['NANOGrav']}],\n",
    " 'J0437-4715': [{'pta': ['PPTA']}],\n",
    " 'J0610-2100': [{'pta': ['EPTA']}],\n",
    " 'J0613-0200': [{'pta': ['EPTA', 'NANOGrav', 'PPTA']}],\n",
    " 'J0621+1002': [{'pta': ['EPTA']}],\n",
    " 'J0645+5158': [{'pta': ['NANOGrav']}],\n",
    " 'J0711-6830': [{'pta': ['PPTA']}],\n",
    " 'J0751+1807': [{'pta': ['EPTA']}],\n",
    " 'J0900-3144': [{'pta': ['EPTA']}],\n",
    " 'J0931-1902': [{'pta': ['NANOGrav']}],\n",
    " 'J1012+5307': [{'pta': ['EPTA', 'NANOGrav']}],\n",
    " 'J1022+1001': [{'pta': ['EPTA', 'PPTA']}],\n",
    " 'J1024-0719': [{'pta': ['EPTA', 'NANOGrav', 'PPTA']}],\n",
    " 'J1045-4509': [{'pta': ['PPTA']}],\n",
    " 'J1455-3330': [{'pta': ['EPTA', 'NANOGrav']}],\n",
    " 'J1600-3053': [{'pta': ['EPTA', 'NANOGrav', 'PPTA']}],\n",
    " 'J1603-7202': [{'pta': ['PPTA']}],\n",
    " 'J1614-2230': [{'pta': ['NANOGrav']}],\n",
    " 'J1640+2224': [{'pta': ['EPTA', 'NANOGrav']}],\n",
    " 'J1643-1224': [{'pta': ['EPTA', 'NANOGrav', 'PPTA']}],\n",
    " 'J1713+0747': [{'pta': ['EPTA', 'NANOGrav', 'PPTA']}],\n",
    " 'J1721-2457': [{'pta': ['EPTA']}],\n",
    " 'J1730-2304': [{'pta': ['EPTA', 'PPTA']}],\n",
    " 'J1738+0333': [{'pta': ['EPTA', 'NANOGrav']}],\n",
    " 'J1741+1351': [{'pta': ['NANOGrav']}],\n",
    " 'J1744-1134': [{'pta': ['EPTA', 'NANOGrav', 'PPTA']}],\n",
    " 'J1747-4036': [{'pta': ['NANOGrav']}],\n",
    " 'J1751-2857': [{'pta': ['EPTA']}],\n",
    " 'J1801-1417': [{'pta': ['EPTA']}],\n",
    " 'J1802-2124': [{'pta': ['EPTA']}],\n",
    " 'J1804-2717': [{'pta': ['EPTA']}],\n",
    " 'J1824-2452A': [{'pta': ['PPTA']}],\n",
    " 'J1832-0836': [{'pta': ['NANOGrav']}],\n",
    " 'J1843-1113': [{'pta': ['EPTA']}],\n",
    " 'J1853+1303': [{'pta': ['EPTA', 'NANOGrav']}],\n",
    " 'J1857+0943': [{'pta': ['EPTA', 'NANOGrav', 'PPTA']}],\n",
    " 'J1903+0327': [{'pta': ['NANOGrav']}],\n",
    " 'J1909-3744': [{'pta': ['EPTA', 'NANOGrav', 'PPTA']}],\n",
    " 'J1910+1256': [{'pta': ['EPTA', 'NANOGrav']}],\n",
    " 'J1911+1347': [{'pta': ['EPTA']}],\n",
    " 'J1911-1114': [{'pta': ['EPTA']}],\n",
    " 'J1918-0642': [{'pta': ['EPTA', 'NANOGrav']}],\n",
    " 'J1923+2515': [{'pta': ['NANOGrav']}],\n",
    " 'J1939+2134': [{'pta': ['EPTA', 'NANOGrav', 'PPTA']}],\n",
    " 'J1944+0907': [{'pta': ['NANOGrav']}],\n",
    " 'J1949+3106': [{'pta': ['NANOGrav']}],\n",
    " 'J1955+2908': [{'pta': ['EPTA', 'NANOGrav']}],\n",
    " 'J2010-1323': [{'pta': ['EPTA', 'NANOGrav']}],\n",
    " 'J2017+0603': [{'pta': ['NANOGrav']}],\n",
    " 'J2019+2425': [{'pta': ['EPTA']}],\n",
    " 'J2033+1734': [{'pta': ['EPTA']}],\n",
    " 'J2043+1711': [{'pta': ['NANOGrav']}],\n",
    " 'J2124-3358': [{'pta': ['EPTA', 'PPTA']}],\n",
    " 'J2129-5721': [{'pta': ['PPTA']}],\n",
    " 'J2145-0750': [{'pta': ['EPTA', 'NANOGrav', 'PPTA']}],\n",
    " 'J2214+3000': [{'pta': ['NANOGrav']}],\n",
    " 'J2229+2643': [{'pta': ['EPTA']}],\n",
    " 'J2302+4442': [{'pta': ['NANOGrav']}],\n",
    " 'J2317+1439': [{'pta': ['EPTA', 'NANOGrav']}],\n",
    " 'J2322+2057': [{'pta': ['EPTA']}]}\n",
    "\n",
    "psrlist = []\n",
    "if NG: psrlist.extend([psr for psr in psrdict_all.keys() if 'NANOGrav' in psrdict_all[psr][0].values()[0]])\n",
    "if EPTA: psrlist.extend([psr for psr in psrdict_all.keys() if 'EPTA' in psrdict_all[psr][0].values()[0]])\n",
    "if PPTA: psrlist.extend([psr for psr in psrdict_all.keys() if 'PPTA' in psrdict_all[psr][0].values()[0]])\n",
    "if PPTA4: psrlist.extend([psr for psr in PPTA4_psrs])\n",
    "if len(specific_psrs): psrlist.extend([psr for psr in specific_psrs])\n",
    "psrlist = list(np.unique(psrlist))"
   ]
  },
  {
   "cell_type": "code",
   "execution_count": null,
   "metadata": {
    "collapsed": true
   },
   "outputs": [],
   "source": [
    "psrlist"
   ]
  },
  {
   "cell_type": "markdown",
   "metadata": {},
   "source": [
    "### Get par, tim, and noise files\n",
    "Here we collect the tim and par files as well as noise files made from the `PAL2` code. These are the same par, tim, and noise files used in the 9-year analysis papers. We use the convienience function above to convert from `PAL2` noise files to `enterprise` parameter dictionaries."
   ]
  },
  {
   "cell_type": "code",
   "execution_count": null,
   "metadata": {
    "collapsed": true
   },
   "outputs": [],
   "source": [
    "parfiles = sorted(glob.glob(datadir + '/*.par'))\n",
    "timfiles = sorted(glob.glob(datadir + '/*.tim'))\n",
    "\n",
    "# filter\n",
    "parfiles = [x for x in parfiles if x.split('/')[-1].split('.')[0] in psrlist]\n",
    "timfiles = [x for x in timfiles if x.split('/')[-1].split('.')[0] in psrlist]"
   ]
  },
  {
   "cell_type": "code",
   "execution_count": null,
   "metadata": {
    "collapsed": true
   },
   "outputs": [],
   "source": [
    "len(parfiles)"
   ]
  },
  {
   "cell_type": "markdown",
   "metadata": {},
   "source": [
    "### Load into Pulsar class list"
   ]
  },
  {
   "cell_type": "code",
   "execution_count": null,
   "metadata": {
    "collapsed": true
   },
   "outputs": [],
   "source": [
    "psrs = []\n",
    "for p, t in zip(parfiles, timfiles):\n",
    "    psr = Pulsar(p, t, ephem='DE436')\n",
    "    psrs.append(psr)"
   ]
  },
  {
   "cell_type": "markdown",
   "metadata": {},
   "source": [
    "### Get parameter dict from noisefiles"
   ]
  },
  {
   "cell_type": "code",
   "execution_count": null,
   "metadata": {
    "collapsed": true
   },
   "outputs": [],
   "source": [
    "noisefiles = [glob.glob(noisedir+'/*%s*.json'%psr) for psr in psrlist]\n",
    "noisefiles = [nf for psr in noisefiles for nf in psr]"
   ]
  },
  {
   "cell_type": "code",
   "execution_count": null,
   "metadata": {
    "collapsed": true
   },
   "outputs": [],
   "source": [
    "params = {}\n",
    "for nf in noisefiles:\n",
    "    with open(nf, 'r') as fin:\n",
    "        params.update(json.load(fin))"
   ]
  },
  {
   "cell_type": "markdown",
   "metadata": {},
   "source": [
    "### Set up model\n",
    "\n",
    "When setting up the model for our upper limit run we fix all of the white noise (EFAC, EQUAD, and ECORR) parameters to the values obtained from the noise files. This is done by using `Constant` parameters. In this case we do not specify a default value for all instances of that parameter but instead will set them, based on their initialized pulsar and backend specific name, later via the `set_default_params` method of `PTA`. \n",
    "\n",
    "Speaking of white noise parameters here, we also use the `Selection` object.\n",
    "\n",
    "Another feature to notice is that we do not use a uniform prior on the log of the red noise or GWB amplitude. Instead we use a `LinearExp` prior (short for linear-exponent prior), that is a prior of the form $p(x)\\propto 10^x$. This is how we can still use the log of the parameter to sample but place a uniform prior on the parameter itself. We do this for both the red noise and GWB amplitude parameters.\n",
    "\n",
    "Next, in order to save on computing time we do not include spatial correlations here. Instead we model the GWB as a common red process across all pulsars. In `enterprise` we can do this with a simple trick. We pre-initialize the parameters before passing them to the `Signal` model. In this way the *same* parameter instance is used for all pulsars. Lastly, we fixt the spectral index of the GWB to be 13/3 (4.33) using the `Constant` parameter."
   ]
  },
  {
   "cell_type": "markdown",
   "metadata": {},
   "source": [
    "## Setup model\n",
    "\n",
    "We will add some addition model components that are not part of the base enterprise"
   ]
  },
  {
   "cell_type": "markdown",
   "metadata": {},
   "source": [
    "### 1. Exponential decay function to model \"void\" in J1713+0747"
   ]
  },
  {
   "cell_type": "code",
   "execution_count": null,
   "metadata": {
    "collapsed": true
   },
   "outputs": [],
   "source": [
    "@signal_base.function\n",
    "def exp_decay(toas, freqs, log10_Amp=-7, t0=54000, log10_tau=1.7):\n",
    "    t0 *= const.day\n",
    "    tau = 10**log10_tau * const.day\n",
    "    wf = - 10**log10_Amp * np.heaviside(toas-t0, 1) * np.exp(-(toas-t0)/tau)\n",
    "    return wf * (1400/freqs)**2"
   ]
  },
  {
   "cell_type": "markdown",
   "metadata": {},
   "source": [
    "### 2. Yearly DM sinusoid"
   ]
  },
  {
   "cell_type": "code",
   "execution_count": null,
   "metadata": {
    "collapsed": true
   },
   "outputs": [],
   "source": [
    "@signal_base.function\n",
    "def yearly_sinusoid(toas, freqs, log10_Amp=-7, phase=0):\n",
    "\n",
    "    wf = 10**log10_Amp * np.sin(2*np.pi*const.fyr*toas+phase)\n",
    "    return wf * (1400/freqs)**2\n",
    "\n",
    "@signal_base.function\n",
    "def yearly_sinusoid_basis(toas, freqs):\n",
    "    \n",
    "    F = np.zeros((len(toas), 2))\n",
    "    F[:,0] = np.sin(2*np.pi*toas*const.fyr)\n",
    "    F[:,1] = np.cos(2*np.pi*toas*const.fyr)\n",
    "    \n",
    "    Dm = (1400/freqs)**2\n",
    "\n",
    "    return F * Dm[:, None], np.repeat(const.fyr, 2)\n",
    "\n",
    "@signal_base.function\n",
    "def yearly_sinusoid_prior(f):\n",
    "    return np.ones(len(f)) * 1e20"
   ]
  },
  {
   "cell_type": "markdown",
   "metadata": {},
   "source": [
    "### 3. DM EQUAD (EQUAD) term that scales like $\\nu^{-4}$ (variance remember...)"
   ]
  },
  {
   "cell_type": "code",
   "execution_count": null,
   "metadata": {
    "collapsed": true
   },
   "outputs": [],
   "source": [
    "# define DM EQUAD variance function\n",
    "@signal_base.function\n",
    "def dmequad_ndiag(freqs, log10_dmequad=-8):\n",
    "    return np.ones_like(freqs) * (1400/freqs)**4 * 10**(2*log10_dmequad)"
   ]
  },
  {
   "cell_type": "markdown",
   "metadata": {},
   "source": [
    "### 4. SVD timing model basis\n",
    "This allows for more stability over standard scaling methods"
   ]
  },
  {
   "cell_type": "code",
   "execution_count": null,
   "metadata": {
    "collapsed": true
   },
   "outputs": [],
   "source": [
    "# SVD timing model basis\n",
    "@signal_base.function\n",
    "def svd_tm_basis(Mmat):\n",
    "    u, s, v = np.linalg.svd(Mmat, full_matrices=False)\n",
    "    return u, np.ones_like(s)\n",
    "\n",
    "@signal_base.function\n",
    "def tm_prior(weights):\n",
    "    return weights * 10**40"
   ]
  },
  {
   "cell_type": "code",
   "execution_count": null,
   "metadata": {
    "collapsed": true
   },
   "outputs": [],
   "source": [
    "# find the maximum time span to set GW frequency sampling\n",
    "tmin = np.min([p.toas.min() for p in psrs]) # to find min and max of all TOAs, ... \n",
    "tmax = np.max([p.toas.max() for p in psrs]) # ... will use later to set sampling freq for GWB\n",
    "Tspan = tmax - tmin\n",
    "\n",
    "# define selection by observing backend\n",
    "backends = selections.Selection(selections.by_backend) #use later for white noise per backend system\n",
    "\n",
    "# special selection for ECORR only use wideband NANOGrav data\n",
    "NG_backends = selections.Selection(selections.nanograv_backends)\n",
    "\n",
    "# white noise parameters\n",
    "# since we are fixing these to values from the noise file we set\n",
    "# them as constant parameters\n",
    "efac = parameter.Constant()\n",
    "equad = parameter.Constant()\n",
    "ecorr = parameter.Constant()\n",
    "\n",
    "# red noise parameters\n",
    "log10_A = parameter.LinearExp(-20, -11) #sample linearly in the log of A\n",
    "gamma = parameter.Uniform(0, 7)\n",
    "\n",
    "# GW parameters (initialize with names here to use parameters in common across pulsars)\n",
    "log10_A_gw = parameter.LinearExp(-18,-12)('log10_A_gw') \n",
    "gamma_gw = parameter.Constant(4.33)('gamma_gw')\n",
    "\n",
    "# DM turnover parameters\n",
    "kappa = parameter.Uniform(0,7)\n",
    "lf0 = parameter.Uniform(-9, -6.5)\n",
    "log10_A_DM = parameter.Uniform(-20, -11)\n",
    "\n",
    "# DM exponential parameters\n",
    "t0 = parameter.Uniform(tmin/86400, tmax/86400) #this is for the NANOGrav DM event specifically \n",
    "log10_Amp = parameter.Uniform(-10, -2)\n",
    "log10_tau = parameter.Uniform(np.log10(5), np.log10(500)) #units of days; 5 days, 500 days\n",
    "\n",
    "# DM sinusoid parameters\n",
    "#log10_Amp_s = parameter.Uniform(-10, -2)\n",
    "#phase = parameter.Uniform(0, 2*np.pi)\n",
    "\n",
    "# white noise signals\n",
    "\n",
    "# DM EQUAD\n",
    "#dmvariance = dmequad_ndiag(log10_dmequad=equad)\n",
    "#dmeq = white_signals.WhiteNoise(dmvariance)\n",
    "\n",
    "# white noise\n",
    "ef = white_signals.MeasurementNoise(efac=efac, selection=backends) #EFAC, break it up by backend\n",
    "eq = white_signals.EquadNoise(log10_equad=equad, selection=backends)\n",
    "ec = white_signals.EcorrKernelNoise(log10_ecorr=ecorr, selection=NG_backends) #only ECORR in NG backends\n",
    "\n",
    "# red noise (powerlaw with 30 frequencies)\n",
    "pl = utils.powerlaw(log10_A=log10_A, gamma=gamma) #pl = power law\n",
    "rn = gp_signals.FourierBasisGP(spectrum=pl, components=30, Tspan=Tspan) \n",
    "\n",
    "\n",
    "# DM GP signals (use turnover model for more flexibility)\n",
    "dm_basis = utils.createfourierdesignmatrix_dm(nmodes=30)\n",
    "dm_prior = utils.turnover(log10_A=log10_A_DM, gamma=gamma, lf0=lf0, kappa=kappa)\n",
    "dmgp = gp_signals.BasisGP(dm_prior, dm_basis, name='dm')\n",
    "\n",
    "\n",
    "# DM exponential model\n",
    "wf = exp_decay(log10_Amp=log10_Amp, t0=t0, log10_tau=log10_tau) #recall tau is decay time\n",
    "dmexp = deterministic_signals.Deterministic(wf, name='exp')\n",
    "\n",
    "# DM sinusoid model\n",
    "ys_prior = yearly_sinusoid_prior()\n",
    "ys_basis = yearly_sinusoid_basis()\n",
    "dmys = gp_signals.BasisGP(ys_prior, ys_basis, name='s1yr')\n",
    "\n",
    "# gwb (no spatial correlations)\n",
    "cpl = utils.powerlaw(log10_A=log10_A_gw, gamma=gamma_gw)\n",
    "gw = gp_signals.FourierBasisGP(spectrum=cpl, components=30, Tspan=Tspan)\n",
    "\n",
    "# for spatial correltions you can do...\n",
    "#orf = utils.hd_orf()\n",
    "#crn = gp_signals.FourierBasisCommonGP(cpl, orf, components=30, name='gw', Tspan=Tspan)\n",
    "\n",
    "# to add solar system ephemeris modeling...\n",
    "eph = deterministic_signals.PhysicalEphemerisSignal(use_epoch_toas=True)\n",
    "\n",
    "# timing model\n",
    "basis = svd_tm_basis()\n",
    "prior = tm_prior()\n",
    "tm = gp_signals.BasisGP(prior, basis)\n",
    "#tm = gp_signals.TimingModel()\n",
    "\n",
    "# full model\n",
    "#s = ef + eq + rn + tm + dmgp + dmys #+ dmeq\n",
    "s = ef + eq + rn + tm + dmgp + dmys + eph + gw #+ dmeq\n",
    "\n",
    "# intialize PTA, adding an exponential dip for the DM event in J1713+0747\n",
    "models = []\n",
    "\n",
<<<<<<< HEAD
=======
    "# FIX THIS SO THAT 1713 CAN BE NON-NANOGRAV\n",
>>>>>>> 77082d267d2122ed4e7eca698c7c3bd69be277d5
    "for p in psrs:\n",
    "    if p.name == 'J1713+0747' and p.flags['pta'] == 'NANOGrav':\n",
    "        s_prime = s + dmexp + ec\n",
    "        models.append(s_prime(p))\n",
    "    elif p.name == 'J1713+0747':\n",
    "        s_prime = s + dmexp\n",
    "        models.append(s_prime(p))\n",
    "    elif p.flags['pta'] == 'NANOGrav':\n",
    "        s_prime = s + ec\n",
    "        models.append(s_prime(p))\n",
    "    else:\n",
    "        models.append(s(p))\n",
    "    \n",
    "pta = signal_base.PTA(models)"
   ]
  },
  {
   "cell_type": "markdown",
   "metadata": {},
   "source": [
    "### Set white noise parameters"
   ]
  },
  {
   "cell_type": "code",
   "execution_count": null,
   "metadata": {
    "collapsed": true,
    "scrolled": true
   },
   "outputs": [],
   "source": [
    "pta.set_default_params(params)"
   ]
  },
  {
   "cell_type": "markdown",
   "metadata": {},
   "source": [
    "### Set initial parameters drawn from prior and evaluate likelihood to fill caches\n",
    "\n",
    "Evaluating the likelihood is not necessary, the caches will be filled the first time it is called within the sampler if not called here."
   ]
  },
  {
   "cell_type": "code",
   "execution_count": null,
   "metadata": {
    "collapsed": true
   },
   "outputs": [],
   "source": [
    "xs = {par.name: par.sample() for par in pta.params}\n",
    "print pta.get_lnlikelihood(xs);\n",
    "print pta.get_lnprior(xs);"
   ]
  },
  {
   "cell_type": "code",
   "execution_count": null,
   "metadata": {
    "collapsed": true
   },
   "outputs": [],
   "source": [
    "x0 = np.hstack(p.sample() for p in pta.params)\n",
    "ndim = len(x0)"
   ]
  },
  {
   "cell_type": "markdown",
   "metadata": {},
   "source": [
    "### Set up sampler"
   ]
  },
  {
   "cell_type": "code",
   "execution_count": null,
   "metadata": {
    "collapsed": true
   },
   "outputs": [],
   "source": [
    "# dimension of parameter space\n",
    "#ndim = len(xs)\n",
    "\n",
    "# initial jump covariance matrix\n",
    "cov = np.diag(np.ones(ndim) * 0.01**2)\n",
    "\n",
    "# set up jump groups by red noise groups \n",
    "\n",
    "groups = get_parameter_groups(pta)\n",
    "\n",
    "sampler = ptmcmc(ndim, pta.get_lnlikelihood, pta.get_lnprior, cov, groups=groups, \n",
    "                 outDir=outdir,resume=resume_chains)"
   ]
  },
  {
   "cell_type": "markdown",
   "metadata": {},
   "source": [
    "### Sample!"
   ]
  },
  {
   "cell_type": "code",
   "execution_count": null,
   "metadata": {
    "collapsed": true
   },
   "outputs": [],
   "source": [
    "x0 = np.hstack(p.sample() for p in pta.params)\n",
    "jp = JumpProposal(pta)\n",
    "sampler.addProposalToCycle(jp.draw_from_prior, 15)\n",
    "sampler.addProposalToCycle(jp.draw_from_ephem_prior, 15)\n",
    "sampler.addProposalToCycle(jp.draw_from_gwb_log_uniform_prior, 10)\n",
    "sampler.sample(x0, nsamp, SCAMweight=30, AMweight=15, DEweight=50)"
   ]
  },
  {
   "cell_type": "markdown",
   "metadata": {},
   "source": [
    "### Plot output"
   ]
  },
  {
   "cell_type": "code",
   "execution_count": null,
   "metadata": {
    "collapsed": true
   },
   "outputs": [],
   "source": [
    "chain = np.loadtxt(outdir + '/chain_1.txt')\n",
    "#pars = sorted(xs.keys())\n",
    "burn = int(0.25 * chain.shape[0])"
   ]
  },
  {
   "cell_type": "code",
   "execution_count": null,
   "metadata": {
    "collapsed": true
   },
   "outputs": [],
   "source": [
    "plt.hist(chain[burn:,-5], 50, normed=True, histtype='step', lw=2);\n",
    "#plt.xlabel(pars[-1]);"
   ]
  },
  {
   "cell_type": "markdown",
   "metadata": {
    "collapsed": true
   },
   "source": [
    "### Upper limit value\n",
    "\n",
    "We see that the upper limit agrees perfectly with the published value."
   ]
  },
  {
   "cell_type": "code",
   "execution_count": null,
   "metadata": {
    "collapsed": true
   },
   "outputs": [],
   "source": [
    "upper = 10**np.percentile(chain[burn:, -5], q=95)\n",
    "print(upper)"
   ]
  },
  {
   "cell_type": "code",
   "execution_count": null,
   "metadata": {
    "collapsed": true
   },
   "outputs": [],
   "source": []
  }
 ],
 "metadata": {
  "anaconda-cloud": {},
  "kernelspec": {
   "display_name": "Python 2",
   "language": "python",
   "name": "python2"
  },
  "language_info": {
   "codemirror_mode": {
    "name": "ipython",
    "version": 2
   },
   "file_extension": ".py",
   "mimetype": "text/x-python",
   "name": "python",
   "nbconvert_exporter": "python",
   "pygments_lexer": "ipython2",
   "version": "2.7.13"
  },
  "toc": {
   "nav_menu": {},
   "number_sections": true,
   "sideBar": true,
   "skip_h1_title": false,
   "toc_cell": false,
   "toc_position": {},
   "toc_section_display": "block",
   "toc_window_display": false
  }
 },
 "nbformat": 4,
 "nbformat_minor": 2
}
